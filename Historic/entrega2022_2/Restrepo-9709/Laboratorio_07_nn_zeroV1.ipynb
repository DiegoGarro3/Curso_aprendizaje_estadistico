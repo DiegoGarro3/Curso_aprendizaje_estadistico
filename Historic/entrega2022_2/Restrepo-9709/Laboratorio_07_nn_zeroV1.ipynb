{
 "cells": [
  {
   "cell_type": "code",
   "execution_count": 1,
   "metadata": {
    "id": "pRgo1ME0pauT"
   },
   "outputs": [],
   "source": [
    "import pandas as pd\n",
    "import scipy as sc\n",
    "import numpy as np\n",
    "import h5py\n",
    "import matplotlib.pylab as plt"
   ]
  },
  {
   "cell_type": "markdown",
   "metadata": {
    "id": "c6GPOdoLjBAC"
   },
   "source": [
    "Construyamos una red neuronal con una capa de entrada, una capa de salida con una red y L-1 redes ocultas.\n",
    "\n",
    "# Con m datos de entrenamientos.\n",
    "\n",
    "Para $m$ datos de entrenamiento, las expresión anteriores pueden ser resumidas en las siguientes ecuaciones\n",
    "\n",
    "\n",
    "\n",
    "\\begin{equation}\n",
    "\\begin{bmatrix}\n",
    "z_1^{(0)}  &z_1^{(1)} & .&.& .&z_1^{(m)}\\\\\n",
    "z_2^{(0)}  &z_2^{(1)} &. &.&  .&z_2^{(m)}\\\\\n",
    ".          & .        &. & &   &.      \\\\\n",
    ".          & .        &  &. &   &.      \\\\\n",
    ".          & .        &  &  & .&      \\\\\n",
    "z_{n^{[l]}}^{(0)}&z_{n^{[l]}}^{(1)} & . & .& .& z_{n^{[l]}}^{(m)}        \\\\\n",
    "\\end{bmatrix}^{[l]}=\n",
    "\\begin{bmatrix}\n",
    "\\theta_{11} & \\theta_{12} & . & .& .& \\theta_{1n^{[l-1]}}\\\\\n",
    "\\theta_{21} & \\theta_{22} & . & .& .& \\theta_{2n^{[l-1]}}\\\\\n",
    ". & .  & . &   & & .\\\\\n",
    ". & .  &   & . & & .\\\\\n",
    ". & .  &   &  & .& .\\\\\n",
    "\\theta_{n^{[l]}1} & \\theta_{n^{[l]}2} & . & .& .& \\theta_{n^{[l]}n^{[l-1]}}\\\\\n",
    "\\end{bmatrix}^{[l]}_{n^{[l]} \\times n^{[l-1]}}\n",
    "\\begin{bmatrix}\n",
    "a_1^{(0)}  &a_1^{(1)} & .&.& .&a_1^{(m)}\\\\\n",
    "a_2^{(0)}  &a_2^{(1)} &. &.&  .&a_2^{(m)}\\\\\n",
    ".          & .        &. & &   &.      \\\\\n",
    ".          & .        &  &. &   &.      \\\\\n",
    ".          & .        &  &  & .&      \\\\\n",
    "a_{n^{[L-1]}}^{(0)}&a_{n^{[L-1]}}^{(1)} & . & .& .& a_{n^{[L-1]}}^{(m)}        \\\\\n",
    "\\end{bmatrix}^{[l-1]} +\n",
    "\\begin{bmatrix}\n",
    "b_1 \\\\\n",
    "b_2 \\\\\n",
    ". \\\\\n",
    ". \\\\\n",
    ". \\\\\n",
    "b_{n^{[l]}}\\\\\n",
    "\\end{bmatrix}^{[l]} \n",
    "\\end{equation}\n",
    "\n",
    "\n",
    "Escrito de una formas mas compacta tenemos que:\n",
    "\n",
    "\n",
    "\\begin{equation}\n",
    "[ \\vec{Z}^{[l](0)},\\vec{Z}^{[l](1)},...,\\vec{Z}^{[l](m)}  ]= \\Theta^{[l]} [\\vec{A}^{[l-1](0)},\\vec{A}^{[l-1](1)},...,\\vec{A}^{[l-1](m)} ]+ \\vec{b}^{[l]}\n",
    "\\end{equation}\n",
    "\n",
    "Aplicando la funcion de activación:\n",
    "\n",
    "\\begin{equation}\n",
    "[\\vec{A}^{[l](0)},\\vec{A}^{[l](1)},...,\\vec{A}^{[l](m)} ]=f([\\vec{Z}^{[l](0)},\\vec{Z}^{[l](1)},...,\\vec{Z}^{[l](m)}  ]) \n",
    "\\end{equation}\n",
    "\n",
    "Las dimensiones de las expresiones anteriores, pueden ser resumidas en lo siguiente:\n",
    "\n",
    "$\\mathrm{dim(\\vec{\\cal{Z}}^{[l]})}=n^{[l]}\\times m $\n",
    "\n",
    "$\\mathrm{dim(\\vec{\\Theta}^{[l]})}=n^{[l]}\\times n^{[l-1]}$\n",
    "\n",
    "$\\mathrm{dim(\\vec{\\cal{A}}^{[l]})}=n^{[l-1]}\\times m $\n",
    "\n",
    "$\\mathrm{dim(\\vec{b}^{[l]})}=n^{[l]}$\n",
    "\n",
    "\n"
   ]
  },
  {
   "cell_type": "markdown",
   "metadata": {
    "id": "QPCHleHyjGL5"
   },
   "source": [
    "## Topologia de la red.\n",
    "\n",
    "1. Construir un algorítmo que permita definir una red neuronal con la topología\n",
    "deseada y la función de activación para cada capa:\n",
    "\n",
    "Topology = [n_x, n_h1, n_h2, n_h3, ...,n_y]\n",
    "\n",
    "activation=[None, relu, relu, relu, ...,sigmoid]\n",
    "\n",
    "  - $\\mathrm{n_x}$: valores de entrada\n",
    "  - $\\mathrm{n_{h1}}$: hidden layer 1 \n",
    "  - $\\mathrm{n_{h2}}$: hidden layer 2\n",
    "  - $\\mathrm{n_y}$: last layer \n",
    "\n",
    "\n",
    "\n",
    "Se sugiere para cada capa emplear programación orientada a objetos definida de la siguiente manera:\n",
    "\n",
    "```\n",
    "class layer_nn():\n",
    "  def __init__(self, act_fun, nlayer_present, nlayer_before):\n",
    "    self.theta = 2*np.random.random((nlayer_present, nlayer_before)) - 1\n",
    "    self.B = 2*np.random.random((nlayer_present,1)) - 1\n",
    "    self.act_fun = act_fun\n",
    "\n",
    "  def output(self, Z, A):\n",
    "    self.Z = Z\n",
    "    self.A = A\n",
    "\n",
    "\n",
    "\n",
    "def act_function(x, activation):\n",
    "  if activation==\"sigmoid\":\n",
    "    f = lambda x: 1/(1+np.exp(-x))\n",
    "    fp = f(x)*(1-f(x))\n",
    "    return f, fp\n",
    "  \n",
    "  elif activation == \"tanh\":\n",
    "    f = lambda x: np.tanh\n",
    "    return tanh\n",
    "  else :\n",
    "    return 0\n",
    "```\n",
    "    \n",
    "\n",
    "2. Construir un generalizacion de la red, en el que entrada el valor inicial \n",
    "y la red neuronal completa arroje la salida y la actualizacion de la red con los parametros deseados:\n",
    "\n",
    "  ```\n",
    "  A, nn = forward_pass(A0, nn_red)\n",
    "\n",
    " ```\n",
    "3. Encontrar la funcion de coste.\n",
    "\n",
    "\n",
    "$$-\\frac{1}{m} \\sum\\limits_{i = 1}^{m} (y^{(i)}\\log\\left(a^{[L] (i)}\\right) + (1-y^{(i)})\\log\\left(1- a^{[L](i)}\\right)) \\tag{7}$$\n",
    "\n",
    "\n",
    "4. Construir un codigo que permita realizar el BackwardPropagation \n",
    "\n",
    "\n",
    "# Backward Propagation\n",
    "\n",
    "Para una capa $l$ arbitraria tenemos que:\n",
    "\n",
    "- \\begin{equation}\n",
    "d\\Theta^{[l]} =  d{\\cal Z}^{(i)[l]} Trans(A)^{(i)[l-1]} = dA^{(i)[l]} f'({\\cal Z}^{(i)[l]} ) Trans(A)^{(i)[l-1]}\n",
    "\\end{equation}\n",
    "\n",
    "- \\begin{equation}\n",
    "db^{[l]} =  d{\\cal Z}^{(i)[L]}  = dA^{(i)[l]} f'({\\cal Z}^{(i)[l]} ) \n",
    "\\end{equation}\n",
    "```\n",
    "db_L =  m_*np.sum(dZ, axis=1, keepdims=True)\n",
    "```\n",
    "Los valores de dA pueden ser escritos como:\n",
    "- \\begin{equation}\n",
    "dA^{(i)[l-1]} = \\Theta^{l} \\cdot dZ^{(i)[l]}\n",
    "\\end{equation}\n",
    "\n",
    "\n",
    "\n",
    "\n",
    "\n",
    "$ dZ^{[l]} = dA^{[l]} * f'^{[l]} (Z^{[l]}) $\n",
    "$ d\\Theta^{[l]} = \\frac{\\partial \\mathcal{J} }{\\partial \\Theta^{[l]}} = \\frac{1}{m} dZ^{[l]} A^{[l-1] T} \\tag{1}$\n",
    "$ db^{[l]} = \\frac{\\partial \\mathcal{J} }{\\partial b^{[l]}} = \\frac{1}{m} \\sum_{i = 1}^{m} dZ^{[l](i)}\\tag{2}$\n",
    "$ dA^{[l-1]} = \\frac{\\partial \\mathcal{L} }{\\partial A^{[l-1]}} = \\theta^{[l] T} dZ^{[l]} \\tag{3}$\n",
    "\n",
    "\n",
    "Para la capa L esima: \n",
    "\n",
    "```\n",
    "dAL = -(np.divide(Y, A) - np.divide(1 - Y, 1 - A))\n",
    "```\n",
    "\n",
    "# Aplicacion gradiente descendente\n",
    "\n",
    "$$ \\Theta^{[l]} = \\Theta^{[l]} - \\alpha \\text{ } d\\Theta^{[l]} \\tag{16}$$\n",
    "$$ b^{[l]} = b^{[l]} - \\alpha \\text{ } db^{[l]} \\tag{17}$$\n"
   ]
  },
  {
   "cell_type": "code",
   "execution_count": 2,
   "metadata": {
    "id": "onnQT24Upcx1"
   },
   "outputs": [],
   "source": [
    "class layer_nn():\n",
    "  \"\"\"\n",
    "  Definición de la capas de la red neuronal \n",
    "  e inicializacion de parametros. \n",
    "  \"\"\"\n",
    "\n",
    "  def __init__(self,act_fun, n_layer_present, n_layer_before ):    \n",
    "    self.W = 2*np.random.random((n_layer_before,n_layer_present)) - 1\n",
    "    self.B = 2*np.random.random((n_layer_present,1)) - 1\n",
    "    self.act_fun = act_fun\n",
    "\n",
    "  def output(self, Z,A, Ap):\n",
    "    self.Z = Z\n",
    "    self.A = A\n",
    "    self.Ap = Ap\n",
    "\n",
    "  def derivates(self, dW, db):\n",
    "    self.dW = dW\n",
    "    self.db = db\n",
    "\n",
    "@np.vectorize\n",
    "def relu(x):\n",
    "  if(x>=0):\n",
    "    return x\n",
    "  else :\n",
    "    return 0\n",
    "\n",
    "@np.vectorize\n",
    "def reluP(x):\n",
    "  if(x>=0):\n",
    "    return 1\n",
    "  else :\n",
    "    return 0\n",
    "\n",
    "def sigmoide(x):      \n",
    "  f= lambda x: 1/(1+np.exp(-x))\n",
    "  return f(x)\n",
    "\n",
    "def act_function(x, activation):        \n",
    "    if activation == \"sigmoid\":\n",
    "        f = sigmoide(x)\n",
    "        fp = sigmoide(x)*(1-sigmoide(x))\n",
    "    elif activation == \"tanh\":\n",
    "        f = lambda x: np.tanh(x)\n",
    "\n",
    "    elif activation == \"relu\":\n",
    "        f = relu(x)\n",
    "        fp = reluP(x)\n",
    "    \n",
    "    return f, fp\n",
    "    \n",
    "\n",
    "def forward_pass(input, nn_red):\n",
    "  A0 = input  \n",
    "  nn_red_update = []\n",
    "  \n",
    "  for layer in nn_red: \n",
    "    Z = layer.W.T@A0 + layer.B    \n",
    "    A, Ap = act_function(Z, layer.act_fun)        \n",
    "    layer.output(Z, A, Ap)    \n",
    "    nn_red_update.append(layer)\n",
    "    A0 = A        \n",
    "  return A, nn_red_update\n",
    "\n",
    "\n",
    "def cost_Function(A, Y):\n",
    "  m = Y.shape[0]\n",
    "  m_ = 1/m\n",
    "  cost = Y*np.log(A)+(1-Y)*np.log(1-A)\n",
    "  cost = -m_*cost.sum()\n",
    "  return cost\n",
    "\n",
    "def backward_propagation(AL,Y,nn):\n",
    "  L = len(nn) - 1\n",
    "  \n",
    "  dAL = -(np.divide(Y, AL) - np.divide(1 - Y, 1 - AL))\n",
    "  fp = nn[L].Ap \n",
    "  dZ = dAL*fp  \n",
    "  m_ = 1/np.shape(Y)[0]\n",
    "\n",
    "  dW_L = m_*dZ@nn[L-1].Ap.T\n",
    "  db_L = m_*np.sum(dZ, axis=1, keepdims=True)\n",
    "\n",
    "  nn[L].dW=dW_L\n",
    "  nn[L].db=db_L\n",
    "\n",
    "  dAL_1 = np.dot(nn[L].W, dZ)\n",
    "\n",
    "  for l in reversed(range(1,L)):\n",
    "#    dAL_1 = dAL \n",
    "    fp = nn[l].Ap\n",
    "    dZ_1 = dAL_1*fp\n",
    "    dW_L1 = m_*dZ_1@nn[l-1].Ap.T\n",
    "    db_L1 = m_*np.sum(dZ_1, axis=1, keepdims=True)\n",
    "    \n",
    "   # dAL = dAL_1.copy()\n",
    "    \n",
    "    nn[l].dW=dW_L1\n",
    "    nn[l].db=db_L1\n",
    "    dAL_1 = np.dot(nn[l].W,dZ_1)\n",
    "  return nn\n",
    "\n",
    "\n",
    "def update_params(nn, learning_rate):  \n",
    "  L=len(nn)\n",
    "  for l in range(1, L):    \n",
    "    nn[l].W = nn[l].W - learning_rate*nn[l].dW.T  \n",
    "    nn[l].B = nn[l].B - learning_rate*nn[l].db\n",
    "  return nn\n",
    "\n",
    "def red_neuronal(topology, act_fn):\n",
    "  nn_red = []\n",
    "  L = len(topology)\n",
    "  for i in range(1, L):  \n",
    "    nn_red.append(layer_nn(act_fn[i],topology[i],topology[i-1] ) )  \n",
    "  return nn_red\n"
   ]
  },
  {
   "cell_type": "code",
   "execution_count": 3,
   "metadata": {
    "id": "q1zzHdlSpeRV"
   },
   "outputs": [],
   "source": [
    "n_x = 12288# -- size of the input layer\n",
    "#n_h = # -- size of the hidden layer\n",
    "n_y = 1# -- size of the output layer\n"
   ]
  },
  {
   "cell_type": "code",
   "execution_count": 4,
   "metadata": {
    "id": "ySGq43G4pe0p"
   },
   "outputs": [],
   "source": [
    "# Read the data\n",
    "data_train= \"Curso_aprendizaje_estadistico/Assesment/dataset/train_catvnoncat.h5\"\n",
    "train_dataset = h5py.File(data_train, \"r\")\n",
    " \n",
    "data_test= \"Curso_aprendizaje_estadistico/Assesment/dataset/test_catvnoncat.h5\"\n",
    "test_dataset = h5py.File(data_test, \"r\")\n",
    "\n",
    "xtrain_classes, xtrain, train_label =\\\n",
    "train_dataset[\"list_classes\"],train_dataset[\"train_set_x\"],train_dataset[\"train_set_y\"]\n",
    "\n",
    "test_classes, xtest,test_label =\\\n",
    "test_dataset[\"list_classes\"],test_dataset[\"test_set_x\"],test_dataset[\"test_set_y\"]\n",
    "\n",
    "xtrain_= np.reshape(xtrain,(209, 64*64*3))/255\n",
    "xtest_ = np.reshape(xtest,(50, 64*64*3))/255\n",
    "\n",
    "topology = [n_x,2,2,3,1]\n",
    "act_fn   = [None,\"relu\", \"relu\", \"relu\",\"sigmoid\" ]\n",
    "\n",
    "nn_red = red_neuronal(topology, act_fn)\n"
   ]
  },
  {
   "cell_type": "code",
   "execution_count": 5,
   "metadata": {
    "colab": {
     "base_uri": "https://localhost:8080/",
     "height": 282
    },
    "id": "RFhuxjfqpkS5",
    "outputId": "ccd78f8b-f14d-48e1-f507-84da90a6df03"
   },
   "outputs": [
    {
     "data": {
      "text/plain": [
       "[<matplotlib.lines.Line2D at 0x7fc115381518>]"
      ]
     },
     "execution_count": 5,
     "metadata": {},
     "output_type": "execute_result"
    },
    {
     "data": {
      "image/png": "[encoded data removed]",
      "text/plain": [
       "<Figure size 432x288 with 1 Axes>"
      ]
     },
     "metadata": {
      "needs_background": "light"
     },
     "output_type": "display_data"
    }
   ],
   "source": [
    "Aini = xtrain_.T\n",
    "Y = np.array(train_label)\n",
    "A, nn = forward_pass(Aini, nn_red)\n",
    "\n",
    "Max_iter = 500\n",
    "J = np.zeros(Max_iter)\n",
    "J[0] = cost_Function(A, np.array(train_label))\n",
    "\n",
    "for i in range(1,Max_iter):\n",
    "  nn = backward_propagation(A, Y, nn)\n",
    "  nn = update_params(nn, 0.005)  \n",
    "  A, nn = forward_pass(Aini, nn)\n",
    "  J[i] = cost_Function(A, np.array(train_label))\n",
    "\n",
    "plt.plot(J,\"ro-\")\n",
    "  "
   ]
  },
  {
   "cell_type": "code",
   "execution_count": 6,
   "metadata": {
    "id": "8WkrFTaSpkXS"
   },
   "outputs": [],
   "source": [
    "out = A<0.5*1"
   ]
  },
  {
   "cell_type": "code",
   "execution_count": 7,
   "metadata": {
    "id": "4aURM6hEVr6c"
   },
   "outputs": [],
   "source": [
    "ones_nn = (out*1==1)\n",
    "Y_nn = (Y==1)\n",
    "zeros_nn = (out*1==0)\n",
    "Y_nn = (Y==0)"
   ]
  },
  {
   "cell_type": "code",
   "execution_count": 8,
   "metadata": {
    "colab": {
     "base_uri": "https://localhost:8080/"
    },
    "id": "MhyVpam6WS-u",
    "outputId": "670cfa12-aca7-44bd-8419-93680330a386"
   },
   "outputs": [
    {
     "name": "stdout",
     "output_type": "stream",
     "text": [
      "34.44976076555024\n"
     ]
    }
   ],
   "source": [
    "print((Y_nn==zeros_nn).sum()*100/len(Y_nn))"
   ]
  },
  {
   "cell_type": "code",
   "execution_count": 9,
   "metadata": {
    "colab": {
     "base_uri": "https://localhost:8080/"
    },
    "id": "r8uAAhFvXBt3",
    "outputId": "660a9df3-54e1-4e36-f458-3d7748c54ad1"
   },
   "outputs": [
    {
     "name": "stdout",
     "output_type": "stream",
     "text": [
      "65.55023923444976\n"
     ]
    }
   ],
   "source": [
    "print((Y_nn==ones_nn).sum()*100/len(Y_nn))"
   ]
  },
  {
   "cell_type": "markdown",
   "metadata": {},
   "source": [
    "# NN usando sklearn"
   ]
  },
  {
   "cell_type": "code",
   "execution_count": 17,
   "metadata": {
    "colab": {
     "base_uri": "https://localhost:8080/"
    },
    "id": "2Efl9BgIXycz",
    "outputId": "16735e46-4846-4298-9a31-89a57bbd5f88"
   },
   "outputs": [
    {
     "data": {
      "text/plain": [
       "MLPClassifier(alpha=3, hidden_layer_sizes=(3, 5, 5), learning_rate_init=0.5,\n",
       "              max_iter=2000, random_state=1, solver='lbfgs')"
      ]
     },
     "execution_count": 17,
     "metadata": {},
     "output_type": "execute_result"
    }
   ],
   "source": [
    "from sklearn.neural_network import MLPClassifier\n",
    "\n",
    "X = xtrain_\n",
    "y = np.array(train_label)\n",
    "clf = MLPClassifier(solver='lbfgs', learning_rate_init = 0.5, alpha = 3, hidden_layer_sizes=(3,5,5),max_iter = 2000, random_state=1)\n",
    "\n",
    "clf.fit(X, y)\n",
    "#MLPClassifier(alpha=1e-05, hidden_layer_sizes=(5, 2), random_state=1,solver='lbfgs')"
   ]
  },
  {
   "cell_type": "code",
   "execution_count": 18,
   "metadata": {
    "colab": {
     "base_uri": "https://localhost:8080/"
    },
    "id": "MEPqy0svaoyg",
    "outputId": "7c6a8e49-11dd-487e-dd5d-8ee3e0ae2bb0"
   },
   "outputs": [
    {
     "data": {
      "text/plain": [
       "99.04306220095694"
      ]
     },
     "execution_count": 18,
     "metadata": {},
     "output_type": "execute_result"
    }
   ],
   "source": [
    "(clf.score(X, y))*100"
   ]
  },
  {
   "cell_type": "code",
   "execution_count": 19,
   "metadata": {},
   "outputs": [
    {
     "data": {
      "text/plain": [
       "array([1, 1, 1, 0, 0, 1, 0, 1, 1, 1, 0, 1, 1, 0, 0, 1, 0, 1, 0, 0, 1, 0,\n",
       "       0, 1, 1, 1, 0, 0, 0, 1, 0, 1, 1, 1, 1, 0, 0, 1, 0, 0, 1, 0, 1, 0,\n",
       "       1, 0, 0, 1, 1, 0])"
      ]
     },
     "execution_count": 19,
     "metadata": {},
     "output_type": "execute_result"
    }
   ],
   "source": [
    "clf.predict(xtest_)"
   ]
  },
  {
   "cell_type": "code",
   "execution_count": 20,
   "metadata": {},
   "outputs": [
    {
     "data": {
      "text/plain": [
       "array([1, 1, 1, 1, 1, 0, 1, 1, 1, 1, 1, 1, 1, 0, 0, 1, 0, 1, 1, 1, 1, 0,\n",
       "       0, 1, 1, 1, 1, 0, 1, 0, 1, 1, 1, 1, 0, 0, 0, 1, 0, 0, 1, 1, 1, 0,\n",
       "       0, 0, 1, 1, 1, 0])"
      ]
     },
     "execution_count": 20,
     "metadata": {},
     "output_type": "execute_result"
    }
   ],
   "source": [
    "np.array(test_label)"
   ]
  },
  {
   "cell_type": "code",
   "execution_count": 21,
   "metadata": {},
   "outputs": [
    {
     "data": {
      "text/plain": [
       "70.0"
      ]
     },
     "execution_count": 21,
     "metadata": {},
     "output_type": "execute_result"
    }
   ],
   "source": [
    "clf.score(xtest_,test_label)*100"
   ]
  },
  {
   "cell_type": "code",
   "execution_count": 22,
   "metadata": {},
   "outputs": [
    {
     "data": {
      "text/plain": [
       "array([[3.75561602e-02, 9.62443840e-01],\n",
       "       [1.59275757e-01, 8.40724243e-01],\n",
       "       [2.03329550e-01, 7.96670450e-01],\n",
       "       [6.23140357e-01, 3.76859643e-01],\n",
       "       [6.88328641e-01, 3.11671359e-01],\n",
       "       [2.23263573e-01, 7.76736427e-01],\n",
       "       [9.99627054e-01, 3.72945833e-04],\n",
       "       [2.92946810e-01, 7.07053190e-01],\n",
       "       [3.75624705e-02, 9.62437530e-01],\n",
       "       [1.00830568e-01, 8.99169432e-01],\n",
       "       [7.06749510e-01, 2.93250490e-01],\n",
       "       [2.97594280e-01, 7.02405720e-01],\n",
       "       [7.29198338e-02, 9.27080166e-01],\n",
       "       [8.55435066e-01, 1.44564934e-01],\n",
       "       [9.99955642e-01, 4.43584243e-05],\n",
       "       [1.49342317e-01, 8.50657683e-01],\n",
       "       [9.84364788e-01, 1.56352122e-02],\n",
       "       [3.75710726e-02, 9.62428927e-01],\n",
       "       [9.96413695e-01, 3.58630527e-03],\n",
       "       [9.99971167e-01, 2.88333271e-05],\n",
       "       [4.08168453e-02, 9.59183155e-01],\n",
       "       [8.79211146e-01, 1.20788854e-01],\n",
       "       [9.98981116e-01, 1.01888399e-03],\n",
       "       [6.37584011e-02, 9.36241599e-01],\n",
       "       [1.34580548e-01, 8.65419452e-01],\n",
       "       [2.38329614e-01, 7.61670386e-01],\n",
       "       [9.96317404e-01, 3.68259646e-03],\n",
       "       [9.99139829e-01, 8.60170544e-04],\n",
       "       [9.51934754e-01, 4.80652456e-02],\n",
       "       [5.55318545e-02, 9.44468146e-01],\n",
       "       [8.68927055e-01, 1.31072945e-01],\n",
       "       [1.63265633e-01, 8.36734367e-01],\n",
       "       [2.50830077e-01, 7.49169923e-01],\n",
       "       [2.21578789e-01, 7.78421211e-01],\n",
       "       [5.76730450e-02, 9.42326955e-01],\n",
       "       [9.75118654e-01, 2.48813461e-02],\n",
       "       [9.71955908e-01, 2.80440921e-02],\n",
       "       [4.03271648e-01, 5.96728352e-01],\n",
       "       [8.95920357e-01, 1.04079643e-01],\n",
       "       [9.87350476e-01, 1.26495239e-02],\n",
       "       [3.43167455e-01, 6.56832545e-01],\n",
       "       [9.99882712e-01, 1.17288195e-04],\n",
       "       [1.00100281e-01, 8.99899719e-01],\n",
       "       [9.94091535e-01, 5.90846515e-03],\n",
       "       [3.75561602e-02, 9.62443840e-01],\n",
       "       [8.85031561e-01, 1.14968439e-01],\n",
       "       [8.14654475e-01, 1.85345525e-01],\n",
       "       [3.75561602e-02, 9.62443840e-01],\n",
       "       [3.75648974e-02, 9.62435103e-01],\n",
       "       [9.28756375e-01, 7.12436250e-02]])"
      ]
     },
     "execution_count": 22,
     "metadata": {},
     "output_type": "execute_result"
    }
   ],
   "source": [
    "clf.predict_proba(xtest_)"
   ]
  },
  {
   "cell_type": "code",
   "execution_count": null,
   "metadata": {},
   "outputs": [],
   "source": []
  },
  {
   "cell_type": "code",
   "execution_count": null,
   "metadata": {},
   "outputs": [],
   "source": []
  }
 ],
 "metadata": {
  "colab": {
   "collapsed_sections": [],
   "name": "Sesion_10_nn_routines.ipynb",
   "provenance": []
  },
  "kernelspec": {
   "display_name": "Python 3 (ipykernel)",
   "language": "python",
   "name": "python3"
  },
  "language_info": {
   "codemirror_mode": {
    "name": "ipython",
    "version": 3
   },
   "file_extension": ".py",
   "mimetype": "text/x-python",
   "name": "python",
   "nbconvert_exporter": "python",
   "pygments_lexer": "ipython3",
   "version": "3.7.3"
  }
 },
 "nbformat": 4,
 "nbformat_minor": 1
}
