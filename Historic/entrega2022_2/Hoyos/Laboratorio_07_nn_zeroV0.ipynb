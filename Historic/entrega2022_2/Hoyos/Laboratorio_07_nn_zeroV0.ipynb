{
 "cells": [
  {
   "cell_type": "code",
   "execution_count": 13,
   "metadata": {
    "id": "UG0R-DxjnBhn"
   },
   "outputs": [],
   "source": [
    "import pandas as pd\n",
    "import scipy as sc\n",
    "import numpy as np\n",
    "import h5py\n",
    "import matplotlib.pylab as plt"
   ]
  },
  {
   "cell_type": "code",
   "execution_count": 27,
   "metadata": {
    "id": "u3DbUInju5bB"
   },
   "outputs": [],
   "source": [
    "data_train= \"/home/samuel/Documents/Machine_learning/Aprendizaje_estadistico/Curso_aprendizaje_estadistico/Tareas/Hoyos/dataset/train_catvnoncat.h5\"\n",
    "train_dataset = h5py.File(data_train, \"r\")\n",
    " \n",
    "data_test= \"/home/samuel/Documents/Machine_learning/Aprendizaje_estadistico/Curso_aprendizaje_estadistico/Tareas/Hoyos/dataset/test_catvnoncat.h5\"\n",
    "test_dataset = h5py.File(data_test, \"r\")\n"
   ]
  },
  {
   "cell_type": "code",
   "execution_count": 28,
   "metadata": {
    "colab": {
     "base_uri": "https://localhost:8080/"
    },
    "id": "vXXeE1af2OJx",
    "outputId": "b4ebae21-ffee-4ad2-e2af-888cf2643b46"
   },
   "outputs": [
    {
     "data": {
      "text/plain": [
       "<KeysViewHDF5 ['list_classes', 'train_set_x', 'train_set_y']>"
      ]
     },
     "execution_count": 28,
     "metadata": {},
     "output_type": "execute_result"
    }
   ],
   "source": [
    "train_dataset.keys()"
   ]
  },
  {
   "cell_type": "code",
   "execution_count": 29,
   "metadata": {
    "id": "-1hat8N62M4e"
   },
   "outputs": [],
   "source": [
    "# Read the data\n",
    "xtrain_classes, xtrain, train_label =\\\n",
    "train_dataset[\"list_classes\"],train_dataset[\"train_set_x\"],train_dataset[\"train_set_y\"]\n",
    "\n",
    "test_classes, xtest,test_label =\\\n",
    "test_dataset[\"list_classes\"],test_dataset[\"test_set_x\"],test_dataset[\"test_set_y\"]\n"
   ]
  },
  {
   "cell_type": "code",
   "execution_count": 30,
   "metadata": {
    "colab": {
     "base_uri": "https://localhost:8080/"
    },
    "id": "d2mgfnsTvC2a",
    "outputId": "8f9d16bf-3ff6-45dd-cfd1-ef84a814dc90"
   },
   "outputs": [
    {
     "data": {
      "text/plain": [
       "(209, 64, 64, 3)"
      ]
     },
     "execution_count": 30,
     "metadata": {},
     "output_type": "execute_result"
    }
   ],
   "source": [
    "np.shape(xtrain)"
   ]
  },
  {
   "cell_type": "code",
   "execution_count": 31,
   "metadata": {
    "colab": {
     "base_uri": "https://localhost:8080/",
     "height": 286
    },
    "id": "qC1DrIWiu--B",
    "outputId": "651da76d-5c8f-4d76-d9d9-59b3482f9fea"
   },
   "outputs": [
    {
     "data": {
      "text/plain": [
       "<matplotlib.image.AxesImage at 0x7f992241dcd0>"
      ]
     },
     "execution_count": 31,
     "metadata": {},
     "output_type": "execute_result"
    },
    {
     "data": {
      "image/png": "[encoded data removed]",
      "text/plain": [
       "<Figure size 432x288 with 1 Axes>"
      ]
     },
     "metadata": {
      "needs_background": "light"
     },
     "output_type": "display_data"
    }
   ],
   "source": [
    "plt.imshow(xtrain[208])"
   ]
  },
  {
   "cell_type": "code",
   "execution_count": 32,
   "metadata": {
    "colab": {
     "base_uri": "https://localhost:8080/"
    },
    "id": "9pxd8cOX4Xk6",
    "outputId": "ec69f092-b895-476a-d7c2-e74daaefdb4a"
   },
   "outputs": [
    {
     "data": {
      "text/plain": [
       "(64, 64, 3)"
      ]
     },
     "execution_count": 32,
     "metadata": {},
     "output_type": "execute_result"
    }
   ],
   "source": [
    "np.shape(xtrain[0])"
   ]
  },
  {
   "cell_type": "code",
   "execution_count": 33,
   "metadata": {
    "colab": {
     "base_uri": "https://localhost:8080/"
    },
    "id": "Du9z2Uxb4cJR",
    "outputId": "fd23442f-6f30-443f-b697-b6bbc13ae667"
   },
   "outputs": [
    {
     "data": {
      "text/plain": [
       "array([17, 31, 56, ...,  0,  0,  0], dtype=uint8)"
      ]
     },
     "execution_count": 33,
     "metadata": {},
     "output_type": "execute_result"
    }
   ],
   "source": [
    "np.reshape(xtrain[0], 64*64*3)"
   ]
  },
  {
   "cell_type": "code",
   "execution_count": 34,
   "metadata": {
    "id": "vhMaDzC0vVPp"
   },
   "outputs": [],
   "source": [
    "xtrain_= np.reshape(xtrain,(209, 64*64*3))/255\n",
    "xtest_ = np.reshape(xtest,(50, 64*64*3))/255"
   ]
  },
  {
   "cell_type": "code",
   "execution_count": 35,
   "metadata": {
    "colab": {
     "base_uri": "https://localhost:8080/"
    },
    "id": "UADlx19ivW3z",
    "outputId": "8acfdb8e-66c0-4a94-a15e-8287125beb80"
   },
   "outputs": [
    {
     "data": {
      "text/plain": [
       "12288"
      ]
     },
     "execution_count": 35,
     "metadata": {},
     "output_type": "execute_result"
    }
   ],
   "source": [
    "len(xtrain_[208])"
   ]
  },
  {
   "cell_type": "code",
   "execution_count": 36,
   "metadata": {
    "colab": {
     "base_uri": "https://localhost:8080/"
    },
    "id": "FeSx2i9B4_f3",
    "outputId": "6d98ada9-5a75-4a66-9704-e80a33cb76b0"
   },
   "outputs": [
    {
     "data": {
      "text/plain": [
       "12288"
      ]
     },
     "execution_count": 36,
     "metadata": {},
     "output_type": "execute_result"
    }
   ],
   "source": [
    "64*64*3"
   ]
  },
  {
   "cell_type": "markdown",
   "metadata": {
    "id": "i97z3Eofni2T"
   },
   "source": [
    "Construyamos una red neuronal con una capa de entrada, una capa de salida con una red y L-1 redes ocultas.\n",
    "\n",
    "# Con m datos de entrenamientos.\n",
    "\n",
    "Para $m$ datos de entrenamiento, las expresión anteriores pueden ser resumidas en las siguientes ecuaciones\n",
    "\n",
    "\n",
    "\n",
    "\\begin{equation}\n",
    "\\begin{bmatrix}\n",
    "z_1^{(0)}  &z_1^{(1)} & .&.& .&z_1^{(m)}\\\\\n",
    "z_2^{(0)}  &z_2^{(1)} &. &.&  .&z_2^{(m)}\\\\\n",
    ".          & .        &. & &   &.      \\\\\n",
    ".          & .        &  &. &   &.      \\\\\n",
    ".          & .        &  &  & .&      \\\\\n",
    "z_{n^{[l]}}^{(0)}&z_{n^{[l]}}^{(1)} & . & .& .& z_{n^{[l]}}^{(m)}        \\\\\n",
    "\\end{bmatrix}^{[l]}=\n",
    "\\begin{bmatrix}\n",
    "\\theta_{11} & \\theta_{12} & . & .& .& \\theta_{1n^{[l-1]}}\\\\\n",
    "\\theta_{21} & \\theta_{22} & . & .& .& \\theta_{2n^{[l-1]}}\\\\\n",
    ". & .  & . &   & & .\\\\\n",
    ". & .  &   & . & & .\\\\\n",
    ". & .  &   &  & .& .\\\\\n",
    "\\theta_{n^{[l]}1} & \\theta_{n^{[l]}2} & . & .& .& \\theta_{n^{[l]}n^{[l-1]}}\\\\\n",
    "\\end{bmatrix}^{[l]}_{n^{[l]} \\times n^{[l-1]}}\n",
    "\\begin{bmatrix}\n",
    "a_1^{(0)}  &a_1^{(1)} & .&.& .&a_1^{(m)}\\\\\n",
    "a_2^{(0)}  &a_2^{(1)} &. &.&  .&a_2^{(m)}\\\\\n",
    ".          & .        &. & &   &.      \\\\\n",
    ".          & .        &  &. &   &.      \\\\\n",
    ".          & .        &  &  & .&      \\\\\n",
    "a_{n^{[L-1]}}^{(0)}&a_{n^{[L-1]}}^{(1)} & . & .& .& a_{n^{[L-1]}}^{(m)}        \\\\\n",
    "\\end{bmatrix}^{[l-1]} +\n",
    "\\begin{bmatrix}\n",
    "b_1 \\\\\n",
    "b_2 \\\\\n",
    ". \\\\\n",
    ". \\\\\n",
    ". \\\\\n",
    "b_{n^{[l]}}\\\\\n",
    "\\end{bmatrix}^{[l]} \n",
    "\\end{equation}\n",
    "\n",
    "\n",
    "Escrito de una formas mas compacta tenemos que:\n",
    "\n",
    "\n",
    "\\begin{equation}\n",
    "[ \\vec{Z}^{[l](0)},\\vec{Z}^{[l](1)},...,\\vec{Z}^{[l](m)}  ]= \\Theta^{[l]} [\\vec{A}^{[l-1](0)},\\vec{A}^{[l-1](1)},...,\\vec{A}^{[l-1](m)} ]+ \\vec{b}^{[l]}\n",
    "\\end{equation}\n",
    "\n",
    "Aplicando la funcion de activación:\n",
    "\n",
    "\\begin{equation}\n",
    "[\\vec{A}^{[l](0)},\\vec{A}^{[l](1)},...,\\vec{A}^{[l](m)} ]=f([\\vec{Z}^{[l](0)},\\vec{Z}^{[l](1)},...,\\vec{Z}^{[l](m)}  ]) \n",
    "\\end{equation}\n",
    "\n",
    "Las dimensiones de las expresiones anteriores, pueden ser resumidas en lo siguiente:\n",
    "\n",
    "$\\mathrm{dim(\\vec{\\cal{Z}}^{[l]})}=n^{[l]}\\times m $\n",
    "\n",
    "$\\mathrm{dim(\\vec{\\Theta}^{[l]})}=n^{[l]}\\times n^{[l-1]}$\n",
    "\n",
    "$\\mathrm{dim(\\vec{\\cal{A}}^{[l]})}=n^{[l-1]}\\times m $\n",
    "\n",
    "$\\mathrm{dim(\\vec{b}^{[l]})}=n^{[l]}$\n",
    "\n",
    "\n"
   ]
  },
  {
   "cell_type": "markdown",
   "metadata": {
    "id": "VYQt5vHfnuEo"
   },
   "source": [
    "## Topologia de la red.\n",
    "\n",
    "1. Construir un algorítmo que permita definir una red neuronal con la topología\n",
    "deseada y la función de activación para cada capa:\n",
    "\n",
    "Topology = [n_x, n_h1, n_h2, n_h3, ...,n_y]\n",
    "\n",
    "activation=[None, relu, relu, relu, ...,sigmoid]\n",
    "\n",
    "  - $\\mathrm{n_x}$: valores de entrada\n",
    "  - $\\mathrm{n_{h1}}$: hidden layer 1 \n",
    "  - $\\mathrm{n_{h2}}$: hidden layer 2\n",
    "  - $\\mathrm{n_y}$: last layer \n",
    "\n",
    "\n",
    "\n",
    "Se sugiere para cada capa emplear programación orientada a objetos definida de la siguiente manera:\n",
    "\n",
    "```\n",
    "class layer_nn():\n",
    "  def __init__(self, act_fun, nlayer_present, nlayer_before):\n",
    "    self.theta = 2*np.random.random((nlayer_present, nlayer_before)) - 1\n",
    "    self.B = 2*np.random.random((nlayer_present,1)) - 1\n",
    "    self.act_fun = act_fun\n",
    "\n",
    "  def output(self, Z, A):\n",
    "    self.Z = Z\n",
    "    self.A = A\n",
    "\n",
    "\n",
    "\n",
    "def act_function(x, activation):\n",
    "  if activation==\"sigmoid\":\n",
    "    f = lambda x: 1/(1+np.exp(-x))\n",
    "    fp = f(x)*(1-f(x))\n",
    "    return f, fp\n",
    "  \n",
    "  elif activation == \"tanh\":\n",
    "    f = lambda x: np.tanh\n",
    "    return tanh\n",
    "  else :\n",
    "    return 0\n",
    "```\n",
    "    \n",
    "\n",
    "2. Construir un generalizacion de la red, en el que entrada el valor inicial \n",
    "y la red neuronal completa arroje la salida y la actualizacion de la red con los parametros deseados:\n",
    "\n",
    "  ```\n",
    "  A, nn = forward_pass(A0, nn_red)\n",
    "\n",
    " ```\n",
    "3. Encontrar la funcion de coste.\n",
    "\n",
    "\n",
    "$$-\\frac{1}{m} \\sum\\limits_{i = 1}^{m} (y^{(i)}\\log\\left(a^{[L] (i)}\\right) + (1-y^{(i)})\\log\\left(1- a^{[L](i)}\\right)) \\tag{7}$$\n",
    "\n",
    "\n",
    "4. Construir un codigo que permita realizar el BackwardPropagation \n",
    "\n",
    "\n",
    "# Backward Propagation\n",
    "\n",
    "Para una capa $l$ arbitraria tenemos que:\n",
    "\n",
    "- \\begin{equation}\n",
    "d\\Theta^{[l]} =  d{\\cal Z}^{(i)[l]} Trans(A)^{(i)[l-1]} = dA^{(i)[l]} f'({\\cal Z}^{(i)[l]} ) Trans(A)^{(i)[l-1]}\n",
    "\\end{equation}\n",
    "\n",
    "- \\begin{equation}\n",
    "db^{[l]} =  d{\\cal Z}^{(i)[L]}  = dA^{(i)[l]} f'({\\cal Z}^{(i)[l]} ) \n",
    "\\end{equation}\n",
    "```\n",
    "db_L =  m_*np.sum(dZ, axis=1, keepdims=True)\n",
    "```\n",
    "Los valores de dA pueden ser escritos como:\n",
    "- \\begin{equation}\n",
    "dA^{(i)[l-1]} = \\Theta^{l} \\cdot dZ^{(i)[l]}\n",
    "\\end{equation}\n",
    "\n",
    "\n",
    "\n",
    "\n",
    "\n",
    "$ dZ^{[l]} = dA^{[l]} * f'^{[l]} (Z^{[l]}) $\n",
    "$ d\\Theta^{[l]} = \\frac{\\partial \\mathcal{J} }{\\partial \\Theta^{[l]}} = \\frac{1}{m} dZ^{[l]} A^{[l-1] T} \\tag{1}$\n",
    "$ db^{[l]} = \\frac{\\partial \\mathcal{J} }{\\partial b^{[l]}} = \\frac{1}{m} \\sum_{i = 1}^{m} dZ^{[l](i)}\\tag{2}$\n",
    "$ dA^{[l-1]} = \\frac{\\partial \\mathcal{L} }{\\partial A^{[l-1]}} = \\theta^{[l] T} dZ^{[l]} \\tag{3}$\n",
    "\n",
    "\n",
    "Para la capa L esima: \n",
    "\n",
    "```\n",
    "dAL = -(np.divide(Y, A) - np.divide(1 - Y, 1 - A))\n",
    "```\n",
    "\n",
    "# Aplicacion gradiente descendente\n",
    "\n",
    "$$ \\Theta^{[l]} = \\Theta^{[l]} - \\alpha \\text{ } d\\Theta^{[l]} \\tag{16}$$\n",
    "$$ b^{[l]} = b^{[l]} - \\alpha \\text{ } db^{[l]} \\tag{17}$$\n"
   ]
  },
  {
   "cell_type": "code",
   "execution_count": 37,
   "metadata": {
    "id": "iJ6nN2u86m96"
   },
   "outputs": [],
   "source": [
    "import numpy as np\n",
    "import sympy as sp"
   ]
  },
  {
   "cell_type": "code",
   "execution_count": 38,
   "metadata": {
    "id": "yYLiLYdJ6pTi"
   },
   "outputs": [],
   "source": [
    "m = 2*np.random.random((2, 2)) - 1"
   ]
  },
  {
   "cell_type": "code",
   "execution_count": 39,
   "metadata": {
    "colab": {
     "base_uri": "https://localhost:8080/",
     "height": 58
    },
    "id": "TUQd7N_f6x9c",
    "outputId": "4276f91a-d2f5-439a-ed9c-fa1c0988f77b"
   },
   "outputs": [
    {
     "data": {
      "text/latex": [
       "$\\displaystyle \\left[\\begin{matrix}0.153251477529942 & -0.500410293589282\\\\-0.970206313854998 & -0.746940038266971\\end{matrix}\\right]$"
      ],
      "text/plain": [
       "Matrix([\n",
       "[ 0.153251477529942, -0.500410293589282],\n",
       "[-0.970206313854998, -0.746940038266971]])"
      ]
     },
     "execution_count": 39,
     "metadata": {},
     "output_type": "execute_result"
    }
   ],
   "source": [
    "sp.Matrix(m)"
   ]
  },
  {
   "cell_type": "code",
   "execution_count": 40,
   "metadata": {
    "id": "KFd5WyKz6ayE"
   },
   "outputs": [],
   "source": [
    "class layer_nn():\n",
    "  def __init__(self, func_act, nn_present, nn_before):\n",
    "    np.random.seed(0) \n",
    "    self.theta = 2*np.random.random((nn_present, nn_before)) - 1\n",
    "    self.b = 2*np.random.random((nn_present, 1))-1\n",
    "    self.func_acti = func_act\n",
    "\n",
    "  def output(self, A, Z):\n",
    "    self.A = A\n",
    "    self.Z = Z\n",
    "\n",
    "\n",
    "def activation_function(name, x):\n",
    "  if (name==\"sigmoid\"):\n",
    "    f = lambda x: 1/(1+np.exp(-x))\n",
    "    fp = f(x)*(1-f(x))\n",
    "    return f(x), fp\n",
    "  \n",
    "  elif (name==\"tanh\"):\n",
    "    f =  lambda x: np.tanh(x)\n",
    "    return f(x)\n",
    "  else :\n",
    "    return \"Error\"\n"
   ]
  },
  {
   "cell_type": "code",
   "execution_count": 67,
   "metadata": {
    "colab": {
     "base_uri": "https://localhost:8080/",
     "height": 640
    },
    "id": "vL33IT5U9Xn8",
    "outputId": "f62001a5-f3da-4d9d-9828-6d1fd4766ccd"
   },
   "outputs": [
    {
     "ename": "ValueError",
     "evalue": "x and y must have same first dimension, but have shapes (100,) and (2, 100)",
     "output_type": "error",
     "traceback": [
      "\u001b[0;31m---------------------------------------------------------------------------\u001b[0m",
      "\u001b[0;31mValueError\u001b[0m                                Traceback (most recent call last)",
      "\u001b[0;32m<ipython-input-67-8fd5dd7de53a>\u001b[0m in \u001b[0;36m<module>\u001b[0;34m\u001b[0m\n\u001b[1;32m      1\u001b[0m \u001b[0mx\u001b[0m \u001b[0;34m=\u001b[0m \u001b[0mnp\u001b[0m\u001b[0;34m.\u001b[0m\u001b[0mlinspace\u001b[0m\u001b[0;34m(\u001b[0m\u001b[0;34m-\u001b[0m\u001b[0;36m10\u001b[0m\u001b[0;34m,\u001b[0m \u001b[0;36m10\u001b[0m\u001b[0;34m,\u001b[0m \u001b[0;36m100\u001b[0m\u001b[0;34m)\u001b[0m\u001b[0;34m\u001b[0m\u001b[0;34m\u001b[0m\u001b[0m\n\u001b[0;32m----> 2\u001b[0;31m \u001b[0mplt\u001b[0m\u001b[0;34m.\u001b[0m\u001b[0mplot\u001b[0m\u001b[0;34m(\u001b[0m\u001b[0mx\u001b[0m\u001b[0;34m,\u001b[0m \u001b[0mactivation_function\u001b[0m\u001b[0;34m(\u001b[0m\u001b[0;34m\"sigmoid\"\u001b[0m\u001b[0;34m,\u001b[0m \u001b[0mx\u001b[0m\u001b[0;34m)\u001b[0m\u001b[0;34m)\u001b[0m\u001b[0;34m\u001b[0m\u001b[0;34m\u001b[0m\u001b[0m\n\u001b[0m",
      "\u001b[0;32m~/.local/lib/python3.8/site-packages/matplotlib/pyplot.py\u001b[0m in \u001b[0;36mplot\u001b[0;34m(scalex, scaley, data, *args, **kwargs)\u001b[0m\n\u001b[1;32m   3017\u001b[0m \u001b[0;34m@\u001b[0m\u001b[0m_copy_docstring_and_deprecators\u001b[0m\u001b[0;34m(\u001b[0m\u001b[0mAxes\u001b[0m\u001b[0;34m.\u001b[0m\u001b[0mplot\u001b[0m\u001b[0;34m)\u001b[0m\u001b[0;34m\u001b[0m\u001b[0;34m\u001b[0m\u001b[0m\n\u001b[1;32m   3018\u001b[0m \u001b[0;32mdef\u001b[0m \u001b[0mplot\u001b[0m\u001b[0;34m(\u001b[0m\u001b[0;34m*\u001b[0m\u001b[0margs\u001b[0m\u001b[0;34m,\u001b[0m \u001b[0mscalex\u001b[0m\u001b[0;34m=\u001b[0m\u001b[0;32mTrue\u001b[0m\u001b[0;34m,\u001b[0m \u001b[0mscaley\u001b[0m\u001b[0;34m=\u001b[0m\u001b[0;32mTrue\u001b[0m\u001b[0;34m,\u001b[0m \u001b[0mdata\u001b[0m\u001b[0;34m=\u001b[0m\u001b[0;32mNone\u001b[0m\u001b[0;34m,\u001b[0m \u001b[0;34m**\u001b[0m\u001b[0mkwargs\u001b[0m\u001b[0;34m)\u001b[0m\u001b[0;34m:\u001b[0m\u001b[0;34m\u001b[0m\u001b[0;34m\u001b[0m\u001b[0m\n\u001b[0;32m-> 3019\u001b[0;31m     return gca().plot(\n\u001b[0m\u001b[1;32m   3020\u001b[0m         \u001b[0;34m*\u001b[0m\u001b[0margs\u001b[0m\u001b[0;34m,\u001b[0m \u001b[0mscalex\u001b[0m\u001b[0;34m=\u001b[0m\u001b[0mscalex\u001b[0m\u001b[0;34m,\u001b[0m \u001b[0mscaley\u001b[0m\u001b[0;34m=\u001b[0m\u001b[0mscaley\u001b[0m\u001b[0;34m,\u001b[0m\u001b[0;34m\u001b[0m\u001b[0;34m\u001b[0m\u001b[0m\n\u001b[1;32m   3021\u001b[0m         **({\"data\": data} if data is not None else {}), **kwargs)\n",
      "\u001b[0;32m~/.local/lib/python3.8/site-packages/matplotlib/axes/_axes.py\u001b[0m in \u001b[0;36mplot\u001b[0;34m(self, scalex, scaley, data, *args, **kwargs)\u001b[0m\n\u001b[1;32m   1603\u001b[0m         \"\"\"\n\u001b[1;32m   1604\u001b[0m         \u001b[0mkwargs\u001b[0m \u001b[0;34m=\u001b[0m \u001b[0mcbook\u001b[0m\u001b[0;34m.\u001b[0m\u001b[0mnormalize_kwargs\u001b[0m\u001b[0;34m(\u001b[0m\u001b[0mkwargs\u001b[0m\u001b[0;34m,\u001b[0m \u001b[0mmlines\u001b[0m\u001b[0;34m.\u001b[0m\u001b[0mLine2D\u001b[0m\u001b[0;34m)\u001b[0m\u001b[0;34m\u001b[0m\u001b[0;34m\u001b[0m\u001b[0m\n\u001b[0;32m-> 1605\u001b[0;31m         \u001b[0mlines\u001b[0m \u001b[0;34m=\u001b[0m \u001b[0;34m[\u001b[0m\u001b[0;34m*\u001b[0m\u001b[0mself\u001b[0m\u001b[0;34m.\u001b[0m\u001b[0m_get_lines\u001b[0m\u001b[0;34m(\u001b[0m\u001b[0;34m*\u001b[0m\u001b[0margs\u001b[0m\u001b[0;34m,\u001b[0m \u001b[0mdata\u001b[0m\u001b[0;34m=\u001b[0m\u001b[0mdata\u001b[0m\u001b[0;34m,\u001b[0m \u001b[0;34m**\u001b[0m\u001b[0mkwargs\u001b[0m\u001b[0;34m)\u001b[0m\u001b[0;34m]\u001b[0m\u001b[0;34m\u001b[0m\u001b[0;34m\u001b[0m\u001b[0m\n\u001b[0m\u001b[1;32m   1606\u001b[0m         \u001b[0;32mfor\u001b[0m \u001b[0mline\u001b[0m \u001b[0;32min\u001b[0m \u001b[0mlines\u001b[0m\u001b[0;34m:\u001b[0m\u001b[0;34m\u001b[0m\u001b[0;34m\u001b[0m\u001b[0m\n\u001b[1;32m   1607\u001b[0m             \u001b[0mself\u001b[0m\u001b[0;34m.\u001b[0m\u001b[0madd_line\u001b[0m\u001b[0;34m(\u001b[0m\u001b[0mline\u001b[0m\u001b[0;34m)\u001b[0m\u001b[0;34m\u001b[0m\u001b[0;34m\u001b[0m\u001b[0m\n",
      "\u001b[0;32m~/.local/lib/python3.8/site-packages/matplotlib/axes/_base.py\u001b[0m in \u001b[0;36m__call__\u001b[0;34m(self, data, *args, **kwargs)\u001b[0m\n\u001b[1;32m    313\u001b[0m                 \u001b[0mthis\u001b[0m \u001b[0;34m+=\u001b[0m \u001b[0margs\u001b[0m\u001b[0;34m[\u001b[0m\u001b[0;36m0\u001b[0m\u001b[0;34m]\u001b[0m\u001b[0;34m,\u001b[0m\u001b[0;34m\u001b[0m\u001b[0;34m\u001b[0m\u001b[0m\n\u001b[1;32m    314\u001b[0m                 \u001b[0margs\u001b[0m \u001b[0;34m=\u001b[0m \u001b[0margs\u001b[0m\u001b[0;34m[\u001b[0m\u001b[0;36m1\u001b[0m\u001b[0;34m:\u001b[0m\u001b[0;34m]\u001b[0m\u001b[0;34m\u001b[0m\u001b[0;34m\u001b[0m\u001b[0m\n\u001b[0;32m--> 315\u001b[0;31m             \u001b[0;32myield\u001b[0m \u001b[0;32mfrom\u001b[0m \u001b[0mself\u001b[0m\u001b[0;34m.\u001b[0m\u001b[0m_plot_args\u001b[0m\u001b[0;34m(\u001b[0m\u001b[0mthis\u001b[0m\u001b[0;34m,\u001b[0m \u001b[0mkwargs\u001b[0m\u001b[0;34m)\u001b[0m\u001b[0;34m\u001b[0m\u001b[0;34m\u001b[0m\u001b[0m\n\u001b[0m\u001b[1;32m    316\u001b[0m \u001b[0;34m\u001b[0m\u001b[0m\n\u001b[1;32m    317\u001b[0m     \u001b[0;32mdef\u001b[0m \u001b[0mget_next_color\u001b[0m\u001b[0;34m(\u001b[0m\u001b[0mself\u001b[0m\u001b[0;34m)\u001b[0m\u001b[0;34m:\u001b[0m\u001b[0;34m\u001b[0m\u001b[0;34m\u001b[0m\u001b[0m\n",
      "\u001b[0;32m~/.local/lib/python3.8/site-packages/matplotlib/axes/_base.py\u001b[0m in \u001b[0;36m_plot_args\u001b[0;34m(self, tup, kwargs, return_kwargs)\u001b[0m\n\u001b[1;32m    499\u001b[0m \u001b[0;34m\u001b[0m\u001b[0m\n\u001b[1;32m    500\u001b[0m         \u001b[0;32mif\u001b[0m \u001b[0mx\u001b[0m\u001b[0;34m.\u001b[0m\u001b[0mshape\u001b[0m\u001b[0;34m[\u001b[0m\u001b[0;36m0\u001b[0m\u001b[0;34m]\u001b[0m \u001b[0;34m!=\u001b[0m \u001b[0my\u001b[0m\u001b[0;34m.\u001b[0m\u001b[0mshape\u001b[0m\u001b[0;34m[\u001b[0m\u001b[0;36m0\u001b[0m\u001b[0;34m]\u001b[0m\u001b[0;34m:\u001b[0m\u001b[0;34m\u001b[0m\u001b[0;34m\u001b[0m\u001b[0m\n\u001b[0;32m--> 501\u001b[0;31m             raise ValueError(f\"x and y must have same first dimension, but \"\n\u001b[0m\u001b[1;32m    502\u001b[0m                              f\"have shapes {x.shape} and {y.shape}\")\n\u001b[1;32m    503\u001b[0m         \u001b[0;32mif\u001b[0m \u001b[0mx\u001b[0m\u001b[0;34m.\u001b[0m\u001b[0mndim\u001b[0m \u001b[0;34m>\u001b[0m \u001b[0;36m2\u001b[0m \u001b[0;32mor\u001b[0m \u001b[0my\u001b[0m\u001b[0;34m.\u001b[0m\u001b[0mndim\u001b[0m \u001b[0;34m>\u001b[0m \u001b[0;36m2\u001b[0m\u001b[0;34m:\u001b[0m\u001b[0;34m\u001b[0m\u001b[0;34m\u001b[0m\u001b[0m\n",
      "\u001b[0;31mValueError\u001b[0m: x and y must have same first dimension, but have shapes (100,) and (2, 100)"
     ]
    },
    {
     "data": {
      "image/png": "[encoded data removed]",
      "text/plain": [
       "<Figure size 432x288 with 1 Axes>"
      ]
     },
     "metadata": {
      "needs_background": "light"
     },
     "output_type": "display_data"
    }
   ],
   "source": [
    "x = np.linspace(-10, 10, 100)\n",
    "plt.plot(x, activation_function(\"sigmoid\", x))"
   ]
  },
  {
   "cell_type": "code",
   "execution_count": null,
   "metadata": {
    "colab": {
     "base_uri": "https://localhost:8080/"
    },
    "id": "GjeBX-ee6kdN",
    "outputId": "41476485-1fea-46e8-f169-54dc4dc7ae5b"
   },
   "outputs": [],
   "source": [
    "64*64*3"
   ]
  },
  {
   "cell_type": "code",
   "execution_count": 42,
   "metadata": {
    "id": "k58a0ir596AH"
   },
   "outputs": [],
   "source": [
    "nx = 12288\n",
    "Topology = [nx,3, 4, 7, 1 ]"
   ]
  },
  {
   "cell_type": "code",
   "execution_count": 43,
   "metadata": {
    "id": "W678uce87jGy"
   },
   "outputs": [],
   "source": [
    "# self.theta = 2*np.random.random((nn_present, nn_before)) - 1\n",
    "# def __init__(self, func_act, nn_present, nn_before):\n",
    "l1 = layer_nn(\"sigmoid\",3, nx)\n",
    "l2 = layer_nn(\"sigmoid\", 4, 3)\n",
    "l3 = layer_nn(\"sigmoid\", 7, 4)\n",
    "l4 = layer_nn(\"sigmoid\",1, 7)\n"
   ]
  },
  {
   "cell_type": "code",
   "execution_count": 44,
   "metadata": {
    "id": "F7fVzNf4-gTO"
   },
   "outputs": [],
   "source": [
    "# Incializacion de la arquitectura de la red \n",
    "red_nn = [l1, l2, l3, l4]"
   ]
  },
  {
   "cell_type": "code",
   "execution_count": 45,
   "metadata": {
    "colab": {
     "base_uri": "https://localhost:8080/",
     "height": 35
    },
    "id": "D5MAYMla7d_V",
    "outputId": "cebefe03-6ea6-4fc1-9554-75510772168c"
   },
   "outputs": [
    {
     "data": {
      "text/plain": [
       "'sigmoid'"
      ]
     },
     "execution_count": 45,
     "metadata": {},
     "output_type": "execute_result"
    }
   ],
   "source": [
    "red_nn[0].func_acti"
   ]
  },
  {
   "cell_type": "code",
   "execution_count": 46,
   "metadata": {
    "id": "PAanbTzg_2TG"
   },
   "outputs": [],
   "source": [
    "# Valores iniciales \n",
    "A0 = xtrain_.T"
   ]
  },
  {
   "cell_type": "code",
   "execution_count": 47,
   "metadata": {
    "colab": {
     "base_uri": "https://localhost:8080/"
    },
    "id": "T-6Mu55Q7om7",
    "outputId": "7f827559-baad-4d89-c5f9-a29f63d773dc"
   },
   "outputs": [
    {
     "data": {
      "text/plain": [
       "(12288, 209)"
      ]
     },
     "execution_count": 47,
     "metadata": {},
     "output_type": "execute_result"
    }
   ],
   "source": [
    "np.shape(A0)"
   ]
  },
  {
   "cell_type": "code",
   "execution_count": 48,
   "metadata": {
    "id": "U0DIH9H6AKkG"
   },
   "outputs": [],
   "source": [
    "#np.shape(l1.theta)"
   ]
  },
  {
   "cell_type": "code",
   "execution_count": 49,
   "metadata": {
    "colab": {
     "base_uri": "https://localhost:8080/"
    },
    "id": "ssKqromEAfCk",
    "outputId": "984b2853-fc0f-479c-80ce-2191c0ab5317"
   },
   "outputs": [
    {
     "data": {
      "text/plain": [
       "(3, 209)"
      ]
     },
     "execution_count": 49,
     "metadata": {},
     "output_type": "execute_result"
    }
   ],
   "source": [
    "np.shape(l1.theta@A0)"
   ]
  },
  {
   "cell_type": "code",
   "execution_count": 50,
   "metadata": {
    "colab": {
     "base_uri": "https://localhost:8080/"
    },
    "id": "pg-VDTe__klE",
    "outputId": "704e5895-f12b-465d-b2c7-224f974b7ffb"
   },
   "outputs": [
    {
     "data": {
      "text/plain": [
       "(3, 209)"
      ]
     },
     "execution_count": 50,
     "metadata": {},
     "output_type": "execute_result"
    }
   ],
   "source": [
    "np.shape(l1.theta@A0 )"
   ]
  },
  {
   "cell_type": "code",
   "execution_count": 51,
   "metadata": {
    "colab": {
     "base_uri": "https://localhost:8080/"
    },
    "id": "GCaeG0wC_knr",
    "outputId": "6cefaf96-72b1-48e6-8087-482a19d33a5f"
   },
   "outputs": [
    {
     "data": {
      "text/plain": [
       "(3, 209)"
      ]
     },
     "execution_count": 51,
     "metadata": {},
     "output_type": "execute_result"
    }
   ],
   "source": [
    "np.shape(l1.b.repeat(209, axis = 1))"
   ]
  },
  {
   "cell_type": "markdown",
   "metadata": {
    "id": "ydhpVpFnE1I0"
   },
   "source": [
    "# layer 1"
   ]
  },
  {
   "cell_type": "code",
   "execution_count": 52,
   "metadata": {
    "id": "Fvh20i1dDwn2"
   },
   "outputs": [],
   "source": [
    "Z1 = l1.theta@A0 + l1.b\n",
    "A1, A1p = activation_function(l1.func_acti, Z1)"
   ]
  },
  {
   "cell_type": "markdown",
   "metadata": {
    "id": "2jjGDJ5JE568"
   },
   "source": [
    "# layer 2"
   ]
  },
  {
   "cell_type": "code",
   "execution_count": 53,
   "metadata": {
    "id": "wIQtEODDBkTw"
   },
   "outputs": [],
   "source": [
    "Z2 = l2.theta@A1 + l2.b\n",
    "A2,A2p = activation_function(l2.func_acti, Z2)"
   ]
  },
  {
   "cell_type": "markdown",
   "metadata": {
    "id": "0T_yO0qlFVIn"
   },
   "source": [
    "# layer 3"
   ]
  },
  {
   "cell_type": "code",
   "execution_count": 54,
   "metadata": {
    "id": "hcE62wo3FUiZ"
   },
   "outputs": [],
   "source": [
    "Z3 = l3.theta@A2 + l3.b\n",
    "A3, A3p = activation_function(l3.func_acti, Z3)"
   ]
  },
  {
   "cell_type": "markdown",
   "metadata": {
    "id": "6bLfbrc9Feyy"
   },
   "source": [
    "# layer 4"
   ]
  },
  {
   "cell_type": "code",
   "execution_count": 55,
   "metadata": {
    "id": "VhPbXT8r_kqL"
   },
   "outputs": [],
   "source": [
    "Z4 = l4.theta@A3 + l4.b\n",
    "A4, A4p = activation_function(l4.func_acti, Z4)"
   ]
  },
  {
   "cell_type": "code",
   "execution_count": 56,
   "metadata": {
    "colab": {
     "base_uri": "https://localhost:8080/"
    },
    "id": "MxchM7p4_kts",
    "outputId": "a0b55d6f-85bb-4dad-913c-f83144389ad2"
   },
   "outputs": [
    {
     "data": {
      "text/plain": [
       "(1, 209)"
      ]
     },
     "execution_count": 56,
     "metadata": {},
     "output_type": "execute_result"
    }
   ],
   "source": [
    "np.shape(A4)"
   ]
  },
  {
   "cell_type": "code",
   "execution_count": 57,
   "metadata": {
    "id": "49U6vNza-siK"
   },
   "outputs": [],
   "source": [
    "ref=A4[0].copy()"
   ]
  },
  {
   "cell_type": "code",
   "execution_count": 58,
   "metadata": {
    "colab": {
     "base_uri": "https://localhost:8080/"
    },
    "id": "kUXEsOKjA-ke",
    "outputId": "4d177342-8dd7-40db-84eb-8d3ef3f510c0"
   },
   "outputs": [
    {
     "data": {
      "text/plain": [
       "array([0.79520347, 0.79403978, 0.79408277, 0.79552549, 0.79708776,\n",
       "       0.79552101, 0.7955254 , 0.79485465, 0.7955255 , 0.79403898,\n",
       "       0.7955255 , 0.79551024, 0.79403919, 0.79403903, 0.79403898,\n",
       "       0.79517149, 0.7955254 , 0.79404427, 0.79536398, 0.79461419,\n",
       "       0.79406441, 0.79551099, 0.79403898, 0.7955255 , 0.79405427,\n",
       "       0.79550467, 0.794039  , 0.79540488, 0.7940965 , 0.79552547,\n",
       "       0.79552572, 0.79403922, 0.79403899, 0.79544083, 0.79708762,\n",
       "       0.79427309, 0.79403898, 0.79403898, 0.7943316 , 0.794039  ,\n",
       "       0.79403898, 0.79795679, 0.79552497, 0.79403898, 0.7954865 ,\n",
       "       0.79474334, 0.79552549, 0.79480875, 0.79404112, 0.79403899,\n",
       "       0.7940391 , 0.79552549, 0.79403898, 0.795499  , 0.79706599,\n",
       "       0.79498499, 0.79404756, 0.79550321, 0.79545161, 0.79404261,\n",
       "       0.79539081, 0.794039  , 0.79408678, 0.79552479, 0.79403898,\n",
       "       0.79420212, 0.79403898, 0.79404142, 0.7955255 , 0.79403899,\n",
       "       0.79546736, 0.79404767, 0.79404278, 0.7982276 , 0.79477753,\n",
       "       0.79411484, 0.79403899, 0.79552202, 0.79422939, 0.79518644,\n",
       "       0.79549425, 0.79403898, 0.79520836, 0.79404068, 0.79403898,\n",
       "       0.79550448, 0.79403974, 0.79404689, 0.79403998, 0.79526769,\n",
       "       0.79403898, 0.79403899, 0.79403908, 0.79552547, 0.79404294,\n",
       "       0.79403899, 0.794039  , 0.79489677, 0.79552393, 0.79403905,\n",
       "       0.79403899, 0.79552017, 0.79403898, 0.79552534, 0.79403962,\n",
       "       0.79551952, 0.79404547, 0.79408978, 0.79403917, 0.79412787,\n",
       "       0.79430065, 0.79404275, 0.7955255 , 0.79404107, 0.79520021,\n",
       "       0.79403924, 0.79404074, 0.79552563, 0.79452178, 0.79403898,\n",
       "       0.79552495, 0.79404233, 0.79410741, 0.79403903, 0.79482522,\n",
       "       0.79403898, 0.79552537, 0.7955255 , 0.79403899, 0.79552551,\n",
       "       0.79542199, 0.79552411, 0.79405817, 0.7982071 , 0.79404137,\n",
       "       0.79403935, 0.79536094, 0.7955255 , 0.79552109, 0.79403903,\n",
       "       0.7955255 , 0.79405113, 0.79549167, 0.7940718 , 0.79403898,\n",
       "       0.79551819, 0.79404082, 0.79546921, 0.79715084, 0.79403988,\n",
       "       0.79552455, 0.79827677, 0.79404461, 0.7940665 , 0.79404519,\n",
       "       0.79552539, 0.79410347, 0.79403909, 0.79534134, 0.79403898,\n",
       "       0.79404028, 0.79410714, 0.79407207, 0.79552534, 0.79552084,\n",
       "       0.79431732, 0.79403898, 0.79422011, 0.79403961, 0.79552543,\n",
       "       0.79406554, 0.79403898, 0.79403898, 0.79552547, 0.79529614,\n",
       "       0.794039  , 0.79403899, 0.79413763, 0.79403902, 0.7955223 ,\n",
       "       0.7955255 , 0.79403919, 0.79403898, 0.79404197, 0.79406223,\n",
       "       0.79403898, 0.794041  , 0.79403899, 0.79408252, 0.7954459 ,\n",
       "       0.79552549, 0.7955255 , 0.79403898, 0.79403898, 0.79552545,\n",
       "       0.79551852, 0.79403918, 0.79552547, 0.79406322, 0.79551542,\n",
       "       0.79552545, 0.79403913, 0.79403923, 0.79404497, 0.79403898,\n",
       "       0.79550302, 0.79403898, 0.79422472, 0.79495232])"
      ]
     },
     "execution_count": 58,
     "metadata": {},
     "output_type": "execute_result"
    }
   ],
   "source": [
    "ref"
   ]
  },
  {
   "cell_type": "markdown",
   "metadata": {
    "id": "lF_qdftyQKR5"
   },
   "source": [
    "# Generalizacion Forward Pass"
   ]
  },
  {
   "cell_type": "code",
   "execution_count": 59,
   "metadata": {
    "id": "Ze6TEEBiBd3m"
   },
   "outputs": [],
   "source": [
    "class layer_nn():\n",
    "  def __init__(self, func_act, nn_present, nn_before):\n",
    "    np.random.seed(0) \n",
    "    self.theta = 2*np.random.random((nn_present, nn_before)) - 1\n",
    "    self.b = 2*np.random.random((nn_present, 1))-1\n",
    "    self.func_acti = func_act\n",
    "\n",
    "  def output(self, A, Ap, Z):\n",
    "    self.A = A\n",
    "    self.Ap = Ap\n",
    "    self.Z = Z\n",
    "\n",
    "\n",
    "def activation_function(name, x):\n",
    "  if (name==\"sigmoid\"):\n",
    "    f = lambda x: 1/(1+np.exp(-x))\n",
    "    fp = f(x)*(1-f(x))\n",
    "    return f(x), fp\n",
    "  \n",
    "  elif (name==\"tanh\"):\n",
    "    f =  lambda x: np.tanh(x)\n",
    "    return f(x)\n",
    "  else :\n",
    "    return \"Error\"\n"
   ]
  },
  {
   "cell_type": "code",
   "execution_count": 60,
   "metadata": {
    "id": "erdQrtLSQOP9"
   },
   "outputs": [],
   "source": [
    "nx = 12288\n",
    "Topology = [nx,3, 4, 7, 1 ]\n",
    "func_act = [\"sigmoid\",\"sigmoid\", \"sigmoid\", \"sigmoid\", \"sigmoid\" ]"
   ]
  },
  {
   "cell_type": "code",
   "execution_count": 61,
   "metadata": {
    "id": "UcblTNWJQMBp"
   },
   "outputs": [],
   "source": [
    "def init_nn(Topology, func_act):\n",
    "  L=len(Topology)\n",
    "  nn = []\n",
    "  for i in range(1, L):    \n",
    "    li = layer_nn(func_act[i],Topology[i], Topology[i-1])\n",
    "    nn.append(li)\n",
    "  return nn\n"
   ]
  },
  {
   "cell_type": "code",
   "execution_count": 62,
   "metadata": {
    "id": "G53JtNkA_ali"
   },
   "outputs": [],
   "source": [
    "nn = init_nn(Topology, func_act)"
   ]
  },
  {
   "cell_type": "code",
   "execution_count": 63,
   "metadata": {
    "id": "7ICSHX1-ATl3"
   },
   "outputs": [],
   "source": [
    "def forward_pass(A0, nn):\n",
    "  L = len(nn)\n",
    "  update_nn = nn.copy ()\n",
    "    \n",
    "  for i in range(0, L):\n",
    "\n",
    "    Zi = nn[i].theta@A0+nn[i].b\n",
    "    Ai, Aip = activation_function(nn[i].func_acti, Zi)\n",
    "    update_nn[i].A = Ai\n",
    "    update_nn[i].Ap = Aip\n",
    "    update_nn[i].Z = Zi\n",
    "    A0 = Ai\n",
    "  \n",
    "    # self.A = A\n",
    "    # self.Ap = Ap\n",
    "    # self.Z = Z\n",
    "\n",
    "  return A0, update_nn"
   ]
  },
  {
   "cell_type": "code",
   "execution_count": 64,
   "metadata": {
    "id": "aBsXixyBAkG-"
   },
   "outputs": [],
   "source": [
    "A0, nn_update = forward_pass(A0, nn)"
   ]
  },
  {
   "cell_type": "code",
   "execution_count": 65,
   "metadata": {
    "colab": {
     "base_uri": "https://localhost:8080/"
    },
    "id": "cawUYMbXB__w",
    "outputId": "b98c9318-db86-4289-a850-9cb5bcb32370"
   },
   "outputs": [
    {
     "data": {
      "text/plain": [
       "[<__main__.layer_nn at 0x7f991f7e8370>,\n",
       " <__main__.layer_nn at 0x7f991f976e80>,\n",
       " <__main__.layer_nn at 0x7f991f9bbd90>,\n",
       " <__main__.layer_nn at 0x7f991f7e2fd0>]"
      ]
     },
     "execution_count": 65,
     "metadata": {},
     "output_type": "execute_result"
    }
   ],
   "source": [
    "nn_update"
   ]
  },
  {
   "cell_type": "code",
   "execution_count": 66,
   "metadata": {
    "id": "JNy65_vaQhZF"
   },
   "outputs": [],
   "source": [
    "# self.theta = 2*np.random.random((nn_present, nn_before)) - 1\n",
    "# def __init__(self, func_act, nn_present, nn_before):\n",
    "l1 = layer_nn(\"sigmoid\",3, nx)\n",
    "l2 = layer_nn(\"sigmoid\", 4, 3)\n",
    "l3 = layer_nn(\"sigmoid\", 7, 4)\n",
    "l4 = layer_nn(\"sigmoid\",1, 7)\n"
   ]
  },
  {
   "cell_type": "code",
   "execution_count": null,
   "metadata": {
    "id": "WtvbbPouRUPZ"
   },
   "outputs": [],
   "source": []
  },
  {
   "cell_type": "markdown",
   "metadata": {
    "id": "JQ4m24HgbRXw"
   },
   "source": [
    "\n",
    "\\begin{equation}\n",
    "[ \\vec{Z}^{[l](0)},\\vec{Z}^{[l](1)},...,\\vec{Z}^{[l](m)}  ]= \\Theta^{[l]} [\\vec{A}^{[l-1](0)},\\vec{A}^{[l-1](1)},...,\\vec{A}^{[l-1](m)} ]+ \\vec{b}^{[l]}\n",
    "\\end{equation}\n"
   ]
  },
  {
   "cell_type": "code",
   "execution_count": null,
   "metadata": {
    "id": "emP6sC4IRs6S"
   },
   "outputs": [],
   "source": []
  },
  {
   "cell_type": "code",
   "execution_count": null,
   "metadata": {
    "colab": {
     "base_uri": "https://localhost:8080/"
    },
    "id": "PGtjft3pSMYv",
    "outputId": "6101d7e0-a27f-4005-e024-2e1015080bd0"
   },
   "outputs": [
    {
     "name": "stdout",
     "output_type": "stream",
     "text": [
      "(3, 12288)\n",
      "(4, 3)\n",
      "(7, 4)\n",
      "(1, 7)\n"
     ]
    }
   ],
   "source": []
  },
  {
   "cell_type": "markdown",
   "metadata": {
    "id": "H44xkI09RzO0"
   },
   "source": [
    "\n",
    "\n",
    "# Backward Propagation\n",
    "\n",
    "Para una capa $l$ arbitraria tenemos que:\n",
    "\n",
    "- \\begin{equation}\n",
    "d\\Theta^{[l]} =  d{\\cal Z}^{(i)[l]} Trans(A)^{(i)[l-1]} = dA^{(i)[l]} f'({\\cal Z}^{(i)[l]} ) Trans(A)^{(i)[l-1]}\n",
    "\\end{equation}\n",
    "\n",
    "- \\begin{equation}\n",
    "db^{[l]} =  d{\\cal Z}^{(i)[L]}  = dA^{(i)[l]} f'({\\cal Z}^{(i)[l]} ) \n",
    "\\end{equation}\n",
    "```\n",
    "db_L =  m_*np.sum(dZ, axis=1, keepdims=True)\n",
    "```\n",
    "Los valores de dA pueden ser escritos como:\n",
    "- \\begin{equation}\n",
    "dA^{(i)[l-1]} = \\Theta^{l} \\cdot dZ^{(i)[l]}\n",
    "\\end{equation}\n",
    "\n",
    "\n",
    "\n",
    "\n",
    "\n",
    "$ dZ^{[l]} = dA^{[l]} * f'^{[l]} (Z^{[l]}) $\n",
    "$ d\\Theta^{[l]} = \\frac{\\partial \\mathcal{J} }{\\partial \\Theta^{[l]}} = \\frac{1}{m} dZ^{[l]} A^{[l-1] T} \\tag{1}$\n",
    "$ db^{[l]} = \\frac{\\partial \\mathcal{J} }{\\partial b^{[l]}} = \\frac{1}{m} \\sum_{i = 1}^{m} dZ^{[l](i)}\\tag{2}$\n",
    "$ dA^{[l-1]} = \\frac{\\partial \\mathcal{L} }{\\partial A^{[l-1]}} = \\theta^{[l] T} dZ^{[l]} \\tag{3}$\n",
    "\n",
    "\n",
    "Para la capa L esima: \n",
    "\n",
    "```\n",
    "dAL = -(np.divide(Y, A) - np.divide(1 - Y, 1 - A))\n",
    "```"
   ]
  },
  {
   "cell_type": "code",
   "execution_count": null,
   "metadata": {
    "id": "rQbRb4s3ec1g"
   },
   "outputs": [],
   "source": []
  }
 ],
 "metadata": {
  "colab": {
   "name": "Laboratorio_07_nn_zeroV0.ipynb",
   "provenance": []
  },
  "kernelspec": {
   "display_name": "Python 3",
   "language": "python",
   "name": "python3"
  },
  "language_info": {
   "codemirror_mode": {
    "name": "ipython",
    "version": 3
   },
   "file_extension": ".py",
   "mimetype": "text/x-python",
   "name": "python",
   "nbconvert_exporter": "python",
   "pygments_lexer": "ipython3",
   "version": "3.8.10"
  }
 },
 "nbformat": 4,
 "nbformat_minor": 1
}
