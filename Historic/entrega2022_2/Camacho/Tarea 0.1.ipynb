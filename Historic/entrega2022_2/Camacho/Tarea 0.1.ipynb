{
 "cells": [
  {
   "cell_type": "markdown",
   "id": "bc9c6116",
   "metadata": {},
   "source": [
    "# Tarea 0.1 \n",
    "Determinar los primeros 100 numeros impares empleando la funcion map"
   ]
  },
  {
   "cell_type": "code",
   "execution_count": 1,
   "id": "afeea672",
   "metadata": {},
   "outputs": [],
   "source": [
    "odd_numbers = map(lambda num: 2*num + 1, range(100))"
   ]
  },
  {
   "cell_type": "code",
   "execution_count": 2,
   "id": "57aca0ba",
   "metadata": {},
   "outputs": [
    {
     "data": {
      "text/plain": [
       "100"
      ]
     },
     "execution_count": 2,
     "metadata": {},
     "output_type": "execute_result"
    }
   ],
   "source": [
    "s = list(odd_numbers)\n",
    "len(s)"
   ]
  },
  {
   "cell_type": "code",
   "execution_count": 3,
   "id": "7445f4fc",
   "metadata": {},
   "outputs": [
    {
     "data": {
      "text/plain": [
       "[-1, 1, -1, 3, -1, 5, -1, 7, -1, 9]"
      ]
     },
     "execution_count": 3,
     "metadata": {},
     "output_type": "execute_result"
    }
   ],
   "source": [
    "odd = map(lambda num: num if num%2!=0 else -1 , range(10))\n",
    "list(odd)"
   ]
  },
  {
   "cell_type": "code",
   "execution_count": 5,
   "id": "0b4b4338",
   "metadata": {},
   "outputs": [
    {
     "data": {
      "text/plain": [
       "[1, 3, 5, 7, 9]"
      ]
     },
     "execution_count": 5,
     "metadata": {},
     "output_type": "execute_result"
    }
   ],
   "source": [
    "odd_filter = filter(lambda num:num%2!=0 , range(10))\n",
    "list(odd_filter)"
   ]
  },
  {
   "cell_type": "code",
   "execution_count": 2,
   "id": "1b49e1c4",
   "metadata": {},
   "outputs": [
    {
     "data": {
      "text/plain": [
       "[None, 1, None, 3, None, 5, None, 7, None, 9, None, 11, None, 13, None]"
      ]
     },
     "execution_count": 2,
     "metadata": {},
     "output_type": "execute_result"
    }
   ],
   "source": [
    "def odd(num):\n",
    "    if num%2!=0:\n",
    "        return num\n",
    "\n",
    "list(map(odd,range(15)))"
   ]
  },
  {
   "cell_type": "code",
   "execution_count": 3,
   "id": "515044b7",
   "metadata": {},
   "outputs": [
    {
     "data": {
      "text/plain": [
       "[1,\n",
       " 3,\n",
       " 5,\n",
       " 7,\n",
       " 9,\n",
       " 11,\n",
       " 13,\n",
       " 15,\n",
       " 17,\n",
       " 19,\n",
       " 21,\n",
       " 23,\n",
       " 25,\n",
       " 27,\n",
       " 29,\n",
       " 31,\n",
       " 33,\n",
       " 35,\n",
       " 37,\n",
       " 39,\n",
       " 41,\n",
       " 43,\n",
       " 45,\n",
       " 47,\n",
       " 49,\n",
       " 51,\n",
       " 53,\n",
       " 55,\n",
       " 57,\n",
       " 59,\n",
       " 61,\n",
       " 63,\n",
       " 65,\n",
       " 67,\n",
       " 69,\n",
       " 71,\n",
       " 73,\n",
       " 75,\n",
       " 77,\n",
       " 79,\n",
       " 81,\n",
       " 83,\n",
       " 85,\n",
       " 87,\n",
       " 89,\n",
       " 91,\n",
       " 93,\n",
       " 95,\n",
       " 97,\n",
       " 99,\n",
       " 0,\n",
       " 0,\n",
       " 0]"
      ]
     },
     "execution_count": 3,
     "metadata": {},
     "output_type": "execute_result"
    }
   ],
   "source": [
    "#Numeros impares menores que 100\n",
    "def impar(x):\n",
    "    if(x%2!=0):\n",
    "        return x\n",
    "\n",
    "q = map(lambda x: 2*x+1 if (2*x+1)<=100 else 0 , range(53))\n",
    "list(q)"
   ]
  },
  {
   "cell_type": "code",
   "execution_count": null,
   "id": "cf06344e",
   "metadata": {},
   "outputs": [],
   "source": []
  },
  {
   "cell_type": "code",
   "execution_count": null,
   "id": "7f6c853c",
   "metadata": {},
   "outputs": [],
   "source": []
  }
 ],
 "metadata": {
  "kernelspec": {
   "display_name": "Python 3 (ipykernel)",
   "language": "python",
   "name": "python3"
  },
  "language_info": {
   "codemirror_mode": {
    "name": "ipython",
    "version": 3
   },
   "file_extension": ".py",
   "mimetype": "text/x-python",
   "name": "python",
   "nbconvert_exporter": "python",
   "pygments_lexer": "ipython3",
   "version": "3.9.7"
  }
 },
 "nbformat": 4,
 "nbformat_minor": 5
}
