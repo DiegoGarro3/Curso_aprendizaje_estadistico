{
 "cells": [
  {
   "cell_type": "markdown",
   "id": "9c984b81",
   "metadata": {},
   "source": [
    "## Tarea 0.2\n",
    "Given a sentence,you task is build a iterator the words \n",
    "Ref = https://www.youtube.com/watch?v=C3Z9lJXI6Qw&ab_channel=CoreySchafer"
   ]
  },
  {
   "cell_type": "code",
   "execution_count": 2,
   "id": "2e5d9bca",
   "metadata": {},
   "outputs": [],
   "source": [
    "# sentence = 'JAISDNASascas asca '\n",
    "# for u in sentence:\n",
    "#     print(u)"
   ]
  },
  {
   "cell_type": "code",
   "execution_count": 15,
   "id": "1e57e9bb",
   "metadata": {},
   "outputs": [],
   "source": [
    "#prueba\n",
    "def For(sentence):\n",
    "    '''\n",
    "    Parametros: objeto iterable\n",
    "    \n",
    "    Return: cada elemento del cual está compuesto\n",
    "    \n",
    "    '''\n",
    "    i = 0\n",
    "    l = len(sentence)\n",
    "    while i < l:\n",
    "        print(sentence[i])\n",
    "        i+=1"
   ]
  },
  {
   "cell_type": "code",
   "execution_count": 19,
   "id": "33147094",
   "metadata": {},
   "outputs": [
    {
     "name": "stdout",
     "output_type": "stream",
     "text": [
      "0\n",
      "1\n",
      "2\n",
      "3\n"
     ]
    }
   ],
   "source": [
    "For([0,1,2,3])"
   ]
  },
  {
   "cell_type": "code",
   "execution_count": 20,
   "id": "3337ecae",
   "metadata": {},
   "outputs": [
    {
     "name": "stdout",
     "output_type": "stream",
     "text": [
      "0\n",
      "1\n",
      "2\n",
      "3\n"
     ]
    }
   ],
   "source": [
    "for i in [0,1,2,3]:\n",
    "    print(i)"
   ]
  },
  {
   "cell_type": "code",
   "execution_count": 24,
   "id": "3e238e77",
   "metadata": {},
   "outputs": [],
   "source": [
    "class Iterator:\n",
    "    \n",
    "    def __init__(self,sentence):\n",
    "        self.sentence = sentence\n",
    "        self.length = len(sentence)\n",
    "    \n",
    "    def printing(self,index):\n",
    "        try:\n",
    "            n = self.length\n",
    "            if index > n-1:\n",
    "                raise ValueError(\"Indice fuera de rango\")\n",
    "            else:\n",
    "                #letters = []\n",
    "                i = 0\n",
    "                while i <= index:\n",
    "                    #letters.append(self.sentence[i])\n",
    "                    print(self.sentence[i])\n",
    "                    i+=1\n",
    "                \n",
    "        except ValueError as ve:\n",
    "            return ve\n"
   ]
  },
  {
   "cell_type": "code",
   "execution_count": 25,
   "id": "4d0e4483",
   "metadata": {},
   "outputs": [],
   "source": [
    "palabra = Iterator('ALAN')"
   ]
  },
  {
   "cell_type": "code",
   "execution_count": 26,
   "id": "55068895",
   "metadata": {},
   "outputs": [
    {
     "name": "stdout",
     "output_type": "stream",
     "text": [
      "A\n",
      "L\n",
      "A\n"
     ]
    }
   ],
   "source": [
    "palabra.printing(2)"
   ]
  },
  {
   "cell_type": "code",
   "execution_count": 34,
   "id": "59718309",
   "metadata": {},
   "outputs": [
    {
     "name": "stdout",
     "output_type": "stream",
     "text": [
      "A\n",
      "l\n",
      "a\n",
      "n\n"
     ]
    }
   ],
   "source": [
    "for word in 'Alan':\n",
    "    print(word)"
   ]
  },
  {
   "cell_type": "code",
   "execution_count": 1,
   "id": "29510c36",
   "metadata": {},
   "outputs": [],
   "source": [
    "sentence = 'This is a test'"
   ]
  },
  {
   "cell_type": "code",
   "execution_count": 33,
   "id": "7155dbb7",
   "metadata": {},
   "outputs": [],
   "source": [
    "class Sentence:\n",
    "    \n",
    "    def __init__(self,sentence):\n",
    "        self.sentence = sentence\n",
    "        self.index = 0\n",
    "        self.words = self.sentence.split()\n",
    "        \n",
    "    def __iter__(self):\n",
    "        return self\n",
    "    \n",
    "    def __next__(self):\n",
    "        \n",
    "        if self.index >= len(self.words):\n",
    "            raise StopIteration\n",
    "        \n",
    "        index = self.index\n",
    "        self.index+=1\n",
    "        return self.words[index]\n",
    "        "
   ]
  },
  {
   "cell_type": "code",
   "execution_count": 34,
   "id": "7a75eb8e",
   "metadata": {},
   "outputs": [
    {
     "name": "stdout",
     "output_type": "stream",
     "text": [
      "This\n",
      "is\n",
      "a\n",
      "test\n"
     ]
    }
   ],
   "source": [
    "my_sentence = Sentence('This is a test')\n",
    "for word in my_sentence:\n",
    "    print(word)"
   ]
  },
  {
   "cell_type": "code",
   "execution_count": 35,
   "id": "95af7374",
   "metadata": {},
   "outputs": [],
   "source": [
    " a = Sentence('Hola, esto es una frase')"
   ]
  },
  {
   "cell_type": "code",
   "execution_count": null,
   "id": "12102b13",
   "metadata": {},
   "outputs": [],
   "source": []
  }
 ],
 "metadata": {
  "kernelspec": {
   "display_name": "Python 3 (ipykernel)",
   "language": "python",
   "name": "python3"
  },
  "language_info": {
   "codemirror_mode": {
    "name": "ipython",
    "version": 3
   },
   "file_extension": ".py",
   "mimetype": "text/x-python",
   "name": "python",
   "nbconvert_exporter": "python",
   "pygments_lexer": "ipython3",
   "version": "3.9.7"
  }
 },
 "nbformat": 4,
 "nbformat_minor": 5
}
