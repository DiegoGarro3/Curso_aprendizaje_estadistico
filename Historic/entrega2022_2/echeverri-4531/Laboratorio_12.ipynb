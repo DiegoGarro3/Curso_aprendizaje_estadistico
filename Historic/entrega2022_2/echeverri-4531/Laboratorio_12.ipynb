{
 "cells": [
  {
   "cell_type": "markdown",
   "metadata": {
    "id": "TxlxnKraVjvs"
   },
   "source": [
    "# Laboratorio 12: Random Forest\n",
    "\n",
    "## Nicolás Echeverri Rojas\n",
    "\n",
    "Los arboles de desicion se ajustan muy bien a los datos de entrenamiento, sin embargo no permiten generalización. El overfiting es la caracteristica mas importante. Para dar solucion, se propone el algoritmo de random foreset basado en dos caracteristicas:\n",
    "\n",
    "# 1. Se entrenan varios árboles con diferentes subconjuntos del dataset original. Para ello se emplea bootstraping dentro de los datos del dataset inicial.\n",
    "\n",
    "\n",
    "Dado un dataset con las siguientes caracteristicas:\n",
    "\n",
    "\n",
    "|index|$y^{}$          |X1  |X2 |X3 |X4 |\n",
    "|-|----------|-----|-----|-----|-----|\n",
    "|1| |$y^{(1)}$ |$X_1^{1}$|$X_2^{1}$|$X_3^{1}$|$X_4^{1}$|\n",
    "|2||$y^{(2)}$ |$X_1^{2}$|$X_2^{2}$|$X_3^{2}$|$X_4^{2}$|\n",
    "|3||$y^{(3)}$ |$X_1^{3}$|$X_2^{3}$|$X_3^{3}$|$X_4^{3}$|\n",
    "|4||$y^{(4)}$ |$X_1^{4}$|$X_2^{4}$|$X_3^{4}$|$X_4^{4}$|\n",
    "\n",
    "\n",
    "Podemos definir como un hiperparametro el número de arboles, y también los datos que ingresan a cada árbol, para ello emplearemos la tecnica de [bootstraping](https://en.wikipedia.org/wiki/Bootstrapping_(statistics).\n",
    "\n",
    "\n",
    "El botstrapping es una técnica de muestreo con reposición que se realiza para cada árbol, asi si se tienen 10 árboles, el muestreo con reposicion  para los indices puede ser como sigue:\n",
    "```\n",
    "\n",
    "In: np.random.randint(0, 4, (10,4))\n",
    "\n",
    "  \n",
    "Out: array([[1, 0, 3, 3],\n",
    "       [2, 1, 2, 0],\n",
    "       [2, 3, 3, 3],\n",
    "       [0, 2, 2, 3],\n",
    "       [2, 0, 3, 3],\n",
    "       [1, 1, 2, 0],\n",
    "       [2, 2, 1, 2],\n",
    "       [3, 0, 1, 0],\n",
    "       [3, 1, 0, 2],\n",
    "       [2, 0, 2, 0]])\n",
    "\n",
    "```\n",
    "\n",
    "Lo anterior quiere decir que el conjunto de datos del árbol 1, puede ser entrenado con las  X1, X2, X3, X4 con los datos de entrenamiento 2, 1, 2, 0\n",
    "\n",
    "\n",
    "Cada fila del anterior array es usado como input para entrenar cada arbol, notese que los valores se puden repetir para entrenar el árbol i-esimo. \n",
    "\n",
    "\n",
    "- Para cada nodo de todos los arboles se selecciona un número aleatorio de características, hasta cosntruir el árbol completo. \n",
    "\n",
    "\n",
    "Al final se tendran un conjunto de arboles de desición sobre los cuales se aplicará agregación, es decir, cuando se pasa un nuevo dato de entrenamiento los arboles realizan la clasificación y se toma el valor elegido por la mayoria de los arboles\n",
    "\n",
    "\n",
    "\n",
    "bagging = Agregation + bootstraping\n",
    "\n",
    "\n",
    "Random forest permite seleccionar las caracteristicas más importantes\n",
    "\n",
    "\n",
    "La estategia para optimizar los bosques pueden ser elegidos como sigue:\n",
    "\n",
    "Fijar el numero de caracteristicas y el criterio de parada.\n",
    "\n",
    "1. Determinar el error como función del número de árboles.\n",
    "\n",
    "2. Definido el número de árboles y calculamos el error como función del numero de caracteristicas.\n",
    "\n",
    "3. Con el numero de arboles fijo y el numero de caracteristicas, se optmiza el criterio de parada, (numero minimo de datos de una hoja)\n",
    "\n",
    "\n",
    "\n",
    "\n",
    "REF: https://www.youtube.com/watch?v=3pa0vtW64Ic&ab_channel=CodificandoBits\n",
    "https://en.wikipedia.org/wiki/Bootstrap_aggregating\n",
    "\n",
    "ref: http://www.cs.cmu.edu/~qyj/papersA08/11-rfbook.pdf\n",
    "\n",
    "ref : https://github.com/ageron/handson-ml2/blob/master/07_ensemble_learning_and_random_forests.ipynb\n"
   ]
  },
  {
   "cell_type": "code",
   "execution_count": 1,
   "metadata": {
    "ExecuteTime": {
     "end_time": "2022-11-24T15:02:52.529967Z",
     "start_time": "2022-11-24T15:02:52.518899Z"
    },
    "id": "TulFKeFCasTw"
   },
   "outputs": [],
   "source": [
    "#https://github.com/ageron/handson-ml2/blob/master/07_ensemble_learning_and_random_forests.ipynb"
   ]
  },
  {
   "cell_type": "markdown",
   "metadata": {},
   "source": [
    "## Ejemplo de uso Random Forest"
   ]
  },
  {
   "cell_type": "code",
   "execution_count": 2,
   "metadata": {
    "ExecuteTime": {
     "end_time": "2022-11-24T15:03:01.373077Z",
     "start_time": "2022-11-24T15:02:57.978102Z"
    },
    "colab": {
     "base_uri": "https://localhost:8080/"
    },
    "id": "UubhLIEPK2Ai",
    "outputId": "c3d21490-bb0f-4508-ccc7-f6faeaee43f9"
   },
   "outputs": [
    {
     "name": "stdout",
     "output_type": "stream",
     "text": [
      "[1]\n"
     ]
    }
   ],
   "source": [
    "from sklearn.ensemble import RandomForestClassifier\n",
    "from sklearn.datasets import make_classification\n",
    "\n",
    "#Crea unos datos\n",
    "X, y = make_classification(n_samples=1000, n_features=4,\n",
    "                           n_informative=2, n_redundant=0,\n",
    "                           random_state=0, shuffle=False)\n",
    "\n",
    "\n",
    "\n",
    "\n",
    "clf = RandomForestClassifier(max_depth=2, random_state=0)\n",
    "clf.fit(X, y)\n",
    "\n",
    "print(clf.predict([[0, 0, 0, 0]]))"
   ]
  },
  {
   "cell_type": "markdown",
   "metadata": {
    "id": "0Zsn07tdLAAP"
   },
   "source": [
    "## Laboratorio: \n",
    "\n",
    "1. Cargar load digitis\n",
    "```\n",
    "from sklearn.datasets import load_digits\n",
    "digits = load_digits()\n",
    "print(digits.data.shape)\n",
    "\n",
    "2, Aplicar random foreset usando sklearn"
   ]
  },
  {
   "cell_type": "markdown",
   "metadata": {},
   "source": [
    "## 1. Carga de datos"
   ]
  },
  {
   "cell_type": "code",
   "execution_count": 3,
   "metadata": {
    "ExecuteTime": {
     "end_time": "2022-11-24T15:03:34.579809Z",
     "start_time": "2022-11-24T15:03:32.315072Z"
    },
    "colab": {
     "base_uri": "https://localhost:8080/",
     "height": 310
    },
    "id": "LYyKiC_QGHry",
    "outputId": "33a237d4-85ac-4a92-bce3-eaa8e6c35765"
   },
   "outputs": [
    {
     "name": "stdout",
     "output_type": "stream",
     "text": [
      "(1797, 64)\n"
     ]
    },
    {
     "data": {
      "text/plain": [
       "<Figure size 432x288 with 0 Axes>"
      ]
     },
     "metadata": {},
     "output_type": "display_data"
    },
    {
     "data": {
      "image/png": "[encoded data removed]",
      "text/plain": [
       "<Figure size 288x288 with 1 Axes>"
      ]
     },
     "metadata": {
      "needs_background": "light"
     },
     "output_type": "display_data"
    }
   ],
   "source": [
    "from sklearn.datasets import load_digits\n",
    "digits = load_digits()\n",
    "print(digits.data.shape)\n",
    "\n",
    "import matplotlib.pyplot as plt\n",
    "plt.gray()\n",
    "plt.matshow(digits.images[95])\n",
    "plt.show()"
   ]
  },
  {
   "cell_type": "code",
   "execution_count": 4,
   "metadata": {
    "ExecuteTime": {
     "end_time": "2022-11-24T15:03:47.432750Z",
     "start_time": "2022-11-24T15:03:47.422477Z"
    }
   },
   "outputs": [],
   "source": [
    "X = digits.data"
   ]
  },
  {
   "cell_type": "code",
   "execution_count": 5,
   "metadata": {
    "ExecuteTime": {
     "end_time": "2022-11-24T15:03:47.963619Z",
     "start_time": "2022-11-24T15:03:47.948420Z"
    }
   },
   "outputs": [
    {
     "data": {
      "text/plain": [
       "(1797, 64)"
      ]
     },
     "execution_count": 5,
     "metadata": {},
     "output_type": "execute_result"
    }
   ],
   "source": [
    "X.shape"
   ]
  },
  {
   "cell_type": "code",
   "execution_count": 6,
   "metadata": {
    "ExecuteTime": {
     "end_time": "2022-11-24T15:03:49.874666Z",
     "start_time": "2022-11-24T15:03:49.862625Z"
    }
   },
   "outputs": [],
   "source": [
    "y = digits.target"
   ]
  },
  {
   "cell_type": "code",
   "execution_count": 7,
   "metadata": {
    "ExecuteTime": {
     "end_time": "2022-11-24T15:03:50.280162Z",
     "start_time": "2022-11-24T15:03:50.273034Z"
    }
   },
   "outputs": [
    {
     "data": {
      "text/plain": [
       "(1797,)"
      ]
     },
     "execution_count": 7,
     "metadata": {},
     "output_type": "execute_result"
    }
   ],
   "source": [
    "y.shape"
   ]
  },
  {
   "cell_type": "markdown",
   "metadata": {},
   "source": [
    "Se observa que existen 1797 dígitos a clasificar"
   ]
  },
  {
   "cell_type": "markdown",
   "metadata": {
    "ExecuteTime": {
     "end_time": "2022-11-24T15:04:44.765160Z",
     "start_time": "2022-11-24T15:04:44.753889Z"
    }
   },
   "source": [
    "## 2. Separación de los datos"
   ]
  },
  {
   "cell_type": "code",
   "execution_count": 10,
   "metadata": {
    "ExecuteTime": {
     "end_time": "2022-11-24T15:04:13.863473Z",
     "start_time": "2022-11-24T15:04:13.857261Z"
    }
   },
   "outputs": [],
   "source": [
    "from sklearn.model_selection import train_test_split\n",
    "from sklearn.ensemble import RandomForestClassifier "
   ]
  },
  {
   "cell_type": "code",
   "execution_count": 12,
   "metadata": {
    "ExecuteTime": {
     "end_time": "2022-11-24T15:04:50.946384Z",
     "start_time": "2022-11-24T15:04:50.922807Z"
    }
   },
   "outputs": [],
   "source": [
    "train_set, test_set, train_labels, test_labels = train_test_split(X, y, test_size=0.2, random_state=42)"
   ]
  },
  {
   "cell_type": "code",
   "execution_count": 13,
   "metadata": {
    "ExecuteTime": {
     "end_time": "2022-11-24T15:04:51.491402Z",
     "start_time": "2022-11-24T15:04:51.468913Z"
    }
   },
   "outputs": [
    {
     "data": {
      "text/plain": [
       "((1437, 64), (1437,), (360, 64), (360,))"
      ]
     },
     "execution_count": 13,
     "metadata": {},
     "output_type": "execute_result"
    }
   ],
   "source": [
    "train_set.shape, train_labels.shape, test_set.shape , test_labels.shape"
   ]
  },
  {
   "cell_type": "markdown",
   "metadata": {},
   "source": [
    "## 3. Clasificación de los datos"
   ]
  },
  {
   "cell_type": "code",
   "execution_count": 14,
   "metadata": {
    "ExecuteTime": {
     "end_time": "2022-11-24T15:05:02.634875Z",
     "start_time": "2022-11-24T15:05:02.226695Z"
    }
   },
   "outputs": [
    {
     "data": {
      "text/plain": [
       "RandomForestClassifier(random_state=42)"
      ]
     },
     "execution_count": 14,
     "metadata": {},
     "output_type": "execute_result"
    }
   ],
   "source": [
    "forest_clf = RandomForestClassifier(random_state=42) \n",
    "forest_clf.fit(train_set, train_labels) \n",
    "#forest_clf.predict([some_digit]) \n",
    "#forest_clf.predict_proba([some_digit])"
   ]
  },
  {
   "cell_type": "markdown",
   "metadata": {},
   "source": [
    "##  4. Mejora de hiperparámetros\n",
    "\n",
    "## 4.1 Grid search"
   ]
  },
  {
   "cell_type": "code",
   "execution_count": 15,
   "metadata": {
    "ExecuteTime": {
     "end_time": "2022-11-24T15:06:04.303443Z",
     "start_time": "2022-11-24T15:05:39.778624Z"
    }
   },
   "outputs": [
    {
     "data": {
      "text/plain": [
       "GridSearchCV(cv=5, estimator=RandomForestClassifier(),\n",
       "             param_grid={'bootstrap': [False], 'max_depth': [2, 4, 6],\n",
       "                         'max_features': [2, 3, 4],\n",
       "                         'n_estimators': [10, 20, 40, 60, 80, 100]},\n",
       "             return_train_score=True, scoring='neg_mean_squared_error')"
      ]
     },
     "execution_count": 15,
     "metadata": {},
     "output_type": "execute_result"
    }
   ],
   "source": [
    "from sklearn.model_selection import GridSearchCV \n",
    "\n",
    "param_grid = {'n_estimators': [10, 20, 40, 60, 80, 100], \n",
    "              'max_features': [2, 4, 6, 8],\n",
    "                'bootstrap': [False],\n",
    "              'max_features': [2, 3, 4],\n",
    "              'max_depth': [2,4,6]}\n",
    "\n",
    "#_estimators int, default=100 The number of trees in the forest.\n",
    "\n",
    "forest_clf = RandomForestClassifier() \n",
    "grid_search = GridSearchCV(forest_clf, param_grid, cv=5, \n",
    "                           scoring='neg_mean_squared_error', return_train_score=True) \n",
    "grid_search.fit(train_set, train_labels)\n"
   ]
  },
  {
   "cell_type": "code",
   "execution_count": 16,
   "metadata": {
    "ExecuteTime": {
     "end_time": "2022-11-24T15:06:16.931492Z",
     "start_time": "2022-11-24T15:06:16.908245Z"
    }
   },
   "outputs": [
    {
     "data": {
      "text/plain": [
       "({'bootstrap': False, 'max_depth': 6, 'max_features': 4, 'n_estimators': 60},\n",
       " 0.9264758658507363)"
      ]
     },
     "execution_count": 16,
     "metadata": {},
     "output_type": "execute_result"
    }
   ],
   "source": [
    "grid_search.best_params_,np.sqrt(-grid_search.best_score_)"
   ]
  },
  {
   "cell_type": "code",
   "execution_count": 17,
   "metadata": {
    "ExecuteTime": {
     "end_time": "2022-11-24T15:06:17.663915Z",
     "start_time": "2022-11-24T15:06:17.655356Z"
    }
   },
   "outputs": [],
   "source": [
    "best_params = grid_search.best_params_"
   ]
  },
  {
   "cell_type": "code",
   "execution_count": 18,
   "metadata": {
    "ExecuteTime": {
     "end_time": "2022-11-24T15:06:18.591705Z",
     "start_time": "2022-11-24T15:06:18.432070Z"
    }
   },
   "outputs": [
    {
     "data": {
      "text/plain": [
       "RandomForestClassifier(bootstrap=False, max_depth=6, max_features=4,\n",
       "                       n_estimators=60)"
      ]
     },
     "execution_count": 18,
     "metadata": {},
     "output_type": "execute_result"
    }
   ],
   "source": [
    "best_forest_clf = RandomForestClassifier(**best_params ) \n",
    "best_forest_clf.fit(train_set, train_labels)"
   ]
  },
  {
   "cell_type": "code",
   "execution_count": 24,
   "metadata": {
    "ExecuteTime": {
     "end_time": "2022-11-24T15:08:41.414166Z",
     "start_time": "2022-11-24T15:08:41.370084Z"
    }
   },
   "outputs": [
    {
     "name": "stdout",
     "output_type": "stream",
     "text": [
      " train score = 0.983\n",
      " test score = 0.958\n"
     ]
    }
   ],
   "source": [
    "train_score = best_forest_clf.score(train_set, train_labels)\n",
    "test_score = best_forest_clf.score( test_set, test_labels)\n",
    "\n",
    "print(f\" train score = {train_score:.3f}\")\n",
    "print(f\" test score = {test_score:.3f}\")"
   ]
  },
  {
   "cell_type": "code",
   "execution_count": 21,
   "metadata": {
    "ExecuteTime": {
     "end_time": "2022-11-24T15:06:23.568320Z",
     "start_time": "2022-11-24T15:06:23.552855Z"
    }
   },
   "outputs": [
    {
     "data": {
      "text/plain": [
       "6"
      ]
     },
     "execution_count": 21,
     "metadata": {},
     "output_type": "execute_result"
    }
   ],
   "source": [
    "best_forest_clf.max_depth"
   ]
  },
  {
   "cell_type": "markdown",
   "metadata": {},
   "source": [
    "## 4.2 Curvas de aprendizaje \n",
    "\n",
    "## 4.2.1 Accuracy vs número de árboles"
   ]
  },
  {
   "cell_type": "code",
   "execution_count": 49,
   "metadata": {
    "ExecuteTime": {
     "end_time": "2022-11-24T15:31:30.474726Z",
     "start_time": "2022-11-24T15:31:21.715736Z"
    }
   },
   "outputs": [],
   "source": [
    "n_estimators = np.arange(10,200,10)\n",
    "train_score_list = []\n",
    "test_score_list = []\n",
    "\n",
    "for n_estimator in n_estimators:\n",
    "    forest_clf = RandomForestClassifier(n_estimators = n_estimator) \n",
    "\n",
    "    forest_clf.fit(train_set, train_labels)\n",
    "\n",
    "    train_score = forest_clf.score(train_set, train_labels)\n",
    "    test_score = forest_clf.score( test_set, test_labels)\n",
    "    \n",
    "    train_score_list.append(train_score)\n",
    "    test_score_list.append(test_score)"
   ]
  },
  {
   "cell_type": "code",
   "execution_count": 50,
   "metadata": {
    "ExecuteTime": {
     "end_time": "2022-11-24T15:31:30.715133Z",
     "start_time": "2022-11-24T15:31:30.504166Z"
    }
   },
   "outputs": [
    {
     "data": {
      "text/plain": [
       "<matplotlib.legend.Legend at 0x21844a2a970>"
      ]
     },
     "execution_count": 50,
     "metadata": {},
     "output_type": "execute_result"
    },
    {
     "data": {
      "image/png": "[encoded data removed]",
      "text/plain": [
       "<Figure size 864x432 with 1 Axes>"
      ]
     },
     "metadata": {
      "needs_background": "light"
     },
     "output_type": "display_data"
    }
   ],
   "source": [
    "plt.figure(figsize=(12,6))\n",
    "plt.title(\"Number of trees\")\n",
    "plt.plot(n_estimators,train_score_list, label = 'train score')\n",
    "plt.plot(n_estimators,test_score_list, label = 'test score')\n",
    "plt.xlabel(\"Number of trees\")\n",
    "plt.ylabel(\"Scores\")\n",
    "plt.legend()"
   ]
  },
  {
   "cell_type": "code",
   "execution_count": 51,
   "metadata": {
    "ExecuteTime": {
     "end_time": "2022-11-24T15:31:30.762688Z",
     "start_time": "2022-11-24T15:31:30.751535Z"
    }
   },
   "outputs": [
    {
     "name": "stdout",
     "output_type": "stream",
     "text": [
      "el número óptimo de árboles es 30\n"
     ]
    }
   ],
   "source": [
    "optim_number_trees =n_estimators[np.argmax(test_score_list)]\n",
    "\n",
    "print(f\"el número óptimo de árboles es {optim_number_trees}\")"
   ]
  },
  {
   "cell_type": "markdown",
   "metadata": {},
   "source": [
    "## 4.2.2 Accuracy vs número de características usadas"
   ]
  },
  {
   "cell_type": "code",
   "execution_count": 52,
   "metadata": {
    "ExecuteTime": {
     "end_time": "2022-11-24T15:31:32.630594Z",
     "start_time": "2022-11-24T15:31:30.790309Z"
    }
   },
   "outputs": [],
   "source": [
    "n_features = ['sqrt','log2',10,20,30,40,50,60]\n",
    "train_score_list = []\n",
    "test_score_list = []\n",
    "\n",
    "for n_feature in n_features:\n",
    "    forest_clf = RandomForestClassifier(n_estimators = optim_number_trees,\n",
    "                                       max_features =n_feature ) \n",
    "\n",
    "    forest_clf.fit(train_set, train_labels)\n",
    "\n",
    "    train_score = forest_clf.score(train_set, train_labels)\n",
    "    test_score = forest_clf.score( test_set, test_labels)\n",
    "    \n",
    "    train_score_list.append(train_score)\n",
    "    test_score_list.append(test_score)"
   ]
  },
  {
   "cell_type": "code",
   "execution_count": 53,
   "metadata": {
    "ExecuteTime": {
     "end_time": "2022-11-24T15:31:32.808374Z",
     "start_time": "2022-11-24T15:31:32.652490Z"
    }
   },
   "outputs": [
    {
     "data": {
      "text/plain": [
       "<matplotlib.legend.Legend at 0x21844a95130>"
      ]
     },
     "execution_count": 53,
     "metadata": {},
     "output_type": "execute_result"
    },
    {
     "data": {
      "image/png": "[encoded data removed]",
      "text/plain": [
       "<Figure size 864x432 with 1 Axes>"
      ]
     },
     "metadata": {
      "needs_background": "light"
     },
     "output_type": "display_data"
    }
   ],
   "source": [
    "plt.figure(figsize=(12,6))\n",
    "plt.title(\"Number features\")\n",
    "plt.plot(n_features,train_score_list, label = 'train score')\n",
    "plt.plot(n_features,test_score_list, label = 'test score')\n",
    "plt.xlabel(\"Number of trees\")\n",
    "plt.ylabel(\"Scores\")\n",
    "plt.legend()"
   ]
  },
  {
   "cell_type": "code",
   "execution_count": 54,
   "metadata": {
    "ExecuteTime": {
     "end_time": "2022-11-24T15:31:32.841502Z",
     "start_time": "2022-11-24T15:31:32.836128Z"
    }
   },
   "outputs": [
    {
     "name": "stdout",
     "output_type": "stream",
     "text": [
      "el número óptimo de características es 20 i.e 8\n"
     ]
    }
   ],
   "source": [
    "optim_feature = n_features[np.argmax(test_score_list)]\n",
    "\n",
    "print(f\"el número óptimo de características es {optim_feature} i.e 8\" )"
   ]
  },
  {
   "cell_type": "markdown",
   "metadata": {
    "ExecuteTime": {
     "end_time": "2022-11-24T15:27:28.226374Z",
     "start_time": "2022-11-24T15:27:28.215354Z"
    }
   },
   "source": [
    "## 4.2.3 Accuracy vs profundidad de los árboles"
   ]
  },
  {
   "cell_type": "code",
   "execution_count": 55,
   "metadata": {
    "ExecuteTime": {
     "end_time": "2022-11-24T15:31:35.037430Z",
     "start_time": "2022-11-24T15:31:32.873687Z"
    }
   },
   "outputs": [],
   "source": [
    "max_depths = [10,15,20,24,30,35,40,45,50,55,60,65,70,None]\n",
    "train_score_list = []\n",
    "test_score_list = []\n",
    "\n",
    "for max_depth in max_depths:\n",
    "    forest_clf = RandomForestClassifier(n_estimators = optim_number_trees,\n",
    "                                       max_features =optim_feature,\n",
    "                                       max_depth = max_depth) \n",
    "\n",
    "    forest_clf.fit(train_set, train_labels)\n",
    "\n",
    "    train_score = forest_clf.score(train_set, train_labels)\n",
    "    test_score = forest_clf.score( test_set, test_labels)\n",
    "    \n",
    "    train_score_list.append(train_score)\n",
    "    test_score_list.append(test_score)"
   ]
  },
  {
   "cell_type": "code",
   "execution_count": 56,
   "metadata": {
    "ExecuteTime": {
     "end_time": "2022-11-24T15:31:35.213939Z",
     "start_time": "2022-11-24T15:31:35.058297Z"
    }
   },
   "outputs": [
    {
     "data": {
      "text/plain": [
       "<matplotlib.legend.Legend at 0x21844b84df0>"
      ]
     },
     "execution_count": 56,
     "metadata": {},
     "output_type": "execute_result"
    },
    {
     "data": {
      "image/png": "[encoded data removed]",
      "text/plain": [
       "<Figure size 864x432 with 1 Axes>"
      ]
     },
     "metadata": {
      "needs_background": "light"
     },
     "output_type": "display_data"
    }
   ],
   "source": [
    "plt.figure(figsize=(12,6))\n",
    "plt.title(\"Max depth\")\n",
    "plt.plot(max_depths,train_score_list, label = 'train score')\n",
    "plt.plot(max_depths,test_score_list, label = 'test score')\n",
    "plt.xlabel(\"Number of trees\")\n",
    "plt.ylabel(\"Scores\")\n",
    "plt.legend()"
   ]
  },
  {
   "cell_type": "code",
   "execution_count": 62,
   "metadata": {
    "ExecuteTime": {
     "end_time": "2022-11-24T15:34:06.132922Z",
     "start_time": "2022-11-24T15:34:06.114250Z"
    }
   },
   "outputs": [
    {
     "name": "stdout",
     "output_type": "stream",
     "text": [
      "profundidad óptima es 15 nodos\n"
     ]
    }
   ],
   "source": [
    "optim_max_depth = max_depths[np.argmax(test_score_list)]\n",
    "\n",
    "print(f\"profundidad óptima es {optim_max_depth } nodos\")"
   ]
  },
  {
   "cell_type": "markdown",
   "metadata": {
    "ExecuteTime": {
     "end_time": "2022-11-24T16:25:46.248657Z",
     "start_time": "2022-11-24T16:25:46.235481Z"
    }
   },
   "source": [
    "## 4.3 Curva de aprendizaje mejor modelo"
   ]
  },
  {
   "cell_type": "code",
   "execution_count": 70,
   "metadata": {
    "ExecuteTime": {
     "end_time": "2022-11-24T16:27:44.410617Z",
     "start_time": "2022-11-24T16:27:44.404156Z"
    }
   },
   "outputs": [],
   "source": [
    "from sklearn.model_selection import learning_curve"
   ]
  },
  {
   "cell_type": "code",
   "execution_count": 66,
   "metadata": {
    "ExecuteTime": {
     "end_time": "2022-11-24T16:26:52.079631Z",
     "start_time": "2022-11-24T16:26:52.059492Z"
    }
   },
   "outputs": [],
   "source": [
    "best_model_rf = RandomForestClassifier(n_estimators = optim_number_trees,\n",
    "                                       max_features =optim_feature,\n",
    "                                       max_depth = optim_max_depth) "
   ]
  },
  {
   "cell_type": "code",
   "execution_count": 74,
   "metadata": {
    "ExecuteTime": {
     "end_time": "2022-11-24T16:30:32.954121Z",
     "start_time": "2022-11-24T16:30:32.929457Z"
    }
   },
   "outputs": [],
   "source": [
    "def plot_learning_curve(\n",
    "    estimator,\n",
    "    title,\n",
    "    X,\n",
    "    y,\n",
    "    axes=None,\n",
    "    ylim=None,\n",
    "    cv=None,\n",
    "    n_jobs=None,\n",
    "    train_sizes=np.linspace(0.1, 1.0, 5),\n",
    "):\n",
    "    \"\"\"\n",
    "    Generate 3 plots: the test and training learning curve, the training\n",
    "    samples vs fit times curve, the fit times vs score curve.\n",
    "\n",
    "    Parameters\n",
    "    ----------\n",
    "    estimator : estimator instance\n",
    "        An estimator instance implementing `fit` and `predict` methods which\n",
    "        will be cloned for each validation.\n",
    "\n",
    "    title : str\n",
    "        Title for the chart.\n",
    "\n",
    "    X : array-like of shape (n_samples, n_features)\n",
    "        Training vector, where ``n_samples`` is the number of samples and\n",
    "        ``n_features`` is the number of features.\n",
    "\n",
    "    y : array-like of shape (n_samples) or (n_samples, n_features)\n",
    "        Target relative to ``X`` for classification or regression;\n",
    "        None for unsupervised learning.\n",
    "\n",
    "    axes : array-like of shape (3,), default=None\n",
    "        Axes to use for plotting the curves.\n",
    "\n",
    "    ylim : tuple of shape (2,), default=None\n",
    "        Defines minimum and maximum y-values plotted, e.g. (ymin, ymax).\n",
    "\n",
    "    cv : int, cross-validation generator or an iterable, default=None\n",
    "        Determines the cross-validation splitting strategy.\n",
    "        Possible inputs for cv are:\n",
    "\n",
    "          - None, to use the default 5-fold cross-validation,\n",
    "          - integer, to specify the number of folds.\n",
    "          - :term:`CV splitter`,\n",
    "          - An iterable yielding (train, test) splits as arrays of indices.\n",
    "\n",
    "        For integer/None inputs, if ``y`` is binary or multiclass,\n",
    "        :class:`StratifiedKFold` used. If the estimator is not a classifier\n",
    "        or if ``y`` is neither binary nor multiclass, :class:`KFold` is used.\n",
    "\n",
    "        Refer :ref:`User Guide <cross_validation>` for the various\n",
    "        cross-validators that can be used here.\n",
    "\n",
    "    n_jobs : int or None, default=None\n",
    "        Number of jobs to run in parallel.\n",
    "        ``None`` means 1 unless in a :obj:`joblib.parallel_backend` context.\n",
    "        ``-1`` means using all processors. See :term:`Glossary <n_jobs>`\n",
    "        for more details.\n",
    "\n",
    "    train_sizes : array-like of shape (n_ticks,)\n",
    "        Relative or absolute numbers of training examples that will be used to\n",
    "        generate the learning curve. If the ``dtype`` is float, it is regarded\n",
    "        as a fraction of the maximum size of the training set (that is\n",
    "        determined by the selected validation method), i.e. it has to be within\n",
    "        (0, 1]. Otherwise it is interpreted as absolute sizes of the training\n",
    "        sets. Note that for classification the number of samples usually have\n",
    "        to be big enough to contain at least one sample from each class.\n",
    "        (default: np.linspace(0.1, 1.0, 5))\n",
    "    \"\"\"\n",
    "    if axes is None:\n",
    "        _, axes = plt.subplots(1, 3, figsize=(20, 5))\n",
    "\n",
    "    axes[0].set_title(title)\n",
    "    if ylim is not None:\n",
    "        axes[0].set_ylim(*ylim)\n",
    "    axes[0].set_xlabel(\"Training examples\")\n",
    "    axes[0].set_ylabel(\"Score\")\n",
    "\n",
    "    train_sizes, train_scores, test_scores, fit_times, _ = learning_curve(\n",
    "        estimator,\n",
    "        X,\n",
    "        y,\n",
    "        cv=cv,\n",
    "        n_jobs=n_jobs,\n",
    "        train_sizes=train_sizes,\n",
    "        return_times=True,\n",
    "    )\n",
    "    train_scores_mean = np.mean(train_scores, axis=1)\n",
    "    train_scores_std = np.std(train_scores, axis=1)\n",
    "    test_scores_mean = np.mean(test_scores, axis=1)\n",
    "    test_scores_std = np.std(test_scores, axis=1)\n",
    "    fit_times_mean = np.mean(fit_times, axis=1)\n",
    "    fit_times_std = np.std(fit_times, axis=1)\n",
    "\n",
    "    # Plot learning curve\n",
    "    axes[0].grid()\n",
    "    axes[0].fill_between(\n",
    "        train_sizes,\n",
    "        train_scores_mean - train_scores_std,\n",
    "        train_scores_mean + train_scores_std,\n",
    "        alpha=0.1,\n",
    "        color=\"r\",\n",
    "    )\n",
    "    axes[0].fill_between(\n",
    "        train_sizes,\n",
    "        test_scores_mean - test_scores_std,\n",
    "        test_scores_mean + test_scores_std,\n",
    "        alpha=0.1,\n",
    "        color=\"g\",\n",
    "    )\n",
    "    axes[0].plot(\n",
    "        train_sizes, train_scores_mean, \"o-\", color=\"r\", label=\"Training score\"\n",
    "    )\n",
    "    axes[0].plot(\n",
    "        train_sizes, test_scores_mean, \"o-\", color=\"g\", label=\"Cross-validation score\"\n",
    "    )\n",
    "    axes[0].legend(loc=\"best\")\n",
    "\n",
    "    # Plot n_samples vs fit_times\n",
    "    axes[1].grid()\n",
    "    axes[1].plot(train_sizes, fit_times_mean, \"o-\")\n",
    "    axes[1].fill_between(\n",
    "        train_sizes,\n",
    "        fit_times_mean - fit_times_std,\n",
    "        fit_times_mean + fit_times_std,\n",
    "        alpha=0.1,\n",
    "    )\n",
    "    axes[1].set_xlabel(\"Training examples\")\n",
    "    axes[1].set_ylabel(\"Time of fitting [s]\")\n",
    "    axes[1].set_title(\"Scalability of the model\")\n",
    "\n",
    "    # Plot fit_time vs score\n",
    "    fit_time_argsort = fit_times_mean.argsort()\n",
    "    fit_time_sorted = fit_times_mean[fit_time_argsort]\n",
    "    test_scores_mean_sorted = test_scores_mean[fit_time_argsort]\n",
    "    test_scores_std_sorted = test_scores_std[fit_time_argsort]\n",
    "    axes[2].grid()\n",
    "    axes[2].plot(fit_time_sorted, test_scores_mean_sorted, \"o-\")\n",
    "    axes[2].fill_between(\n",
    "        fit_time_sorted,\n",
    "        test_scores_mean_sorted - test_scores_std_sorted,\n",
    "        test_scores_mean_sorted + test_scores_std_sorted,\n",
    "        alpha=0.1,\n",
    "    )\n",
    "    axes[2].set_xlabel(\"Time of fitting [s]\")\n",
    "    axes[2].set_ylabel(\"Score\")\n",
    "    axes[2].set_title(\"Performance of the model\")\n",
    "\n",
    "    return plt"
   ]
  },
  {
   "cell_type": "markdown",
   "metadata": {},
   "source": [
    "## 5. Matriz de confusión "
   ]
  },
  {
   "cell_type": "code",
   "execution_count": 78,
   "metadata": {
    "ExecuteTime": {
     "end_time": "2022-11-24T16:37:20.006590Z",
     "start_time": "2022-11-24T16:37:19.994261Z"
    }
   },
   "outputs": [],
   "source": [
    "from sklearn.metrics import accuracy_score, confusion_matrix, f1_score\n",
    "from sklearn.metrics import plot_confusion_matrix"
   ]
  },
  {
   "cell_type": "code",
   "execution_count": 80,
   "metadata": {
    "ExecuteTime": {
     "end_time": "2022-11-24T16:38:08.463244Z",
     "start_time": "2022-11-24T16:38:08.193189Z"
    }
   },
   "outputs": [
    {
     "data": {
      "text/plain": [
       "RandomForestClassifier(max_depth=15, max_features=20, n_estimators=30)"
      ]
     },
     "execution_count": 80,
     "metadata": {},
     "output_type": "execute_result"
    }
   ],
   "source": [
    "best_model_rf.fit(train_set, train_labels)"
   ]
  },
  {
   "cell_type": "code",
   "execution_count": 85,
   "metadata": {
    "ExecuteTime": {
     "end_time": "2022-11-24T16:42:40.808676Z",
     "start_time": "2022-11-24T16:42:40.262185Z"
    }
   },
   "outputs": [
    {
     "name": "stderr",
     "output_type": "stream",
     "text": [
      "C:\\Users\\nico0\\anaconda3\\lib\\site-packages\\sklearn\\utils\\deprecation.py:87: FutureWarning: Function plot_confusion_matrix is deprecated; Function `plot_confusion_matrix` is deprecated in 1.0 and will be removed in 1.2. Use one of the class methods: ConfusionMatrixDisplay.from_predictions or ConfusionMatrixDisplay.from_estimator.\n",
      "  warnings.warn(msg, category=FutureWarning)\n"
     ]
    },
    {
     "data": {
      "text/plain": [
       "<sklearn.metrics._plot.confusion_matrix.ConfusionMatrixDisplay at 0x21846a257c0>"
      ]
     },
     "execution_count": 85,
     "metadata": {},
     "output_type": "execute_result"
    },
    {
     "data": {
      "image/png": "[encoded data removed]",
      "text/plain": [
       "<Figure size 720x720 with 2 Axes>"
      ]
     },
     "metadata": {
      "needs_background": "light"
     },
     "output_type": "display_data"
    }
   ],
   "source": [
    "fig, ax = plt.subplots(figsize=(10, 10))\n",
    "\n",
    "plot_confusion_matrix(estimator=best_model_rf,\n",
    "                X = test_set,\n",
    "                y_true=  test_labels, ax = ax)"
   ]
  },
  {
   "cell_type": "code",
   "execution_count": 75,
   "metadata": {
    "ExecuteTime": {
     "end_time": "2022-11-24T16:30:37.534421Z",
     "start_time": "2022-11-24T16:30:34.007516Z"
    }
   },
   "outputs": [
    {
     "data": {
      "text/plain": [
       "<module 'matplotlib.pyplot' from 'C:\\\\Users\\\\nico0\\\\anaconda3\\\\lib\\\\site-packages\\\\matplotlib\\\\pyplot.py'>"
      ]
     },
     "execution_count": 75,
     "metadata": {},
     "output_type": "execute_result"
    },
    {
     "data": {
      "image/png": "[encoded data removed]",
      "text/plain": [
       "<Figure size 1440x360 with 3 Axes>"
      ]
     },
     "metadata": {
      "needs_background": "light"
     },
     "output_type": "display_data"
    }
   ],
   "source": [
    "plot_learning_curve(best_model_rf,\n",
    "                    'learning',train_set, train_labels)"
   ]
  },
  {
   "cell_type": "markdown",
   "metadata": {
    "ExecuteTime": {
     "end_time": "2022-11-24T16:28:13.622551Z",
     "start_time": "2022-11-24T16:28:13.606175Z"
    }
   },
   "source": [
    "## 6. Conclusiones "
   ]
  },
  {
   "cell_type": "markdown",
   "metadata": {},
   "source": [
    "- Se observa que a mayor cantidad de datos, mejor es el score en los datos de test\n",
    "\n",
    "- El tiempo de de entrenamiento aumenta linealmente con el número de muestras\n",
    "\n",
    "- El algoritmo es capaz de reconocer de muy buena manera los dígitos en el conjunto de entrenamiento\n"
   ]
  }
 ],
 "metadata": {
  "colab": {
   "collapsed_sections": [],
   "name": "Laboratorio_12_RandomForest.ipynb",
   "provenance": []
  },
  "kernelspec": {
   "display_name": "Python 3 (ipykernel)",
   "language": "python",
   "name": "python3"
  },
  "language_info": {
   "codemirror_mode": {
    "name": "ipython",
    "version": 3
   },
   "file_extension": ".py",
   "mimetype": "text/x-python",
   "name": "python",
   "nbconvert_exporter": "python",
   "pygments_lexer": "ipython3",
   "version": "3.9.12"
  },
  "varInspector": {
   "cols": {
    "lenName": 16,
    "lenType": 16,
    "lenVar": 40
   },
   "kernels_config": {
    "python": {
     "delete_cmd_postfix": "",
     "delete_cmd_prefix": "del ",
     "library": "var_list.py",
     "varRefreshCmd": "print(var_dic_list())"
    },
    "r": {
     "delete_cmd_postfix": ") ",
     "delete_cmd_prefix": "rm(",
     "library": "var_list.r",
     "varRefreshCmd": "cat(var_dic_list()) "
    }
   },
   "types_to_exclude": [
    "module",
    "function",
    "builtin_function_or_method",
    "instance",
    "_Feature"
   ],
   "window_display": false
  }
 },
 "nbformat": 4,
 "nbformat_minor": 1
}
