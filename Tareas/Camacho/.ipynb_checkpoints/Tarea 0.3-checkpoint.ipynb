{
 "cells": [
  {
   "cell_type": "markdown",
   "id": "2c222105",
   "metadata": {},
   "source": [
    "Empleando  los siguientes tiempos:\n",
    "```\n",
    "t = np.linspace(0, 2, 1000)\n",
    "```\n",
    "1. Crear un data frame de pandas para la posicion $y=ho-0.5gt^2$, $g=9.8m/s$, $h = 100 m$ \n",
    "2. Adicione una nueva columna para la velocidad y la aceleración.\n",
    "\n",
    "Construya un nuevo data frame desde el tiempo t=0.5s a 1.5s, solo con las posición como funcion del tiempo."
   ]
  },
  {
   "cell_type": "code",
   "execution_count": 1,
   "id": "78810d80",
   "metadata": {},
   "outputs": [],
   "source": [
    "import numpy as np\n",
    "import pandas as pd"
   ]
  },
  {
   "cell_type": "code",
   "execution_count": 19,
   "id": "0161cf58",
   "metadata": {},
   "outputs": [],
   "source": [
    "t = np.linspace(0,2,1000)\n",
    "df = pd.DataFrame(t, columns=['Tiempo'])"
   ]
  },
  {
   "cell_type": "code",
   "execution_count": 22,
   "id": "c480c73b",
   "metadata": {},
   "outputs": [],
   "source": [
    "def y(t):\n",
    "    return 100 - 0.5*9.8*t**2\n",
    "def v(t):\n",
    "    return 9.8*t\n",
    "#def a(t): \n",
    "\n",
    "df['Posición'] = y(t)\n",
    "df['Velocidad'] = v(t)\n",
    "df['Aceleración'] = df['Velocidad']/df['Tiempo']"
   ]
  },
  {
   "cell_type": "code",
   "execution_count": 23,
   "id": "f56e7198",
   "metadata": {},
   "outputs": [
    {
     "data": {
      "text/html": [
       "<div>\n",
       "<style scoped>\n",
       "    .dataframe tbody tr th:only-of-type {\n",
       "        vertical-align: middle;\n",
       "    }\n",
       "\n",
       "    .dataframe tbody tr th {\n",
       "        vertical-align: top;\n",
       "    }\n",
       "\n",
       "    .dataframe thead th {\n",
       "        text-align: right;\n",
       "    }\n",
       "</style>\n",
       "<table border=\"1\" class=\"dataframe\">\n",
       "  <thead>\n",
       "    <tr style=\"text-align: right;\">\n",
       "      <th></th>\n",
       "      <th>Tiempo</th>\n",
       "      <th>Posición</th>\n",
       "      <th>Velocidad</th>\n",
       "      <th>Aceleración</th>\n",
       "    </tr>\n",
       "  </thead>\n",
       "  <tbody>\n",
       "    <tr>\n",
       "      <th>0</th>\n",
       "      <td>0.000000</td>\n",
       "      <td>100.000000</td>\n",
       "      <td>0.000000</td>\n",
       "      <td>NaN</td>\n",
       "    </tr>\n",
       "    <tr>\n",
       "      <th>1</th>\n",
       "      <td>0.002002</td>\n",
       "      <td>99.999980</td>\n",
       "      <td>0.019620</td>\n",
       "      <td>9.8</td>\n",
       "    </tr>\n",
       "    <tr>\n",
       "      <th>2</th>\n",
       "      <td>0.004004</td>\n",
       "      <td>99.999921</td>\n",
       "      <td>0.039239</td>\n",
       "      <td>9.8</td>\n",
       "    </tr>\n",
       "    <tr>\n",
       "      <th>3</th>\n",
       "      <td>0.006006</td>\n",
       "      <td>99.999823</td>\n",
       "      <td>0.058859</td>\n",
       "      <td>9.8</td>\n",
       "    </tr>\n",
       "    <tr>\n",
       "      <th>4</th>\n",
       "      <td>0.008008</td>\n",
       "      <td>99.999686</td>\n",
       "      <td>0.078478</td>\n",
       "      <td>9.8</td>\n",
       "    </tr>\n",
       "    <tr>\n",
       "      <th>...</th>\n",
       "      <td>...</td>\n",
       "      <td>...</td>\n",
       "      <td>...</td>\n",
       "      <td>...</td>\n",
       "    </tr>\n",
       "    <tr>\n",
       "      <th>995</th>\n",
       "      <td>1.991992</td>\n",
       "      <td>80.556643</td>\n",
       "      <td>19.521522</td>\n",
       "      <td>9.8</td>\n",
       "    </tr>\n",
       "    <tr>\n",
       "      <th>996</th>\n",
       "      <td>1.993994</td>\n",
       "      <td>80.517541</td>\n",
       "      <td>19.541141</td>\n",
       "      <td>9.8</td>\n",
       "    </tr>\n",
       "    <tr>\n",
       "      <th>997</th>\n",
       "      <td>1.995996</td>\n",
       "      <td>80.478400</td>\n",
       "      <td>19.560761</td>\n",
       "      <td>9.8</td>\n",
       "    </tr>\n",
       "    <tr>\n",
       "      <th>998</th>\n",
       "      <td>1.997998</td>\n",
       "      <td>80.439220</td>\n",
       "      <td>19.580380</td>\n",
       "      <td>9.8</td>\n",
       "    </tr>\n",
       "    <tr>\n",
       "      <th>999</th>\n",
       "      <td>2.000000</td>\n",
       "      <td>80.400000</td>\n",
       "      <td>19.600000</td>\n",
       "      <td>9.8</td>\n",
       "    </tr>\n",
       "  </tbody>\n",
       "</table>\n",
       "<p>1000 rows × 4 columns</p>\n",
       "</div>"
      ],
      "text/plain": [
       "       Tiempo    Posición  Velocidad  Aceleración\n",
       "0    0.000000  100.000000   0.000000          NaN\n",
       "1    0.002002   99.999980   0.019620          9.8\n",
       "2    0.004004   99.999921   0.039239          9.8\n",
       "3    0.006006   99.999823   0.058859          9.8\n",
       "4    0.008008   99.999686   0.078478          9.8\n",
       "..        ...         ...        ...          ...\n",
       "995  1.991992   80.556643  19.521522          9.8\n",
       "996  1.993994   80.517541  19.541141          9.8\n",
       "997  1.995996   80.478400  19.560761          9.8\n",
       "998  1.997998   80.439220  19.580380          9.8\n",
       "999  2.000000   80.400000  19.600000          9.8\n",
       "\n",
       "[1000 rows x 4 columns]"
      ]
     },
     "execution_count": 23,
     "metadata": {},
     "output_type": "execute_result"
    }
   ],
   "source": [
    "df"
   ]
  },
  {
   "cell_type": "code",
   "execution_count": null,
   "id": "348015ff",
   "metadata": {},
   "outputs": [],
   "source": []
  },
  {
   "cell_type": "code",
   "execution_count": null,
   "id": "76b7f3fd",
   "metadata": {},
   "outputs": [],
   "source": []
  },
  {
   "cell_type": "code",
   "execution_count": null,
   "id": "24e4a1d9",
   "metadata": {},
   "outputs": [],
   "source": []
  }
 ],
 "metadata": {
  "kernelspec": {
   "display_name": "Python 3 (ipykernel)",
   "language": "python",
   "name": "python3"
  },
  "language_info": {
   "codemirror_mode": {
    "name": "ipython",
    "version": 3
   },
   "file_extension": ".py",
   "mimetype": "text/x-python",
   "name": "python",
   "nbconvert_exporter": "python",
   "pygments_lexer": "ipython3",
   "version": "3.9.7"
  }
 },
 "nbformat": 4,
 "nbformat_minor": 5
}
