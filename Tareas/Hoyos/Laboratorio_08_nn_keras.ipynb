{
 "cells": [
  {
   "cell_type": "markdown",
   "metadata": {
    "id": "g8yDwsbFN4sJ"
   },
   "source": [
    "# Keras: https://keras.io/api/layers/activations/\n",
    "\n",
    "keras es una bilbioteca con librerias de codigo abierto para entrenar modelos de deep learning DL que puede ejecutarse en TensorFlow. Keras permite construir bloque de arquitectura de la redes neuronales, y permite construir desde un perceptron hasta redes neuronales convolucionales  y recurrentes de una manera amigable con el usuario\n"
   ]
  },
  {
   "cell_type": "markdown",
   "metadata": {
    "id": "2vFY3rPvQVK0"
   },
   "source": [
    "# Funciones de activación\n",
    "\n",
    "Tipos de funciones de activación:\n",
    "\n",
    "## Lineal:\n",
    "\n",
    "Una transformación lineal, la cual se muestra en la siguiente figura, consiste, básicamente, en la función identidad, en donde la variable dependiente tiene una relación directa y proporcional con la variable independiente. En términos prácticos, lo anterior significa que una función de activación lineal pasa la señal sin realizar un cambio sobre esta. Este el típo de activación que se usa en la capa de entrada de las redes neuronales.\n",
    "\n",
    "\n",
    "## Sigmoide:\n",
    "Como todas las transformaciones logística, las sigmoides puede reducir la cantidad de valores extremos o outliers en los datos sin eliminarlos. En la siguiente figura se ilustra dicha función sigmoide:\n",
    "\n",
    "Una función sigmoide convierde una variable independiente de rango infinito en probabilidades con un rango entre 0 y 1. La mayoria de las salidas serán cercanas a 0 o 1, que corresponden a zonas de saturación.\n",
    "\n",
    "La función de activación sigmoide devuelve una probabilidad independiente para cada clase.\n",
    "\n",
    "\n",
    "\n",
    "##  Tanh\n",
    "Corresponde a una función trigronométrica hiperbólica,a diferencia de la función sigmoide, el rango de salida de tanh varía entre -1 y 1. La ventaja de tanh es puede tratar los números negativos de forma más eficiente que la función sigmoide.\n",
    "\n",
    "\n",
    "## ReLU: Rectified Linear Unit (Unidad Rectificadad Lineal)\n",
    "La unidad rectificada lineal es una trasformación más intersante que activa un nodo solo si la entrada se encuentra por encima de cierta cantidad. Si la entrada está por debajo de zero, la salida es cero, pero si la entrada alcanza un valor umbral, la salida tiene una relación lineal con la variable dependiente \n",
    "\n",
    "Las funciones de activaciones ReLU represetan actualmente el estado de arte en la aplicación de funciones de activación, ya que han demostrado un buen desempeño en diferentes situaciones. Dado que el gradiente de la ReLU es cero o constante, permite evitar el problema del desvanecimiento del gradiente. Las funciones de activación ReLu han demostrado un mejor entrenamiento en la práctica que las funciones de activación sigmoidea.\n",
    "\n",
    "Las funciones de activación ReLU se usan, normalmente, en las capas ocultas.\n",
    "\n",
    "Existen mas funciones de activación, no obstante, nos centraremos a continuación en la descrisición de una función de activación usada en la capa de salida para la clasificación multiclase mediante una red neuronal, conocida como Softmax.\n",
    "\n",
    "\n",
    "## Softmax\n",
    "La función de activación Softmax representa una generalización de la regresión logística en el sentido que puede ser apllicada a un conjunto continues de datos (en lugar de una clasificación binaria) y puede contener múltiples fronteras de desición. Esta función maneja sistemas multinomiales para el etiquetado. Softmax es una función que normalmente se usa en la capa de salida de un clasificador.\n",
    "\n",
    "La función de activación Softmax devuelve la distribución de probablilidades de clases mutuamente excluyentes.\n",
    "\n",
    "Consideremos el siguiente ejemplo en donde se ilustra, entre otra cosas la definición de la función SoftMax:\n",
    "\n",
    "$S(y_i)=\\frac{e^y_i}{\\sum e^{y_i}}$\n",
    "\n",
    "\n",
    "En deep learning, el térno capa logit se usa para la última capa de neuronas de la red neuronal para el problema de clasificación que produce unos valores de predicción \"crudos\" de valores reales que varian en el intervalo . En concreto, las cantidades logits son los puntajes crudos de la ultima capa de la red neuronal, antes de que se les aplique la activación.\n",
    "\n",
    "\n",
    "Ref: https://github.com/ssanchezgoe/curso_deep_learning_economia/blob/main/NBs_Google_Colab/DL_S07_Funciones_Activacion_Arquitectura_Red.ipynb"
   ]
  },
  {
   "cell_type": "code",
   "execution_count": null,
   "metadata": {
    "id": "VqNJ24H2OqJa"
   },
   "outputs": [],
   "source": [
    "import numpy as np\n",
    "from tensorflow import keras\n"
   ]
  },
  {
   "cell_type": "code",
   "execution_count": null,
   "metadata": {
    "colab": {
     "base_uri": "https://localhost:8080/"
    },
    "executionInfo": {
     "elapsed": 315,
     "status": "ok",
     "timestamp": 1660848847795,
     "user": {
      "displayName": "HERNAN DAVID SALINAS JIMENEZ",
      "userId": "00408651407692255291"
     },
     "user_tz": 300
    },
    "id": "PAGKdoa6Pe1b",
    "outputId": "b347ab52-34ff-461b-bb8c-19add98ea156"
   },
   "outputs": [],
   "source": [
    "# 1: A través de una capa medidante el método Activación:\n",
    "modelA = keras.models.Sequential()\n",
    "modelA.add(keras.layers.Dense(32, input_shape=(16,)))\n",
    "modelA.add(keras.layers.Activation('relu'))#  Capa activación\n",
    "modelA.add(keras.layers.Dense(64))\n",
    "modelA.add(keras.layers.Activation('tanh'))#  Capa activación\n",
    "modelA.summary()"
   ]
  },
  {
   "cell_type": "code",
   "execution_count": null,
   "metadata": {
    "colab": {
     "base_uri": "https://localhost:8080/"
    },
    "executionInfo": {
     "elapsed": 231,
     "status": "ok",
     "timestamp": 1660848882636,
     "user": {
      "displayName": "HERNAN DAVID SALINAS JIMENEZ",
      "userId": "00408651407692255291"
     },
     "user_tz": 300
    },
    "id": "M12mxXtuPon5",
    "outputId": "79554d46-2440-4d1b-a528-bc14f253429b"
   },
   "outputs": [],
   "source": [
    "# 2: Mediante el argumento activation\n",
    "modelB = keras.models.Sequential()\n",
    "modelB.add(keras.layers.Dense(32, input_shape=(16,)))\n",
    "modelA.add(keras.layers.Activation('relu'))#  Capa activación\n",
    "modelB.add(keras.layers.Dense(64, activation='tanh'))\n",
    "modelB.summary()"
   ]
  },
  {
   "cell_type": "code",
   "execution_count": null,
   "metadata": {
    "colab": {
     "base_uri": "https://localhost:8080/"
    },
    "executionInfo": {
     "elapsed": 11,
     "status": "ok",
     "timestamp": 1660847976271,
     "user": {
      "displayName": "HERNAN DAVID SALINAS JIMENEZ",
      "userId": "00408651407692255291"
     },
     "user_tz": 300
    },
    "id": "a26fmJ4lP3qB",
    "outputId": "8cf7c355-1d3f-4601-d8f9-f1a24b9eb46f"
   },
   "outputs": [],
   "source": [
    "# 3: Mediante una función de Tensor-flow por elementos.\n",
    "from keras import backend as K\n",
    "modelC = keras.models.Sequential()\n",
    "modelC.add(keras.layers.Dense(32, input_shape=(16,)))\n",
    "modelC.add(keras.layers.Dense(64, activation=K.tanh))\n",
    "modelC.summary()"
   ]
  },
  {
   "cell_type": "code",
   "execution_count": null,
   "metadata": {
    "colab": {
     "base_uri": "https://localhost:8080/",
     "height": 283
    },
    "executionInfo": {
     "elapsed": 304,
     "status": "ok",
     "timestamp": 1660848581970,
     "user": {
      "displayName": "HERNAN DAVID SALINAS JIMENEZ",
      "userId": "00408651407692255291"
     },
     "user_tz": 300
    },
    "id": "SPcwCV5FQOzQ",
    "outputId": "123a32b3-b789-489c-8d05-106dd15ccb99"
   },
   "outputs": [],
   "source": [
    "# Relu\n",
    "import matplotlib.pyplot as plt\n",
    "x=np.random.uniform(low=-10.0, high=10, size=(2000,))\n",
    "y=keras.activations.relu(x, alpha=0.0, max_value=None, threshold=0)\n",
    "plt.plot(x,y,'.')"
   ]
  },
  {
   "cell_type": "code",
   "execution_count": null,
   "metadata": {
    "colab": {
     "base_uri": "https://localhost:8080/",
     "height": 283
    },
    "executionInfo": {
     "elapsed": 559,
     "status": "ok",
     "timestamp": 1660848652632,
     "user": {
      "displayName": "HERNAN DAVID SALINAS JIMENEZ",
      "userId": "00408651407692255291"
     },
     "user_tz": 300
    },
    "id": "8wzaac3ISyKK",
    "outputId": "3722faca-9c0e-4731-b839-d78f76eb0db9"
   },
   "outputs": [],
   "source": [
    "# tanh\n",
    "y=keras.activations.tanh(x)\n",
    "plt.plot(x,y,'.')\n"
   ]
  },
  {
   "cell_type": "code",
   "execution_count": null,
   "metadata": {
    "colab": {
     "base_uri": "https://localhost:8080/",
     "height": 283
    },
    "executionInfo": {
     "elapsed": 619,
     "status": "ok",
     "timestamp": 1660848674923,
     "user": {
      "displayName": "HERNAN DAVID SALINAS JIMENEZ",
      "userId": "00408651407692255291"
     },
     "user_tz": 300
    },
    "id": "Hpi1LJHjS0jb",
    "outputId": "fd4ae5da-957e-4106-e144-2eec579be699"
   },
   "outputs": [],
   "source": [
    "#sigmoid\n",
    "y=keras.activations.sigmoid(x)\n",
    "plt.plot(x,y,'.')\n"
   ]
  },
  {
   "cell_type": "code",
   "execution_count": null,
   "metadata": {
    "colab": {
     "base_uri": "https://localhost:8080/",
     "height": 283
    },
    "executionInfo": {
     "elapsed": 379,
     "status": "ok",
     "timestamp": 1660848676661,
     "user": {
      "displayName": "HERNAN DAVID SALINAS JIMENEZ",
      "userId": "00408651407692255291"
     },
     "user_tz": 300
    },
    "id": "5buNZl9zS3Wb",
    "outputId": "d3c3901e-ba0d-4f05-e459-d66c9bc0edc5"
   },
   "outputs": [],
   "source": [
    "# elu\n",
    "y=keras.activations.elu(x, alpha=1.0)\n",
    "plt.plot(x,y,'.')"
   ]
  },
  {
   "cell_type": "code",
   "execution_count": null,
   "metadata": {
    "colab": {
     "base_uri": "https://localhost:8080/",
     "height": 283
    },
    "executionInfo": {
     "elapsed": 640,
     "status": "ok",
     "timestamp": 1660848678032,
     "user": {
      "displayName": "HERNAN DAVID SALINAS JIMENEZ",
      "userId": "00408651407692255291"
     },
     "user_tz": 300
    },
    "id": "-NzZTPBiS4Op",
    "outputId": "742080fc-216e-4aa2-dae5-8d9909e9924e"
   },
   "outputs": [],
   "source": [
    "# Exponential\n",
    "y=keras.activations.exponential(x)\n",
    "plt.plot(x,y,'.')"
   ]
  },
  {
   "cell_type": "code",
   "execution_count": null,
   "metadata": {
    "colab": {
     "base_uri": "https://localhost:8080/",
     "height": 283
    },
    "executionInfo": {
     "elapsed": 613,
     "status": "ok",
     "timestamp": 1660848686757,
     "user": {
      "displayName": "HERNAN DAVID SALINAS JIMENEZ",
      "userId": "00408651407692255291"
     },
     "user_tz": 300
    },
    "id": "78UwhBnvS7Mr",
    "outputId": "7ddfa626-6fa7-46b5-de80-206e624a8701"
   },
   "outputs": [],
   "source": [
    "# Selu \n",
    "y=keras.activations.selu(x)\n",
    "plt.plot(x,y,'.')"
   ]
  },
  {
   "cell_type": "code",
   "execution_count": null,
   "metadata": {
    "colab": {
     "base_uri": "https://localhost:8080/",
     "height": 283
    },
    "executionInfo": {
     "elapsed": 613,
     "status": "ok",
     "timestamp": 1660848695639,
     "user": {
      "displayName": "HERNAN DAVID SALINAS JIMENEZ",
      "userId": "00408651407692255291"
     },
     "user_tz": 300
    },
    "id": "djOhkiMnS9lP",
    "outputId": "f56bc4ab-1893-4cbd-c1c7-eb6d7a019ccb"
   },
   "outputs": [],
   "source": [
    "\n",
    "# Linear\n",
    "y=keras.activations.linear(x)\n",
    "plt.plot(x,y,'.')"
   ]
  },
  {
   "cell_type": "code",
   "execution_count": null,
   "metadata": {
    "colab": {
     "base_uri": "https://localhost:8080/",
     "height": 283
    },
    "executionInfo": {
     "elapsed": 672,
     "status": "ok",
     "timestamp": 1660848704041,
     "user": {
      "displayName": "HERNAN DAVID SALINAS JIMENEZ",
      "userId": "00408651407692255291"
     },
     "user_tz": 300
    },
    "id": "L7duyMfES_ge",
    "outputId": "92282f45-1569-4eab-9e07-26212001c561"
   },
   "outputs": [],
   "source": [
    "\n",
    "y=keras.activations.softplus(x)\n",
    "plt.plot(x,y,'.')\n"
   ]
  },
  {
   "cell_type": "code",
   "execution_count": null,
   "metadata": {
    "colab": {
     "base_uri": "https://localhost:8080/",
     "height": 283
    },
    "executionInfo": {
     "elapsed": 531,
     "status": "ok",
     "timestamp": 1660848707845,
     "user": {
      "displayName": "HERNAN DAVID SALINAS JIMENEZ",
      "userId": "00408651407692255291"
     },
     "user_tz": 300
    },
    "id": "4xKc4uh0SfcI",
    "outputId": "eccd39ae-4d8e-4ebf-deff-098d70f2c230"
   },
   "outputs": [],
   "source": [
    "y=keras.activations.softsign(x)\n",
    "plt.plot(x,y,'.')"
   ]
  },
  {
   "cell_type": "markdown",
   "metadata": {
    "id": "hbUbsVc5TRjZ"
   },
   "source": [
    "# Arquitectura y funcionalidad de la Redes neuronales secuenciales:\n",
    "\n",
    "De las funciones de activación habladas en la clase anterior podemos advertir dos características que deben poseer una red neuronal:\n",
    "\n",
    "Las funciones de activación de las capas ocultas deben ser funciones de activación no lineales, con el fín de que la red actue como un aproximador universal a una función.\n",
    "\n",
    "La función de activación de la capa de salida determina el tipo de clasificación/regresión del problema que se pretende solucionar.\n",
    "Como regla general, se tiene que la función de activación de las capas ocultas puede ser definida como una función ReLU y, dependiendo del problema, podemos definir la función de activación de la capa de salida como:\n",
    "\n",
    "- Función de activación sigmoide: si el problema de clasificación es binario.\n",
    "- Función de activación Softmax: si el problema de clasificación es multiclase.\n",
    "- Función de activación lineal: si el problema se trata de una regresión.\n",
    "\n",
    "En resumen, en la siguiente figura se ilustran la arquitectura de red de los problemas que pueden presentarse en la clasificación/regresión usando una red neuronal secuencial y las funciones de activación definidas en las capas que la componen."
   ]
  },
  {
   "cell_type": "code",
   "execution_count": null,
   "metadata": {
    "id": "YDhBLuL5Sv1V"
   },
   "outputs": [],
   "source": [
    "# https://github.com/ssanchezgoe/curso_deep_learning_economia/blob/main/NBs_Google_Colab/DL_S08_Problemas_FFNN.ipynb\n",
    "# https://github.com/ssanchezgoe/curso_deep_learning_economia/blob/main/NBs_Google_Colab/DL_S11_DNN.ipynb"
   ]
  },
  {
   "cell_type": "code",
   "execution_count": null,
   "metadata": {
    "colab": {
     "base_uri": "https://localhost:8080/",
     "height": 265
    },
    "executionInfo": {
     "elapsed": 321,
     "status": "ok",
     "timestamp": 1660853440242,
     "user": {
      "displayName": "HERNAN DAVID SALINAS JIMENEZ",
      "userId": "00408651407692255291"
     },
     "user_tz": 300
    },
    "id": "8COpdYhhWm3T",
    "outputId": "c2188a3c-0b97-4268-c7fa-b886963e0546"
   },
   "outputs": [],
   "source": [
    "# generación de círculos\n",
    "\n",
    "# Algunas librerías necesarias\n",
    "import numpy as np\n",
    "import matplotlib.pyplot as plt\n",
    "from sklearn.datasets import make_regression, make_circles, make_blobs\n",
    "from sklearn.preprocessing import StandardScaler\n",
    "from tensorflow import keras\n",
    "\n",
    "X, y = make_circles(n_samples=1000, noise=0.1, random_state=1)\n",
    "\n",
    "plt.scatter(X[np.where((y==0)),0],X[np.where((y==0)),1], label='0')\n",
    "plt.scatter(X[np.where((y==1)),0],X[np.where((y==1)),1], label='1')\n",
    "plt.legend()\n",
    "plt.show()"
   ]
  },
  {
   "cell_type": "code",
   "execution_count": null,
   "metadata": {
    "id": "sbL0GDSNWnfb"
   },
   "outputs": [],
   "source": [
    "# Creación del modelo\n",
    "def build_model2(activation=\"sigmoid\", loss=\"binary_crossentropy\"):\n",
    "    model = keras.models.Sequential()\n",
    "    model.add(keras.layers.Dense(5, input_dim=2, activation=\"relu\"))\n",
    "    model.add(keras.layers.Dense(1, activation=activation))\n",
    "    opt = keras.optimizers.SGD(lr=0.01)\n",
    "    model.compile(loss=loss, optimizer=opt, metrics=[\"accuracy\"])\n",
    "    return model\n",
    "\n",
    "\n",
    "# https://developers.google.com/machine-learning/crash-course/classification/accuracy#:~:text=Accuracy%20is%20one%20metric%20for,predictions%20Total%20number%20of%20predictions"
   ]
  },
  {
   "cell_type": "code",
   "execution_count": null,
   "metadata": {
    "colab": {
     "base_uri": "https://localhost:8080/",
     "height": 462
    },
    "executionInfo": {
     "elapsed": 21759,
     "status": "ok",
     "timestamp": 1660849862649,
     "user": {
      "displayName": "HERNAN DAVID SALINAS JIMENEZ",
      "userId": "00408651407692255291"
     },
     "user_tz": 300
    },
    "id": "1QKmOqACWyI7",
    "outputId": "8ced55d9-07de-4837-e1eb-7f34b949e2e0"
   },
   "outputs": [],
   "source": [
    "# binary cross entropy:\n",
    "\n",
    "keras.backend.clear_session()\n",
    "\n",
    "# Prerprocesado de los datos\n",
    "n_train = 500\n",
    "train_X, test_X = X[:n_train, :], X[n_train:, :]\n",
    "train_y, test_y = y[:n_train], y[n_train:]\n",
    "\n",
    "model = build_model2()\n",
    "history = model.fit(train_X, train_y, validation_data=(test_X, test_y), epochs=200, verbose=0)\n",
    "\n",
    "# Evaluación del modelo\n",
    "_, train_acc = model.evaluate(train_X, train_y, verbose=0)\n",
    "_, test_acc = model.evaluate(test_X, test_y, verbose=0)\n",
    "print('Train: %.3f, Test: %.3f' % (train_acc, test_acc))\n",
    "\n",
    "# Gráficas:\n",
    "plt.figure(figsize=(14,7))\n",
    "\n",
    "# Gráfica de pérdidas durante el entrenamiento\n",
    "plt.subplot(121)\n",
    "plt.title('Loss')\n",
    "plt.plot(history.history['loss'], label='train')\n",
    "plt.plot(history.history['val_loss'], label='test')\n",
    "plt.legend()\n",
    "\n",
    "# Gráfica de las precisión durante el entrenamiento\n",
    "plt.subplot(122)\n",
    "plt.title('Accuracy')\n",
    "plt.plot(history.history['accuracy'], label='train')\n",
    "plt.plot(history.history['val_accuracy'], label='test')\n",
    "plt.legend()\n",
    "plt.show()"
   ]
  },
  {
   "cell_type": "code",
   "execution_count": null,
   "metadata": {
    "id": "LfC84VhYW75C"
   },
   "outputs": [],
   "source": []
  },
  {
   "cell_type": "markdown",
   "metadata": {
    "id": "2g0mp10CVxMc"
   },
   "source": [
    "# Laboratorio \n",
    "1. Preparar los datos para clasificar los gatos de la red neuronal a través de keras."
   ]
  },
  {
   "cell_type": "code",
   "execution_count": 1,
   "metadata": {
    "ExecuteTime": {
     "end_time": "2022-11-14T18:56:31.197760Z",
     "start_time": "2022-11-14T18:56:26.209870Z"
    }
   },
   "outputs": [],
   "source": [
    "import pandas as pd\n",
    "import scipy as sc\n",
    "import numpy as np\n",
    "import h5py\n",
    "import matplotlib.pylab as plt\n",
    "import numpy as np\n",
    "from sklearn.preprocessing import StandardScaler\n",
    "from tensorflow.keras.models import Sequential\n",
    "from tensorflow.keras.layers import Conv2D, MaxPooling2D, Flatten, Dense\n",
    "from keras.optimizers import SGD"
   ]
  },
  {
   "cell_type": "code",
   "execution_count": 2,
   "metadata": {
    "ExecuteTime": {
     "end_time": "2022-11-14T18:56:31.214508Z",
     "start_time": "2022-11-14T18:56:31.202038Z"
    },
    "id": "9w2DR2OZV7C3"
   },
   "outputs": [],
   "source": [
    "data_train= \"dataset/train_catvnoncat.h5\"\n",
    "train_dataset = h5py.File(data_train, \"r\")\n",
    " \n",
    "data_test= \"dataset/test_catvnoncat.h5\"\n",
    "test_dataset = h5py.File(data_test, \"r\")"
   ]
  },
  {
   "cell_type": "code",
   "execution_count": 3,
   "metadata": {
    "ExecuteTime": {
     "end_time": "2022-11-14T18:56:31.295648Z",
     "start_time": "2022-11-14T18:56:31.218849Z"
    }
   },
   "outputs": [],
   "source": [
    "xtrain_classes, xtrain, train_label = (\n",
    "    train_dataset[\"list_classes\"],\n",
    "    train_dataset[\"train_set_x\"],\n",
    "    train_dataset[\"train_set_y\"],\n",
    ")\n",
    "\n",
    "test_classes, xtest, test_label = (\n",
    "    test_dataset[\"list_classes\"],\n",
    "    test_dataset[\"test_set_x\"],\n",
    "    test_dataset[\"test_set_y\"],\n",
    ")"
   ]
  },
  {
   "cell_type": "code",
   "execution_count": 4,
   "metadata": {
    "ExecuteTime": {
     "end_time": "2022-11-14T18:56:31.355063Z",
     "start_time": "2022-11-14T18:56:31.300013Z"
    }
   },
   "outputs": [],
   "source": [
    "xtrain_= np.reshape(xtrain,(209, 64,64,3))/255\n",
    "xtest_ = np.reshape(xtest,(50, 64,64,3))/255"
   ]
  },
  {
   "cell_type": "code",
   "execution_count": 5,
   "metadata": {
    "ExecuteTime": {
     "end_time": "2022-11-14T18:56:31.386887Z",
     "start_time": "2022-11-14T18:56:31.358636Z"
    }
   },
   "outputs": [],
   "source": [
    "train_label=np.reshape(train_label,(209,))\n",
    "test_label=np.reshape(test_label,(50,))"
   ]
  },
  {
   "cell_type": "code",
   "execution_count": 6,
   "metadata": {
    "ExecuteTime": {
     "end_time": "2022-11-14T18:56:31.438549Z",
     "start_time": "2022-11-14T18:56:31.390725Z"
    }
   },
   "outputs": [
    {
     "data": {
      "text/plain": [
       "array([0, 0, 1, 0, 0, 0, 0, 1, 0, 0, 0, 1, 0, 1, 1, 0, 0, 0, 0, 1, 0, 0,\n",
       "       0, 0, 1, 1, 0, 1, 0, 1, 0, 0, 0, 0, 0, 0, 0, 0, 1, 0, 0, 1, 1, 0,\n",
       "       0, 0, 0, 1, 0, 0, 1, 0, 0, 0, 1, 0, 1, 1, 0, 1, 1, 1, 0, 0, 0, 0,\n",
       "       0, 0, 1, 0, 0, 1, 0, 0, 0, 0, 0, 0, 0, 0, 0, 0, 0, 1, 1, 0, 0, 0,\n",
       "       1, 0, 0, 0, 1, 1, 1, 0, 0, 1, 0, 0, 0, 0, 1, 0, 1, 0, 1, 1, 1, 1,\n",
       "       1, 1, 0, 0, 0, 0, 0, 1, 0, 0, 0, 1, 0, 0, 1, 0, 1, 0, 1, 1, 0, 0,\n",
       "       0, 1, 1, 1, 1, 1, 0, 0, 0, 0, 1, 0, 1, 1, 1, 0, 1, 1, 0, 0, 0, 1,\n",
       "       0, 0, 1, 0, 0, 0, 0, 0, 1, 0, 1, 0, 1, 0, 0, 1, 1, 1, 0, 0, 1, 1,\n",
       "       0, 1, 0, 1, 0, 0, 0, 0, 0, 1, 0, 0, 1, 0, 0, 0, 1, 0, 0, 0, 0, 1,\n",
       "       0, 0, 1, 0, 0, 0, 0, 0, 0, 0, 0])"
      ]
     },
     "execution_count": 6,
     "metadata": {},
     "output_type": "execute_result"
    }
   ],
   "source": [
    "train_label"
   ]
  },
  {
   "cell_type": "code",
   "execution_count": 18,
   "metadata": {
    "ExecuteTime": {
     "end_time": "2022-11-14T19:04:03.305810Z",
     "start_time": "2022-11-14T19:04:03.292635Z"
    }
   },
   "outputs": [],
   "source": [
    "def build_model(xtrain_):\n",
    "    model = Sequential()\n",
    "    model.add(Conv2D(32, (3, 3), activation=\"relu\", input_shape=(64,64,3)))\n",
    "    model.add(MaxPooling2D((2, 2)))\n",
    "\n",
    "    model.add(Conv2D(32, (3, 3), activation=\"relu\"))\n",
    "    model.add(MaxPooling2D((2, 2)))\n",
    "\n",
    "    model.add(Flatten())\n",
    "\n",
    "    model.add(Dense(64, activation=\"relu\"))\n",
    "\n",
    "    model.add(Dense(1, activation=\"sigmoid\"))\n",
    "    model.compile(\n",
    "        optimizer='adam', metrics=[\"accuracy\"],loss='binary_crossentropy'\n",
    "    )\n",
    "    return model\n",
    "\n"
   ]
  },
  {
   "cell_type": "code",
   "execution_count": 19,
   "metadata": {
    "ExecuteTime": {
     "end_time": "2022-11-14T19:05:06.234394Z",
     "start_time": "2022-11-14T19:04:04.120071Z"
    },
    "scrolled": true
   },
   "outputs": [
    {
     "name": "stdout",
     "output_type": "stream",
     "text": [
      "Epoch 1/50\n",
      "7/7 [==============================] - 3s 226ms/step - loss: 0.6866 - accuracy: 0.6268 - val_loss: 0.7356 - val_accuracy: 0.3400\n",
      "Epoch 2/50\n",
      "7/7 [==============================] - 1s 172ms/step - loss: 0.5981 - accuracy: 0.6555 - val_loss: 1.0192 - val_accuracy: 0.3400\n",
      "Epoch 3/50\n",
      "7/7 [==============================] - 1s 146ms/step - loss: 0.5622 - accuracy: 0.6555 - val_loss: 0.7594 - val_accuracy: 0.3400\n",
      "Epoch 4/50\n",
      "7/7 [==============================] - 1s 178ms/step - loss: 0.5005 - accuracy: 0.6555 - val_loss: 0.7127 - val_accuracy: 0.3600\n",
      "Epoch 5/50\n",
      "7/7 [==============================] - 1s 176ms/step - loss: 0.4601 - accuracy: 0.6746 - val_loss: 0.7127 - val_accuracy: 0.4400\n",
      "Epoch 6/50\n",
      "7/7 [==============================] - 1s 190ms/step - loss: 0.4189 - accuracy: 0.7943 - val_loss: 0.6369 - val_accuracy: 0.6200\n",
      "Epoch 7/50\n",
      "7/7 [==============================] - 1s 182ms/step - loss: 0.3628 - accuracy: 0.8325 - val_loss: 0.5248 - val_accuracy: 0.7800\n",
      "Epoch 8/50\n",
      "7/7 [==============================] - 1s 184ms/step - loss: 0.3140 - accuracy: 0.8852 - val_loss: 1.1989 - val_accuracy: 0.3400\n",
      "Epoch 9/50\n",
      "7/7 [==============================] - 1s 183ms/step - loss: 0.4042 - accuracy: 0.7799 - val_loss: 0.6596 - val_accuracy: 0.6600\n",
      "Epoch 10/50\n",
      "7/7 [==============================] - 1s 139ms/step - loss: 0.3210 - accuracy: 0.8660 - val_loss: 0.8265 - val_accuracy: 0.6600\n",
      "Epoch 11/50\n",
      "7/7 [==============================] - 1s 172ms/step - loss: 0.3016 - accuracy: 0.8756 - val_loss: 0.5823 - val_accuracy: 0.7600\n",
      "Epoch 12/50\n",
      "7/7 [==============================] - 1s 184ms/step - loss: 0.2517 - accuracy: 0.9139 - val_loss: 0.6221 - val_accuracy: 0.7200\n",
      "Epoch 13/50\n",
      "7/7 [==============================] - 1s 173ms/step - loss: 0.2548 - accuracy: 0.9043 - val_loss: 0.5502 - val_accuracy: 0.8000\n",
      "Epoch 14/50\n",
      "7/7 [==============================] - 1s 137ms/step - loss: 0.2350 - accuracy: 0.9043 - val_loss: 0.3961 - val_accuracy: 0.9000\n",
      "Epoch 15/50\n",
      "7/7 [==============================] - 1s 180ms/step - loss: 0.2114 - accuracy: 0.9282 - val_loss: 0.4269 - val_accuracy: 0.9000\n",
      "Epoch 16/50\n",
      "7/7 [==============================] - 1s 190ms/step - loss: 0.1880 - accuracy: 0.9330 - val_loss: 0.4581 - val_accuracy: 0.8200\n",
      "Epoch 17/50\n",
      "7/7 [==============================] - 1s 152ms/step - loss: 0.1828 - accuracy: 0.9474 - val_loss: 0.5632 - val_accuracy: 0.8000\n",
      "Epoch 18/50\n",
      "7/7 [==============================] - 1s 167ms/step - loss: 0.1555 - accuracy: 0.9617 - val_loss: 0.6724 - val_accuracy: 0.7600\n",
      "Epoch 19/50\n",
      "7/7 [==============================] - 1s 183ms/step - loss: 0.1587 - accuracy: 0.9522 - val_loss: 0.4591 - val_accuracy: 0.8200\n",
      "Epoch 20/50\n",
      "7/7 [==============================] - 1s 178ms/step - loss: 0.1469 - accuracy: 0.9617 - val_loss: 0.5618 - val_accuracy: 0.8000\n",
      "Epoch 21/50\n",
      "7/7 [==============================] - 1s 147ms/step - loss: 0.1607 - accuracy: 0.9378 - val_loss: 0.4885 - val_accuracy: 0.8600\n",
      "Epoch 22/50\n",
      "7/7 [==============================] - 1s 167ms/step - loss: 0.1474 - accuracy: 0.9474 - val_loss: 0.4330 - val_accuracy: 0.8600\n",
      "Epoch 23/50\n",
      "7/7 [==============================] - 1s 180ms/step - loss: 0.1221 - accuracy: 0.9713 - val_loss: 0.9127 - val_accuracy: 0.7200\n",
      "Epoch 24/50\n",
      "7/7 [==============================] - 1s 160ms/step - loss: 0.0948 - accuracy: 0.9856 - val_loss: 0.4489 - val_accuracy: 0.8600\n",
      "Epoch 25/50\n",
      "7/7 [==============================] - 1s 161ms/step - loss: 0.0960 - accuracy: 0.9713 - val_loss: 0.4538 - val_accuracy: 0.9000\n",
      "Epoch 26/50\n",
      "7/7 [==============================] - 1s 182ms/step - loss: 0.0739 - accuracy: 0.9856 - val_loss: 0.5351 - val_accuracy: 0.8400\n",
      "Epoch 27/50\n",
      "7/7 [==============================] - 1s 183ms/step - loss: 0.0702 - accuracy: 0.9713 - val_loss: 0.7552 - val_accuracy: 0.7400\n",
      "Epoch 28/50\n",
      "7/7 [==============================] - 1s 164ms/step - loss: 0.0619 - accuracy: 0.9904 - val_loss: 0.5069 - val_accuracy: 0.9000\n",
      "Epoch 29/50\n",
      "7/7 [==============================] - 1s 192ms/step - loss: 0.0502 - accuracy: 0.9904 - val_loss: 0.4644 - val_accuracy: 0.8800\n",
      "Epoch 30/50\n",
      "7/7 [==============================] - 1s 191ms/step - loss: 0.0584 - accuracy: 0.9856 - val_loss: 0.4630 - val_accuracy: 0.9000\n",
      "Epoch 31/50\n",
      "7/7 [==============================] - 1s 179ms/step - loss: 0.0674 - accuracy: 0.9856 - val_loss: 0.5267 - val_accuracy: 0.9000\n",
      "Epoch 32/50\n",
      "7/7 [==============================] - 1s 152ms/step - loss: 0.0736 - accuracy: 0.9809 - val_loss: 0.6313 - val_accuracy: 0.7800\n",
      "Epoch 33/50\n",
      "7/7 [==============================] - 1s 181ms/step - loss: 0.0497 - accuracy: 0.9904 - val_loss: 0.4354 - val_accuracy: 0.8600\n",
      "Epoch 34/50\n",
      "7/7 [==============================] - 1s 194ms/step - loss: 0.0352 - accuracy: 1.0000 - val_loss: 0.6338 - val_accuracy: 0.8600\n",
      "Epoch 35/50\n",
      "7/7 [==============================] - 1s 160ms/step - loss: 0.0349 - accuracy: 0.9952 - val_loss: 0.6136 - val_accuracy: 0.8400\n",
      "Epoch 36/50\n",
      "7/7 [==============================] - 1s 173ms/step - loss: 0.0316 - accuracy: 0.9952 - val_loss: 0.5279 - val_accuracy: 0.8800\n",
      "Epoch 37/50\n",
      "7/7 [==============================] - 1s 198ms/step - loss: 0.0312 - accuracy: 0.9952 - val_loss: 0.5718 - val_accuracy: 0.9000\n",
      "Epoch 38/50\n",
      "7/7 [==============================] - 1s 179ms/step - loss: 0.0332 - accuracy: 0.9952 - val_loss: 0.6397 - val_accuracy: 0.8200\n",
      "Epoch 39/50\n",
      "7/7 [==============================] - 1s 167ms/step - loss: 0.0200 - accuracy: 1.0000 - val_loss: 0.5648 - val_accuracy: 0.9000\n",
      "Epoch 40/50\n",
      "7/7 [==============================] - 1s 188ms/step - loss: 0.0241 - accuracy: 1.0000 - val_loss: 0.6072 - val_accuracy: 0.9000\n",
      "Epoch 41/50\n",
      "7/7 [==============================] - 1s 176ms/step - loss: 0.0225 - accuracy: 1.0000 - val_loss: 0.5803 - val_accuracy: 0.8800\n",
      "Epoch 42/50\n",
      "7/7 [==============================] - 1s 149ms/step - loss: 0.0119 - accuracy: 1.0000 - val_loss: 0.5100 - val_accuracy: 0.9000\n",
      "Epoch 43/50\n",
      "7/7 [==============================] - 1s 182ms/step - loss: 0.0123 - accuracy: 1.0000 - val_loss: 0.6568 - val_accuracy: 0.8400\n",
      "Epoch 44/50\n",
      "7/7 [==============================] - 1s 182ms/step - loss: 0.0084 - accuracy: 1.0000 - val_loss: 0.5931 - val_accuracy: 0.9200\n",
      "Epoch 45/50\n",
      "7/7 [==============================] - 1s 189ms/step - loss: 0.0081 - accuracy: 1.0000 - val_loss: 0.6708 - val_accuracy: 0.8600\n",
      "Epoch 46/50\n",
      "7/7 [==============================] - 1s 157ms/step - loss: 0.0061 - accuracy: 1.0000 - val_loss: 0.5800 - val_accuracy: 0.9000\n",
      "Epoch 47/50\n",
      "7/7 [==============================] - 1s 178ms/step - loss: 0.0058 - accuracy: 1.0000 - val_loss: 0.6023 - val_accuracy: 0.8800\n",
      "Epoch 48/50\n",
      "7/7 [==============================] - 1s 172ms/step - loss: 0.0052 - accuracy: 1.0000 - val_loss: 0.6047 - val_accuracy: 0.8800\n",
      "Epoch 49/50\n",
      "7/7 [==============================] - 1s 155ms/step - loss: 0.0048 - accuracy: 1.0000 - val_loss: 0.6372 - val_accuracy: 0.8800\n",
      "Epoch 50/50\n",
      "7/7 [==============================] - 1s 162ms/step - loss: 0.0044 - accuracy: 1.0000 - val_loss: 0.6087 - val_accuracy: 0.9000\n"
     ]
    }
   ],
   "source": [
    "model=build_model(xtrain_)\n",
    "#history = model.fit(xtrain_, train_label, validation_data=(xtest_, test_label), epochs=10, verbose=1)\n",
    "history=model.fit(xtrain_, train_label, validation_data=(xtest_, test_label), epochs=50, verbose=1)"
   ]
  },
  {
   "cell_type": "code",
   "execution_count": null,
   "metadata": {
    "ExecuteTime": {
     "end_time": "2022-11-14T18:37:32.906801Z",
     "start_time": "2022-11-14T18:37:32.899973Z"
    }
   },
   "outputs": [],
   "source": [
    "history=_"
   ]
  },
  {
   "cell_type": "code",
   "execution_count": 20,
   "metadata": {
    "ExecuteTime": {
     "end_time": "2022-11-14T19:05:10.316279Z",
     "start_time": "2022-11-14T19:05:09.007038Z"
    },
    "scrolled": false
   },
   "outputs": [
    {
     "name": "stdout",
     "output_type": "stream",
     "text": [
      "Train: 1.000, Test: 0.900\n"
     ]
    },
    {
     "data": {
      "image/png": "[encoded data removed]",
      "text/plain": [
       "<Figure size 1008x504 with 2 Axes>"
      ]
     },
     "metadata": {
      "needs_background": "light"
     },
     "output_type": "display_data"
    }
   ],
   "source": [
    "_, train_acc = model.evaluate(xtrain_, train_label, verbose=110)\n",
    "_, test_acc = model.evaluate(xtest_, test_label, verbose=10)\n",
    "print('Train: %.3f, Test: %.3f' % (train_acc, test_acc))\n",
    "\n",
    "# Gráficas:\n",
    "plt.figure(figsize=(14,7))\n",
    "\n",
    "# Gráfica de pérdidas durante el entrenamiento\n",
    "plt.subplot(121)\n",
    "plt.title('Loss')\n",
    "plt.plot(history.history['loss'], label='train')\n",
    "plt.plot(history.history['val_loss'], label='test')\n",
    "plt.legend()\n",
    "\n",
    "# Gráfica de las precisión durante el entrenamiento\n",
    "plt.subplot(122)\n",
    "plt.title('Accuracy')\n",
    "plt.plot(history.history['accuracy'], label='train')\n",
    "plt.plot(history.history['val_accuracy'], label='test')\n",
    "plt.legend()\n",
    "plt.show()"
   ]
  },
  {
   "cell_type": "code",
   "execution_count": 21,
   "metadata": {
    "ExecuteTime": {
     "end_time": "2022-11-14T19:05:21.808873Z",
     "start_time": "2022-11-14T19:05:21.477749Z"
    }
   },
   "outputs": [
    {
     "name": "stdout",
     "output_type": "stream",
     "text": [
      "2/2 [==============================] - 0s 35ms/step\n"
     ]
    },
    {
     "data": {
      "text/plain": [
       "array([ True,  True,  True,  True,  True, False,  True,  True,  True,\n",
       "        True,  True,  True,  True, False, False,  True, False,  True,\n",
       "        True,  True,  True, False, False,  True,  True,  True,  True,\n",
       "       False,  True, False,  True,  True,  True,  True, False, False,\n",
       "       False,  True, False, False,  True,  True,  True, False, False,\n",
       "       False,  True,  True,  True, False])"
      ]
     },
     "execution_count": 21,
     "metadata": {},
     "output_type": "execute_result"
    }
   ],
   "source": [
    "y_pred=(model.predict(xtest_)>0.5).reshape(1,-1)\n",
    "test_label==1"
   ]
  },
  {
   "cell_type": "code",
   "execution_count": 22,
   "metadata": {
    "ExecuteTime": {
     "end_time": "2022-11-14T19:05:23.528423Z",
     "start_time": "2022-11-14T19:05:23.520494Z"
    }
   },
   "outputs": [
    {
     "data": {
      "text/plain": [
       "45"
      ]
     },
     "execution_count": 22,
     "metadata": {},
     "output_type": "execute_result"
    }
   ],
   "source": [
    "(y_pred==(test_label==1)).sum()"
   ]
  },
  {
   "cell_type": "code",
   "execution_count": null,
   "metadata": {},
   "outputs": [],
   "source": []
  }
 ],
 "metadata": {
  "colab": {
   "authorship_tag": "ABX9TyPU1lr9auRL0G8D81r+LqVO",
   "name": "Laboratorio_08_nn_keras.ipynb",
   "provenance": []
  },
  "kernelspec": {
   "display_name": "Python 3",
   "language": "python",
   "name": "python3"
  },
  "language_info": {
   "codemirror_mode": {
    "name": "ipython",
    "version": 3
   },
   "file_extension": ".py",
   "mimetype": "text/x-python",
   "name": "python",
   "nbconvert_exporter": "python",
   "pygments_lexer": "ipython3",
   "version": "3.8.10"
  }
 },
 "nbformat": 4,
 "nbformat_minor": 1
}
