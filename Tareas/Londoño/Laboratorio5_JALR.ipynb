{
  "nbformat": 4,
  "nbformat_minor": 0,
  "metadata": {
    "colab": {
      "provenance": [],
      "collapsed_sections": []
    },
    "kernelspec": {
      "name": "python3",
      "display_name": "Python 3"
    },
    "language_info": {
      "name": "python"
    }
  },
  "cells": [
    {
      "cell_type": "code",
      "execution_count": null,
      "metadata": {
        "colab": {
          "base_uri": "https://localhost:8080/"
        },
        "id": "OMxoFzKQhhIW",
        "outputId": "6af7849d-66ba-493b-a27b-0262ce87af39"
      },
      "outputs": [
        {
          "output_type": "stream",
          "name": "stdout",
          "text": [
            "Populating the interactive namespace from numpy and matplotlib\n"
          ]
        }
      ],
      "source": [
        "import numpy as np\n",
        "from mpl_toolkits.mplot3d import axes3d\n",
        "import matplotlib.pyplot as plt\n",
        "%pylab inline\n",
        "from numpy.linalg import *\n",
        "import sympy as sp\n",
        "\n",
        "from mpl_toolkits import mplot3d\n",
        "%matplotlib inline\n",
        "\n",
        "import pandas as pd\n",
        "from scipy import stats"
      ]
    },
    {
      "cell_type": "markdown",
      "source": [
        "#Laboratorio 5\n",
        "##Jhoan Alejandro Londoño Restrepo\n",
        "C.C.1000194087\n",
        "\n",
        "**1.** Para los datos del laboratorio anterior aplicar la ecuacion normal."
      ],
      "metadata": {
        "id": "Yo8AcgHQnggf"
      }
    },
    {
      "cell_type": "code",
      "source": [
        "N = 100\n",
        "\n",
        "x1 = np.zeros(N)\n",
        "x2 = np.zeros(N)\n",
        "y = np.zeros(N)\n",
        "\n",
        "for i in range(N):\n",
        "  x1[i] = np.random.randint(0,100)\n",
        "  x2[i] = np.random.randint(0,100)\n",
        "\n",
        "#y = func([x1,x2])\n",
        "for i in range(N):\n",
        "  y[i] = 2.1*x1[i] + 3.1*x2[i]"
      ],
      "metadata": {
        "id": "BwxA9wZPnn0b"
      },
      "execution_count": null,
      "outputs": []
    },
    {
      "cell_type": "code",
      "source": [
        "Xarray = np.c_[np.ones((N,1)),x1,x2]"
      ],
      "metadata": {
        "id": "O-qmFpNWnr7c"
      },
      "execution_count": null,
      "outputs": []
    },
    {
      "cell_type": "markdown",
      "source": [
        "Aplicando la ecuación normal:\n",
        "\n",
        "$$ \\theta = (\\boldsymbol X^T \\boldsymbol X)^{-1} \\boldsymbol X^T y\n",
        "$$\n",
        "\n",
        "Obtenemos el vector $\\theta$ igual a:"
      ],
      "metadata": {
        "id": "qQj4iP1moEfK"
      }
    },
    {
      "cell_type": "code",
      "source": [
        "B = np.linalg.inv(Xarray.T.dot(Xarray)).dot(Xarray.T).dot(y)\n",
        "\n",
        "print(f\" θ₀ =  {B[0]} \\t θ₁ = {B[1]} \\t θ₂ = {B[2]}\")"
      ],
      "metadata": {
        "colab": {
          "base_uri": "https://localhost:8080/"
        },
        "id": "K9Xge3ebnyZA",
        "outputId": "0bca440b-6721-493b-f7aa-f89d9af6e46a"
      },
      "execution_count": null,
      "outputs": [
        {
          "output_type": "stream",
          "name": "stdout",
          "text": [
            " θ₀ =  1.1368683772161603e-13 \t θ₁ = 2.1000000000000005 \t θ₂ = 3.0999999999999996\n"
          ]
        }
      ]
    },
    {
      "cell_type": "markdown",
      "source": [
        "**2.** Tomar el dataset de las casas de Boston y construir un modelo de regresión mutivariada."
      ],
      "metadata": {
        "id": "mBNq9UlMoO8E"
      }
    },
    {
      "cell_type": "code",
      "source": [
        "data_url = \"http://lib.stat.cmu.edu/datasets/boston\""
      ],
      "metadata": {
        "id": "6Y1KG-kptXBE"
      },
      "execution_count": null,
      "outputs": []
    },
    {
      "cell_type": "code",
      "source": [
        "raw_df = pd.read_csv(data_url, sep=\"\\s+\", skiprows=22, header=None)\n",
        "data = np.hstack([raw_df.values[::2, :], raw_df.values[1::2, :2]])\n",
        "target = raw_df.values[1::2, 2]\n",
        "\n",
        "df = pd.DataFrame({\"mean_\":target, \"rm\":data[:,5]})\n",
        "df"
      ],
      "metadata": {
        "colab": {
          "base_uri": "https://localhost:8080/",
          "height": 424
        },
        "id": "9OdnXn-ytbWr",
        "outputId": "aa961aeb-2a75-498c-f441-a592b4a707c0"
      },
      "execution_count": null,
      "outputs": [
        {
          "output_type": "execute_result",
          "data": {
            "text/plain": [
              "     mean_     rm\n",
              "0     24.0  6.575\n",
              "1     21.6  6.421\n",
              "2     34.7  7.185\n",
              "3     33.4  6.998\n",
              "4     36.2  7.147\n",
              "..     ...    ...\n",
              "501   22.4  6.593\n",
              "502   20.6  6.120\n",
              "503   23.9  6.976\n",
              "504   22.0  6.794\n",
              "505   11.9  6.030\n",
              "\n",
              "[506 rows x 2 columns]"
            ],
            "text/html": [
              "\n",
              "  <div id=\"df-2147e538-e6f2-435e-a797-ed2b809bb69c\">\n",
              "    <div class=\"colab-df-container\">\n",
              "      <div>\n",
              "<style scoped>\n",
              "    .dataframe tbody tr th:only-of-type {\n",
              "        vertical-align: middle;\n",
              "    }\n",
              "\n",
              "    .dataframe tbody tr th {\n",
              "        vertical-align: top;\n",
              "    }\n",
              "\n",
              "    .dataframe thead th {\n",
              "        text-align: right;\n",
              "    }\n",
              "</style>\n",
              "<table border=\"1\" class=\"dataframe\">\n",
              "  <thead>\n",
              "    <tr style=\"text-align: right;\">\n",
              "      <th></th>\n",
              "      <th>mean_</th>\n",
              "      <th>rm</th>\n",
              "    </tr>\n",
              "  </thead>\n",
              "  <tbody>\n",
              "    <tr>\n",
              "      <th>0</th>\n",
              "      <td>24.0</td>\n",
              "      <td>6.575</td>\n",
              "    </tr>\n",
              "    <tr>\n",
              "      <th>1</th>\n",
              "      <td>21.6</td>\n",
              "      <td>6.421</td>\n",
              "    </tr>\n",
              "    <tr>\n",
              "      <th>2</th>\n",
              "      <td>34.7</td>\n",
              "      <td>7.185</td>\n",
              "    </tr>\n",
              "    <tr>\n",
              "      <th>3</th>\n",
              "      <td>33.4</td>\n",
              "      <td>6.998</td>\n",
              "    </tr>\n",
              "    <tr>\n",
              "      <th>4</th>\n",
              "      <td>36.2</td>\n",
              "      <td>7.147</td>\n",
              "    </tr>\n",
              "    <tr>\n",
              "      <th>...</th>\n",
              "      <td>...</td>\n",
              "      <td>...</td>\n",
              "    </tr>\n",
              "    <tr>\n",
              "      <th>501</th>\n",
              "      <td>22.4</td>\n",
              "      <td>6.593</td>\n",
              "    </tr>\n",
              "    <tr>\n",
              "      <th>502</th>\n",
              "      <td>20.6</td>\n",
              "      <td>6.120</td>\n",
              "    </tr>\n",
              "    <tr>\n",
              "      <th>503</th>\n",
              "      <td>23.9</td>\n",
              "      <td>6.976</td>\n",
              "    </tr>\n",
              "    <tr>\n",
              "      <th>504</th>\n",
              "      <td>22.0</td>\n",
              "      <td>6.794</td>\n",
              "    </tr>\n",
              "    <tr>\n",
              "      <th>505</th>\n",
              "      <td>11.9</td>\n",
              "      <td>6.030</td>\n",
              "    </tr>\n",
              "  </tbody>\n",
              "</table>\n",
              "<p>506 rows × 2 columns</p>\n",
              "</div>\n",
              "      <button class=\"colab-df-convert\" onclick=\"convertToInteractive('df-2147e538-e6f2-435e-a797-ed2b809bb69c')\"\n",
              "              title=\"Convert this dataframe to an interactive table.\"\n",
              "              style=\"display:none;\">\n",
              "        \n",
              "  <svg xmlns=\"http://www.w3.org/2000/svg\" height=\"24px\"viewBox=\"0 0 24 24\"\n",
              "       width=\"24px\">\n",
              "    <path d=\"M0 0h24v24H0V0z\" fill=\"none\"/>\n",
              "    <path d=\"M18.56 5.44l.94 2.06.94-2.06 2.06-.94-2.06-.94-.94-2.06-.94 2.06-2.06.94zm-11 1L8.5 8.5l.94-2.06 2.06-.94-2.06-.94L8.5 2.5l-.94 2.06-2.06.94zm10 10l.94 2.06.94-2.06 2.06-.94-2.06-.94-.94-2.06-.94 2.06-2.06.94z\"/><path d=\"M17.41 7.96l-1.37-1.37c-.4-.4-.92-.59-1.43-.59-.52 0-1.04.2-1.43.59L10.3 9.45l-7.72 7.72c-.78.78-.78 2.05 0 2.83L4 21.41c.39.39.9.59 1.41.59.51 0 1.02-.2 1.41-.59l7.78-7.78 2.81-2.81c.8-.78.8-2.07 0-2.86zM5.41 20L4 18.59l7.72-7.72 1.47 1.35L5.41 20z\"/>\n",
              "  </svg>\n",
              "      </button>\n",
              "      \n",
              "  <style>\n",
              "    .colab-df-container {\n",
              "      display:flex;\n",
              "      flex-wrap:wrap;\n",
              "      gap: 12px;\n",
              "    }\n",
              "\n",
              "    .colab-df-convert {\n",
              "      background-color: #E8F0FE;\n",
              "      border: none;\n",
              "      border-radius: 50%;\n",
              "      cursor: pointer;\n",
              "      display: none;\n",
              "      fill: #1967D2;\n",
              "      height: 32px;\n",
              "      padding: 0 0 0 0;\n",
              "      width: 32px;\n",
              "    }\n",
              "\n",
              "    .colab-df-convert:hover {\n",
              "      background-color: #E2EBFA;\n",
              "      box-shadow: 0px 1px 2px rgba(60, 64, 67, 0.3), 0px 1px 3px 1px rgba(60, 64, 67, 0.15);\n",
              "      fill: #174EA6;\n",
              "    }\n",
              "\n",
              "    [theme=dark] .colab-df-convert {\n",
              "      background-color: #3B4455;\n",
              "      fill: #D2E3FC;\n",
              "    }\n",
              "\n",
              "    [theme=dark] .colab-df-convert:hover {\n",
              "      background-color: #434B5C;\n",
              "      box-shadow: 0px 1px 3px 1px rgba(0, 0, 0, 0.15);\n",
              "      filter: drop-shadow(0px 1px 2px rgba(0, 0, 0, 0.3));\n",
              "      fill: #FFFFFF;\n",
              "    }\n",
              "  </style>\n",
              "\n",
              "      <script>\n",
              "        const buttonEl =\n",
              "          document.querySelector('#df-2147e538-e6f2-435e-a797-ed2b809bb69c button.colab-df-convert');\n",
              "        buttonEl.style.display =\n",
              "          google.colab.kernel.accessAllowed ? 'block' : 'none';\n",
              "\n",
              "        async function convertToInteractive(key) {\n",
              "          const element = document.querySelector('#df-2147e538-e6f2-435e-a797-ed2b809bb69c');\n",
              "          const dataTable =\n",
              "            await google.colab.kernel.invokeFunction('convertToInteractive',\n",
              "                                                     [key], {});\n",
              "          if (!dataTable) return;\n",
              "\n",
              "          const docLinkHtml = 'Like what you see? Visit the ' +\n",
              "            '<a target=\"_blank\" href=https://colab.research.google.com/notebooks/data_table.ipynb>data table notebook</a>'\n",
              "            + ' to learn more about interactive tables.';\n",
              "          element.innerHTML = '';\n",
              "          dataTable['output_type'] = 'display_data';\n",
              "          await google.colab.output.renderOutput(dataTable, element);\n",
              "          const docLink = document.createElement('div');\n",
              "          docLink.innerHTML = docLinkHtml;\n",
              "          element.appendChild(docLink);\n",
              "        }\n",
              "      </script>\n",
              "    </div>\n",
              "  </div>\n",
              "  "
            ]
          },
          "metadata": {},
          "execution_count": 89
        }
      ]
    },
    {
      "cell_type": "code",
      "source": [
        "plt.figure(figsize=(10,5))\n",
        "plt.plot(df[\"mean_\"], df[\"rm\"],\"o\",ms=2, label= \"Data frame crudo\")\n",
        "plt.xlabel(\"Mean\")\n",
        "plt.ylabel(\"Average number of rooms per dwelling\")\n",
        "plt.grid()\n",
        "plt.legend()"
      ],
      "metadata": {
        "colab": {
          "base_uri": "https://localhost:8080/",
          "height": 353
        },
        "id": "Wf0vlfkJub9S",
        "outputId": "bb5eb9bc-341a-4bb0-d48d-0c2406b15683"
      },
      "execution_count": null,
      "outputs": [
        {
          "output_type": "execute_result",
          "data": {
            "text/plain": [
              "<matplotlib.legend.Legend at 0x7fefe00ebd10>"
            ]
          },
          "metadata": {},
          "execution_count": 81
        },
        {
          "output_type": "display_data",
          "data": {
            "text/plain": [
              "<Figure size 720x360 with 1 Axes>"
            ],
            "image/png": "[encoded data removed]"
          },
          "metadata": {
            "needs_background": "light"
          }
        }
      ]
    },
    {
      "cell_type": "markdown",
      "source": [
        "Graficamos el diagrama de caja y así observar sus outliers"
      ],
      "metadata": {
        "id": "ERJOv5TpohZS"
      }
    },
    {
      "cell_type": "code",
      "source": [
        "df.boxplot(sym = 'k.', figsize=(18,6))"
      ],
      "metadata": {
        "colab": {
          "base_uri": "https://localhost:8080/",
          "height": 391
        },
        "id": "FLKeY9eNzMSt",
        "outputId": "778439ad-bcaf-43a1-8653-3fb4d1adef1c"
      },
      "execution_count": null,
      "outputs": [
        {
          "output_type": "execute_result",
          "data": {
            "text/plain": [
              "<matplotlib.axes._subplots.AxesSubplot at 0x7fefe02d2790>"
            ]
          },
          "metadata": {},
          "execution_count": 66
        },
        {
          "output_type": "display_data",
          "data": {
            "text/plain": [
              "<Figure size 1296x432 with 1 Axes>"
            ],
            "image/png": "[encoded data removed]"
          },
          "metadata": {
            "needs_background": "light"
          }
        }
      ]
    },
    {
      "cell_type": "markdown",
      "source": [
        "Eliminamos los outliers"
      ],
      "metadata": {
        "id": "LJaDifEl7uo3"
      }
    },
    {
      "cell_type": "code",
      "source": [
        "Q1mean = df[\"mean_\"].quantile(0.25)\n",
        "Q1rm = df[\"rm\"].quantile(0.25)\n",
        "\n",
        "Q3mean = df[\"mean_\"].quantile(0.75)\n",
        "Q3rm = df[\"rm\"].quantile(0.75)\n",
        "\n",
        "IQRmean = Q3mean - Q1mean\n",
        "IQRrm = Q3rm - Q1rm\n",
        "\n",
        "B1mean = Q1mean - 1.5*IQRmean\n",
        "B2mean = Q3mean + 1.5*IQRmean\n",
        "\n",
        "B1rm = Q1rm - 1.5*IQRrm\n",
        "B2rm = Q3rm + 1.5*IQRrm\n",
        "\n",
        "df_limpio = df[(df[\"mean_\"] > B1mean) & (df[\"mean_\"] < B2mean) & (df[\"rm\"] > B1rm) & (df[\"rm\"] < B2rm)]"
      ],
      "metadata": {
        "id": "kK6jS07T1Lgw"
      },
      "execution_count": null,
      "outputs": []
    },
    {
      "cell_type": "code",
      "source": [
        "plt.figure(figsize=(10,5))\n",
        "plt.plot(df[\"mean_\"], df[\"rm\"],\"bo\",ms=2, label= \"Data frame crudo\")\n",
        "plt.plot(df_limpio[\"mean_\"], df_limpio[\"rm\"],\"ro\",ms=2 , label=\"Data frame limpio\")\n",
        "plt.xlabel(\"Mean\")\n",
        "plt.ylabel(\"Average number of rooms per dwelling\")\n",
        "plt.grid()\n",
        "plt.legend()"
      ],
      "metadata": {
        "colab": {
          "base_uri": "https://localhost:8080/",
          "height": 353
        },
        "id": "1AkpYGcl3d6_",
        "outputId": "ec9d444a-1b77-4a6a-c8a5-f0865e6ce943"
      },
      "execution_count": null,
      "outputs": [
        {
          "output_type": "execute_result",
          "data": {
            "text/plain": [
              "<matplotlib.legend.Legend at 0x7fefe057b150>"
            ]
          },
          "metadata": {},
          "execution_count": 80
        },
        {
          "output_type": "display_data",
          "data": {
            "text/plain": [
              "<Figure size 720x360 with 1 Axes>"
            ],
            "image/png": "[encoded data removed]"
          },
          "metadata": {
            "needs_background": "light"
          }
        }
      ]
    },
    {
      "cell_type": "code",
      "source": [
        "Xarray = np.c_[np.ones((len(df_limpio[\"mean_\"]),1)),df_limpio[\"mean_\"]]\n",
        "y = df_limpio[\"rm\"]"
      ],
      "metadata": {
        "id": "Sv4wF1OX4bMs"
      },
      "execution_count": null,
      "outputs": []
    },
    {
      "cell_type": "markdown",
      "source": [
        "Usando la ecuación normal obtenemos los valores del vector $\\theta$ igual a:"
      ],
      "metadata": {
        "id": "KkrCT1Srou3R"
      }
    },
    {
      "cell_type": "code",
      "source": [
        "B = np.linalg.inv(Xarray.T.dot(Xarray)).dot(Xarray.T).dot(y)\n",
        "print(f\"θ₀ = {B[0]} \\t θ₁ = {B[1]}\")"
      ],
      "metadata": {
        "colab": {
          "base_uri": "https://localhost:8080/"
        },
        "id": "Yq8CbdzY4X1m",
        "outputId": "987621d5-4d72-412e-c2ec-a1156c1fbcae"
      },
      "execution_count": null,
      "outputs": [
        {
          "output_type": "stream",
          "name": "stdout",
          "text": [
            "θ₀ = 5.200903721114353 \t θ₁ = 0.04838258322566042\n"
          ]
        }
      ]
    },
    {
      "cell_type": "code",
      "source": [
        "xs = np.linspace(0,50,500)\n",
        "\n",
        "plt.figure(figsize=(10,5))\n",
        "#plt.plot(df[\"mean_\"], df[\"rm\"],\"bo\",ms=2, label= \"Data frame crudo\")\n",
        "plt.plot(df_limpio[\"mean_\"], df_limpio[\"rm\"],\"ro\",ms=2 , label=\"Data frame limpio\")\n",
        "plt.plot(xs,B[0]+ B[1]*xs, label=f\"Regresión lineal $y = {round(B[0],2)} + {round(B[1],2)} x$\")\n",
        "plt.xlabel(\"Mean\")\n",
        "plt.ylabel(\"Average number of rooms per dwelling\")\n",
        "plt.grid()\n",
        "plt.legend()"
      ],
      "metadata": {
        "colab": {
          "base_uri": "https://localhost:8080/",
          "height": 351
        },
        "id": "aOjcTM9U40mn",
        "outputId": "31867cd0-6b73-4e83-abb0-802de9ca8184"
      },
      "execution_count": null,
      "outputs": [
        {
          "output_type": "execute_result",
          "data": {
            "text/plain": [
              "<matplotlib.legend.Legend at 0x7fefdd2be350>"
            ]
          },
          "metadata": {},
          "execution_count": 88
        },
        {
          "output_type": "display_data",
          "data": {
            "text/plain": [
              "<Figure size 720x360 with 1 Axes>"
            ],
            "image/png": "[encoded data removed]"
          },
          "metadata": {
            "needs_background": "light"
          }
        }
      ]
    },
    {
      "cell_type": "markdown",
      "source": [
        "Como podemos observar el average number of rooms per dweling se ajusta a los datos con una ecuación igual a:\n",
        "\n",
        "$$ y = 5.2 + (0.05)x$$\n",
        "\n",
        "Siendo y: average number of rooms per dweling y x: mean"
      ],
      "metadata": {
        "id": "hmswAqRto9aW"
      }
    },
    {
      "cell_type": "code",
      "source": [],
      "metadata": {
        "id": "_Hx3OhsPIElO"
      },
      "execution_count": null,
      "outputs": []
    }
  ]
}