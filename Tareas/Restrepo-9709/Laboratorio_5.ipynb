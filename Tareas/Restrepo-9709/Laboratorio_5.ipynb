{
 "cells": [
  {
   "cell_type": "markdown",
   "id": "63c52d97",
   "metadata": {},
   "source": [
    "Alejandro Restrepo Giraldo CC: 1001389709\n",
    "\n",
    "# Laboratorio 5.0"
   ]
  },
  {
   "cell_type": "code",
   "execution_count": 1,
   "id": "5796a1e9",
   "metadata": {},
   "outputs": [],
   "source": [
    "# Librerías \n",
    "import pandas as pd\n",
    "import numpy as np\n",
    "import matplotlib.pyplot as plt\n",
    "import sympy as sy"
   ]
  },
  {
   "cell_type": "code",
   "execution_count": 2,
   "id": "6bc60b35",
   "metadata": {},
   "outputs": [],
   "source": [
    "# Números aleatorios en el plano y = 2x_1 + 3x_2\n",
    "\n",
    "def func(x1,x2):\n",
    "    return 2.1*x1 - 3.1*x2"
   ]
  },
  {
   "cell_type": "code",
   "execution_count": 3,
   "id": "757f1216",
   "metadata": {},
   "outputs": [],
   "source": [
    "# Número de datos \n",
    "m = 20\n",
    "# Número de características\n",
    "n = 2\n",
    "\n",
    "x = np.random.uniform(-1,1,(m,2))\n",
    "Y = func(x[:,0], x[:,1])"
   ]
  },
  {
   "cell_type": "code",
   "execution_count": 4,
   "id": "849a90e6",
   "metadata": {},
   "outputs": [
    {
     "data": {
      "text/plain": [
       "array([[ 1.        ,  1.        ,  1.        ,  1.        ,  1.        ,\n",
       "         1.        ,  1.        ,  1.        ,  1.        ,  1.        ,\n",
       "         1.        ,  1.        ,  1.        ,  1.        ,  1.        ,\n",
       "         1.        ,  1.        ,  1.        ,  1.        ,  1.        ],\n",
       "       [-0.20321185, -0.89492948, -0.4377685 ,  0.82278819,  0.78334928,\n",
       "         0.86059227, -0.45637391, -0.39229106, -0.75120064, -0.11525281,\n",
       "         0.50065523, -0.8269781 ,  0.56981594,  0.49522231,  0.42406687,\n",
       "         0.86388625, -0.69921775, -0.56810199, -0.94273886,  0.9114834 ],\n",
       "       [ 0.09767397,  0.13036241,  0.03044688, -0.79879101,  0.53706285,\n",
       "        -0.83409874,  0.20316353, -0.37592413, -0.72519863, -0.33419541,\n",
       "         0.69826695, -0.61677878,  0.91199243,  0.82311029, -0.44469725,\n",
       "        -0.93681288, -0.26632051,  0.07017434, -0.17552421, -0.85040434]])"
      ]
     },
     "execution_count": 4,
     "metadata": {},
     "output_type": "execute_result"
    }
   ],
   "source": [
    "# Matriz de características\n",
    "X = np.ones((n+1,m))\n",
    "X[1:, :] = np.transpose(x)\n",
    "X"
   ]
  },
  {
   "cell_type": "code",
   "execution_count": 5,
   "id": "89b14107",
   "metadata": {},
   "outputs": [],
   "source": [
    "xx = np.matrix(np.transpose(X))\n",
    "yy = np.matrix(Y)"
   ]
  },
  {
   "cell_type": "markdown",
   "id": "60267d9a",
   "metadata": {},
   "source": [
    "# Ecuación normal\n",
    "\n",
    " $$\\Theta = (X^T X)^{-1} X^T y$$\n"
   ]
  },
  {
   "cell_type": "code",
   "execution_count": 6,
   "id": "5e0aeee3",
   "metadata": {},
   "outputs": [
    {
     "data": {
      "text/plain": [
       "matrix([[ 5.55111512e-17],\n",
       "        [ 2.10000000e+00],\n",
       "        [-3.10000000e+00]])"
      ]
     },
     "execution_count": 6,
     "metadata": {},
     "output_type": "execute_result"
    }
   ],
   "source": [
    "((xx.T@xx).I)@xx.T@yy.T"
   ]
  },
  {
   "cell_type": "markdown",
   "id": "d64bcb8a",
   "metadata": {},
   "source": [
    "Se obtienen los mismos parámetros que con el método anterior"
   ]
  },
  {
   "cell_type": "code",
   "execution_count": 7,
   "id": "0ed59bf5",
   "metadata": {},
   "outputs": [],
   "source": [
    "# Tomar los datos de las casas de boston y hacer una regresion lineal tomando \n",
    "# el average number of rooms per dwelling.\n",
    "data_url = \"http://lib.stat.cmu.edu/datasets/boston\"\n",
    "raw_df = pd.read_csv(data_url, sep=\"\\s+\", skiprows=22, header=None)\n",
    "data = np.hstack([raw_df.values[::2, :], raw_df.values[1::2, :2]])\n",
    "target = raw_df.values[1::2, 2]\n",
    "\n",
    "df = pd.DataFrame({\"mean_\":target, \"rm\":data[:,5]})"
   ]
  },
  {
   "cell_type": "code",
   "execution_count": 8,
   "id": "e956868e",
   "metadata": {},
   "outputs": [
    {
     "data": {
      "text/html": [
       "<div>\n",
       "<style scoped>\n",
       "    .dataframe tbody tr th:only-of-type {\n",
       "        vertical-align: middle;\n",
       "    }\n",
       "\n",
       "    .dataframe tbody tr th {\n",
       "        vertical-align: top;\n",
       "    }\n",
       "\n",
       "    .dataframe thead th {\n",
       "        text-align: right;\n",
       "    }\n",
       "</style>\n",
       "<table border=\"1\" class=\"dataframe\">\n",
       "  <thead>\n",
       "    <tr style=\"text-align: right;\">\n",
       "      <th></th>\n",
       "      <th>mean_</th>\n",
       "      <th>rm</th>\n",
       "    </tr>\n",
       "  </thead>\n",
       "  <tbody>\n",
       "    <tr>\n",
       "      <th>0</th>\n",
       "      <td>24.0</td>\n",
       "      <td>6.575</td>\n",
       "    </tr>\n",
       "    <tr>\n",
       "      <th>1</th>\n",
       "      <td>21.6</td>\n",
       "      <td>6.421</td>\n",
       "    </tr>\n",
       "    <tr>\n",
       "      <th>2</th>\n",
       "      <td>34.7</td>\n",
       "      <td>7.185</td>\n",
       "    </tr>\n",
       "    <tr>\n",
       "      <th>3</th>\n",
       "      <td>33.4</td>\n",
       "      <td>6.998</td>\n",
       "    </tr>\n",
       "    <tr>\n",
       "      <th>4</th>\n",
       "      <td>36.2</td>\n",
       "      <td>7.147</td>\n",
       "    </tr>\n",
       "    <tr>\n",
       "      <th>...</th>\n",
       "      <td>...</td>\n",
       "      <td>...</td>\n",
       "    </tr>\n",
       "    <tr>\n",
       "      <th>501</th>\n",
       "      <td>22.4</td>\n",
       "      <td>6.593</td>\n",
       "    </tr>\n",
       "    <tr>\n",
       "      <th>502</th>\n",
       "      <td>20.6</td>\n",
       "      <td>6.120</td>\n",
       "    </tr>\n",
       "    <tr>\n",
       "      <th>503</th>\n",
       "      <td>23.9</td>\n",
       "      <td>6.976</td>\n",
       "    </tr>\n",
       "    <tr>\n",
       "      <th>504</th>\n",
       "      <td>22.0</td>\n",
       "      <td>6.794</td>\n",
       "    </tr>\n",
       "    <tr>\n",
       "      <th>505</th>\n",
       "      <td>11.9</td>\n",
       "      <td>6.030</td>\n",
       "    </tr>\n",
       "  </tbody>\n",
       "</table>\n",
       "<p>506 rows × 2 columns</p>\n",
       "</div>"
      ],
      "text/plain": [
       "     mean_     rm\n",
       "0     24.0  6.575\n",
       "1     21.6  6.421\n",
       "2     34.7  7.185\n",
       "3     33.4  6.998\n",
       "4     36.2  7.147\n",
       "..     ...    ...\n",
       "501   22.4  6.593\n",
       "502   20.6  6.120\n",
       "503   23.9  6.976\n",
       "504   22.0  6.794\n",
       "505   11.9  6.030\n",
       "\n",
       "[506 rows x 2 columns]"
      ]
     },
     "execution_count": 8,
     "metadata": {},
     "output_type": "execute_result"
    }
   ],
   "source": [
    "df"
   ]
  },
  {
   "cell_type": "code",
   "execution_count": 9,
   "id": "1b93ea2d",
   "metadata": {},
   "outputs": [
    {
     "data": {
      "text/plain": [
       "<AxesSubplot:xlabel='mean_', ylabel='rm'>"
      ]
     },
     "execution_count": 9,
     "metadata": {},
     "output_type": "execute_result"
    },
    {
     "data": {
      "image/png": "[encoded data removed]",
      "text/plain": [
       "<Figure size 576x432 with 1 Axes>"
      ]
     },
     "metadata": {
      "needs_background": "light"
     },
     "output_type": "display_data"
    }
   ],
   "source": [
    "df.plot.scatter(x=\"mean_\", y=\"rm\", figsize=(8,6))"
   ]
  },
  {
   "cell_type": "code",
   "execution_count": 14,
   "id": "b88d104e",
   "metadata": {},
   "outputs": [
    {
     "data": {
      "text/plain": [
       "array([[ 1. ,  1. ,  1. , ...,  1. ,  1. ,  1. ],\n",
       "       [24. , 21.6, 34.7, ..., 23.9, 22. , 11.9]])"
      ]
     },
     "execution_count": 14,
     "metadata": {},
     "output_type": "execute_result"
    }
   ],
   "source": [
    "# Matriz de características\n",
    "X = np.ones((df.shape[1], df.shape[0]))\n",
    "X[1:, :] = np.transpose(df.mean_)\n",
    "X"
   ]
  },
  {
   "cell_type": "code",
   "execution_count": 15,
   "id": "4ea92194",
   "metadata": {},
   "outputs": [],
   "source": [
    "# Valores de entrenamiento \n",
    "Y = np.array(df[\"rm\"])"
   ]
  },
  {
   "cell_type": "code",
   "execution_count": 16,
   "id": "7314887c",
   "metadata": {},
   "outputs": [],
   "source": [
    "xx = np.matrix(np.transpose(X))\n",
    "yy = np.matrix(Y)"
   ]
  },
  {
   "cell_type": "code",
   "execution_count": 17,
   "id": "4a01de49",
   "metadata": {},
   "outputs": [
    {
     "data": {
      "text/plain": [
       "matrix([[5.08763867],\n",
       "        [0.05312235]])"
      ]
     },
     "execution_count": 17,
     "metadata": {},
     "output_type": "execute_result"
    }
   ],
   "source": [
    "theta = ((xx.T@xx).I)@xx.T@yy.T\n",
    "theta"
   ]
  },
  {
   "cell_type": "code",
   "execution_count": 23,
   "id": "7dd3ea5b",
   "metadata": {},
   "outputs": [
    {
     "data": {
      "text/plain": [
       "[<matplotlib.lines.Line2D at 0x7f9304b35668>]"
      ]
     },
     "execution_count": 23,
     "metadata": {},
     "output_type": "execute_result"
    },
    {
     "data": {
      "image/png": "[encoded data removed]",
      "text/plain": [
       "<Figure size 576x432 with 1 Axes>"
      ]
     },
     "metadata": {
      "needs_background": "light"
     },
     "output_type": "display_data"
    }
   ],
   "source": [
    "theta = np.array(theta).flatten()\n",
    "x = np.linspace(0, 50, 100)\n",
    "df.plot.scatter(x=\"mean_\", y=\"rm\", figsize=(8,6))\n",
    "plt.plot(x,theta[0]+theta[1]*x, \"b-\")"
   ]
  }
 ],
 "metadata": {
  "kernelspec": {
   "display_name": "Python 3 (ipykernel)",
   "language": "python",
   "name": "python3"
  },
  "language_info": {
   "codemirror_mode": {
    "name": "ipython",
    "version": 3
   },
   "file_extension": ".py",
   "mimetype": "text/x-python",
   "name": "python",
   "nbconvert_exporter": "python",
   "pygments_lexer": "ipython3",
   "version": "3.7.3"
  }
 },
 "nbformat": 4,
 "nbformat_minor": 5
}
