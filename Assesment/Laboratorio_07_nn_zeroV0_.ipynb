{
  "nbformat": 4,
  "nbformat_minor": 0,
  "metadata": {
    "colab": {
      "name": "Laboratorio_nn_zero.ipynb",
      "provenance": []
    },
    "kernelspec": {
      "name": "python3",
      "display_name": "Python 3"
    },
    "language_info": {
      "name": "python"
    }
  },
  "cells": [
    {
      "cell_type": "code",
      "execution_count": 113,
      "metadata": {
        "id": "UG0R-DxjnBhn"
      },
      "outputs": [],
      "source": [
        "import pandas as pd\n",
        "import scipy as sc\n",
        "import numpy as np\n",
        "import h5py\n",
        "import matplotlib.pylab as plt"
      ]
    },
    {
      "cell_type": "code",
      "source": [
        "data_train= \"train_catvnoncat.h5\"\n",
        "train_dataset = h5py.File(data_train, \"r\")\n",
        " \n",
        "data_test= \"test_catvnoncat.h5\"\n",
        "test_dataset = h5py.File(data_test, \"r\")\n"
      ],
      "metadata": {
        "id": "u3DbUInju5bB"
      },
      "execution_count": 114,
      "outputs": []
    },
    {
      "cell_type": "code",
      "source": [
        "train_dataset.keys()"
      ],
      "metadata": {
        "colab": {
          "base_uri": "https://localhost:8080/"
        },
        "id": "vXXeE1af2OJx",
        "outputId": "cdb8632b-7ccd-4c17-89a4-e59b9b07145a"
      },
      "execution_count": 116,
      "outputs": [
        {
          "output_type": "execute_result",
          "data": {
            "text/plain": [
              "<KeysViewHDF5 ['list_classes', 'train_set_x', 'train_set_y']>"
            ]
          },
          "metadata": {},
          "execution_count": 116
        }
      ]
    },
    {
      "cell_type": "code",
      "source": [
        "\n",
        "# Read the data\n",
        "xtrain_classes, xtrain, train_label =\\\n",
        "train_dataset[\"list_classes\"],train_dataset[\"train_set_x\"],train_dataset[\"train_set_y\"]\n",
        "\n",
        "test_classes, xtest,test_label =\\\n",
        "test_dataset[\"list_classes\"],test_dataset[\"test_set_x\"],test_dataset[\"test_set_y\"]\n"
      ],
      "metadata": {
        "id": "-1hat8N62M4e"
      },
      "execution_count": 117,
      "outputs": []
    },
    {
      "cell_type": "code",
      "source": [
        "np.shape(xtrain)"
      ],
      "metadata": {
        "colab": {
          "base_uri": "https://localhost:8080/"
        },
        "id": "d2mgfnsTvC2a",
        "outputId": "2ee21ea2-0284-461a-b051-5df5a458dc8b"
      },
      "execution_count": 126,
      "outputs": [
        {
          "output_type": "execute_result",
          "data": {
            "text/plain": [
              "(209, 64, 64, 3)"
            ]
          },
          "metadata": {},
          "execution_count": 126
        }
      ]
    },
    {
      "cell_type": "code",
      "source": [
        "plt.imshow(xtrain[208])"
      ],
      "metadata": {
        "colab": {
          "base_uri": "https://localhost:8080/",
          "height": 285
        },
        "id": "qC1DrIWiu--B",
        "outputId": "8d3cd559-3aee-44f6-d35e-3c8c454debdb"
      },
      "execution_count": 127,
      "outputs": [
        {
          "output_type": "execute_result",
          "data": {
            "text/plain": [
              "<matplotlib.image.AxesImage at 0x7f5a1d05b290>"
            ]
          },
          "metadata": {},
          "execution_count": 127
        },
        {
          "output_type": "display_data",
          "data": {
            "text/plain": [
              "<Figure size 432x288 with 1 Axes>"
            ],
            "image/png": "[encoded data removed]"
          },
          "metadata": {
            "needs_background": "light"
          }
        }
      ]
    },
    {
      "cell_type": "code",
      "source": [
        "np.shape(xtrain[0])"
      ],
      "metadata": {
        "colab": {
          "base_uri": "https://localhost:8080/"
        },
        "id": "9pxd8cOX4Xk6",
        "outputId": "08bf855d-b95e-48f0-ce38-500ee0ca8e23"
      },
      "execution_count": 128,
      "outputs": [
        {
          "output_type": "execute_result",
          "data": {
            "text/plain": [
              "(64, 64, 3)"
            ]
          },
          "metadata": {},
          "execution_count": 128
        }
      ]
    },
    {
      "cell_type": "code",
      "source": [
        "np.reshape(xtrain[0], 64*64*3)"
      ],
      "metadata": {
        "colab": {
          "base_uri": "https://localhost:8080/"
        },
        "id": "Du9z2Uxb4cJR",
        "outputId": "6dd9cb08-1d63-4fe7-a29b-c7931d5b2602"
      },
      "execution_count": 131,
      "outputs": [
        {
          "output_type": "execute_result",
          "data": {
            "text/plain": [
              "array([17, 31, 56, ...,  0,  0,  0], dtype=uint8)"
            ]
          },
          "metadata": {},
          "execution_count": 131
        }
      ]
    },
    {
      "cell_type": "code",
      "source": [
        "xtrain_= np.reshape(xtrain,(209, 64*64*3))/255\n",
        "xtest_ = np.reshape(xtest,(50, 64*64*3))/255"
      ],
      "metadata": {
        "id": "vhMaDzC0vVPp"
      },
      "execution_count": 133,
      "outputs": []
    },
    {
      "cell_type": "code",
      "source": [
        "len(xtrain_[208])"
      ],
      "metadata": {
        "colab": {
          "base_uri": "https://localhost:8080/"
        },
        "id": "UADlx19ivW3z",
        "outputId": "26dc1c45-4c7a-472d-a1d6-33a20f95fba6"
      },
      "execution_count": 143,
      "outputs": [
        {
          "output_type": "execute_result",
          "data": {
            "text/plain": [
              "12288"
            ]
          },
          "metadata": {},
          "execution_count": 143
        }
      ]
    },
    {
      "cell_type": "code",
      "source": [
        "64*64*3"
      ],
      "metadata": {
        "colab": {
          "base_uri": "https://localhost:8080/"
        },
        "id": "FeSx2i9B4_f3",
        "outputId": "3524986c-30d1-4592-e00d-8f721fcf50f3"
      },
      "execution_count": 144,
      "outputs": [
        {
          "output_type": "execute_result",
          "data": {
            "text/plain": [
              "12288"
            ]
          },
          "metadata": {},
          "execution_count": 144
        }
      ]
    },
    {
      "cell_type": "markdown",
      "source": [
        "Construyamos una red neuronal con una capa de entrada, una capa de salida con una red y L-1 redes ocultas.\n",
        "\n",
        "# Con m datos de entrenamientos.\n",
        "\n",
        "Para $m$ datos de entrenamiento, las expresión anteriores pueden ser resumidas en las siguientes ecuaciones\n",
        "\n",
        "\n",
        "\n",
        "\\begin{equation}\n",
        "\\begin{bmatrix}\n",
        "z_1^{(0)}  &z_1^{(1)} & .&.& .&z_1^{(m)}\\\\\n",
        "z_2^{(0)}  &z_2^{(1)} &. &.&  .&z_2^{(m)}\\\\\n",
        ".          & .        &. & &   &.      \\\\\n",
        ".          & .        &  &. &   &.      \\\\\n",
        ".          & .        &  &  & .&      \\\\\n",
        "z_{n^{[l]}}^{(0)}&z_{n^{[l]}}^{(1)} & . & .& .& z_{n^{[l]}}^{(m)}        \\\\\n",
        "\\end{bmatrix}^{[l]}=\n",
        "\\begin{bmatrix}\n",
        "\\theta_{11} & \\theta_{12} & . & .& .& \\theta_{1n^{[l-1]}}\\\\\n",
        "\\theta_{21} & \\theta_{22} & . & .& .& \\theta_{2n^{[l-1]}}\\\\\n",
        ". & .  & . &   & & .\\\\\n",
        ". & .  &   & . & & .\\\\\n",
        ". & .  &   &  & .& .\\\\\n",
        "\\theta_{n^{[l]}1} & \\theta_{n^{[l]}2} & . & .& .& \\theta_{n^{[l]}n^{[l-1]}}\\\\\n",
        "\\end{bmatrix}^{[l]}_{n^{[l]} \\times n^{[l-1]}}\n",
        "\\begin{bmatrix}\n",
        "a_1^{(0)}  &a_1^{(1)} & .&.& .&a_1^{(m)}\\\\\n",
        "a_2^{(0)}  &a_2^{(1)} &. &.&  .&a_2^{(m)}\\\\\n",
        ".          & .        &. & &   &.      \\\\\n",
        ".          & .        &  &. &   &.      \\\\\n",
        ".          & .        &  &  & .&      \\\\\n",
        "a_{n^{[L-1]}}^{(0)}&a_{n^{[L-1]}}^{(1)} & . & .& .& a_{n^{[L-1]}}^{(m)}        \\\\\n",
        "\\end{bmatrix}^{[l-1]} +\n",
        "\\begin{bmatrix}\n",
        "b_1 \\\\\n",
        "b_2 \\\\\n",
        ". \\\\\n",
        ". \\\\\n",
        ". \\\\\n",
        "b_{n^{[l]}}\\\\\n",
        "\\end{bmatrix}^{[l]} \n",
        "\\end{equation}\n",
        "\n",
        "\n",
        "Escrito de una formas mas compacta tenemos que:\n",
        "\n",
        "\n",
        "\\begin{equation}\n",
        "[ \\vec{Z}^{[l](0)},\\vec{Z}^{[l](1)},...,\\vec{Z}^{[l](m)}  ]= \\Theta^{[l]} [\\vec{A}^{[l-1](0)},\\vec{A}^{[l-1](1)},...,\\vec{A}^{[l-1](m)} ]+ \\vec{b}^{[l]}\n",
        "\\end{equation}\n",
        "\n",
        "Aplicando la funcion de activación:\n",
        "\n",
        "\\begin{equation}\n",
        "[\\vec{A}^{[l](0)},\\vec{A}^{[l](1)},...,\\vec{A}^{[l](m)} ]=f([\\vec{Z}^{[l](0)},\\vec{Z}^{[l](1)},...,\\vec{Z}^{[l](m)}  ]) \n",
        "\\end{equation}\n",
        "\n",
        "Las dimensiones de las expresiones anteriores, pueden ser resumidas en lo siguiente:\n",
        "\n",
        "$\\mathrm{dim(\\vec{\\cal{Z}}^{[l]})}=n^{[l]}\\times m $\n",
        "\n",
        "$\\mathrm{dim(\\vec{\\Theta}^{[l]})}=n^{[l]}\\times n^{[l-1]}$\n",
        "\n",
        "$\\mathrm{dim(\\vec{\\cal{A}}^{[l]})}=n^{[l-1]}\\times m $\n",
        "\n",
        "$\\mathrm{dim(\\vec{b}^{[l]})}=n^{[l]}$\n",
        "\n",
        "\n"
      ],
      "metadata": {
        "id": "i97z3Eofni2T"
      }
    },
    {
      "cell_type": "markdown",
      "source": [
        "## Topologia de la red.\n",
        "\n",
        "1. Construir un algorítmo que permita definir una red neuronal con la topología\n",
        "deseada y la función de activación para cada capa:\n",
        "\n",
        "Topology = [n_x, n_h1, n_h2, n_h3, ...,n_y]\n",
        "\n",
        "activation=[None, relu, relu, relu, ...,sigmoid]\n",
        "\n",
        "  - $\\mathrm{n_x}$: valores de entrada\n",
        "  - $\\mathrm{n_{h1}}$: hidden layer 1 \n",
        "  - $\\mathrm{n_{h2}}$: hidden layer 2\n",
        "  - $\\mathrm{n_y}$: last layer \n",
        "\n",
        "\n",
        "\n",
        "Se sugiere para cada capa emplear programación orientada a objetos definida de la siguiente manera:\n",
        "\n",
        "```\n",
        "class layer_nn():\n",
        "  def __init__(self, act_fun, nlayer_present, nlayer_before):\n",
        "    self.theta = 2*np.random.random((nlayer_present, nlayer_before)) - 1\n",
        "    self.B = 2*np.random.random((nlayer_present,1)) - 1\n",
        "    self.act_fun = act_fun\n",
        "\n",
        "  def output(self, Z, A):\n",
        "    self.Z = Z\n",
        "    self.A = A\n",
        "\n",
        "\n",
        "\n",
        "def act_function(x, activation):\n",
        "  if activation==\"sigmoid\":\n",
        "    f = lambda x: 1/(1+np.exp(-x))\n",
        "    fp = f(x)*(1-f(x))\n",
        "    return f, fp\n",
        "  \n",
        "  elif activation == \"tanh\":\n",
        "    f = lambda x: np.tanh\n",
        "    return tanh\n",
        "  else :\n",
        "    return 0\n",
        "```\n",
        "    \n",
        "\n",
        "2. Construir un generalizacion de la red, en el que entrada el valor inicial \n",
        "y la red neuronal completa arroje la salida y la actualizacion de la red con los parametros deseados:\n",
        "\n",
        "  ```\n",
        "  A, nn = forward_pass(A0, nn_red)\n",
        "\n",
        " ```\n",
        "3. Encontrar la funcion de coste.\n",
        "\n",
        "4. Construir un codigo que permita realizar el BackwardPropagation \n",
        "\n",
        "\n",
        "# Backward Propagation\n",
        "\n",
        "Para una capa $l$ arbitraria tenemos que:\n",
        "\n",
        "- \\begin{equation}\n",
        "d\\Theta^{[l]} =  d{\\cal Z}^{(i)[l]} A^{(i)[l-1]} = dA^{(i)[l]} f'({\\cal Z}^{(i)[l]} ) A^{(i)[l-1]}\n",
        "\\end{equation}\n",
        "\n",
        "- \\begin{equation}\n",
        "db^{[l]} =  d{\\cal Z}^{(i)[L]}  = dA^{(i)[l]} f'({\\cal Z}^{(i)[l]} ) \n",
        "\\end{equation}\n",
        "\n",
        "\n",
        "Los valores de dA pueden ser escritos como:\n",
        "- \\begin{equation}\n",
        "dA^{(i)[l-1]} = \\Theta^{l} dZ^{(i)[l]}\n",
        "\\end{equation}\n",
        "\n",
        "\n",
        "\n",
        "\n",
        "\n",
        "$ dZ^{[l]} = dA^{[l]} * f'^{[l]} (Z^{[l]}) $\n",
        "$ d\\Theta^{[l]} = \\frac{\\partial \\mathcal{J} }{\\partial \\Theta^{[l]}} = \\frac{1}{m} dZ^{[l]} A^{[l-1] T} \\tag{1}$\n",
        "$ db^{[l]} = \\frac{\\partial \\mathcal{J} }{\\partial b^{[l]}} = \\frac{1}{m} \\sum_{i = 1}^{m} dZ^{[l](i)}\\tag{2}$\n",
        "$ dA^{[l-1]} = \\frac{\\partial \\mathcal{L} }{\\partial A^{[l-1]}} = \\theta^{[l] T} dZ^{[l]} \\tag{3}$\n"
      ],
      "metadata": {
        "id": "VYQt5vHfnuEo"
      }
    },
    {
      "cell_type": "markdown",
      "source": [
        "\n",
        "\\begin{equation}\n",
        "[ \\vec{Z}^{[l](0)},\\vec{Z}^{[l](1)},...,\\vec{Z}^{[l](m)}  ]= \\Theta^{[l]} [\\vec{A}^{[l-1](0)},\\vec{A}^{[l-1](1)},...,\\vec{A}^{[l-1](m)} ]+ \\vec{b}^{[l]}\n",
        "\\end{equation}\n",
        "\n",
        "Aplicando la funcion de activación:\n",
        "\n",
        "\\begin{equation}\n",
        "[\\vec{A}^{[l](0)},\\vec{A}^{[l](1)},...,\\vec{A}^{[l](m)} ]=f([\\vec{Z}^{[l](0)},\\vec{Z}^{[l](1)},...,\\vec{Z}^{[l](m)}  ]) \n",
        "\\end{equation}\n",
        "\n",
        "Las dimensiones de las expresiones anteriores, pueden ser resumidas en lo siguiente:\n",
        "\n",
        "$\\mathrm{dim(\\vec{\\cal{Z}}^{[l]})}=n^{[l]}\\times m $\n",
        "\n",
        "$\\mathrm{dim(\\vec{\\Theta}^{[l]})}=n^{[l]}\\times n^{[l-1]}$\n",
        "\n",
        "$\\mathrm{dim(\\vec{\\cal{A}}^{[l]})}=n^{[l-1]}\\times m $\n",
        "\n",
        "$\\mathrm{dim(\\vec{b}^{[l]})}=n^{[l]} \\times m$ \n",
        "\\\\\n",
        "\n",
        "$\\mathrm{dim(\\vec{b}^{[l]})}=n^{[l]} \\times ?$\n",
        "\n",
        "\n"
      ],
      "metadata": {
        "id": "EM5TfSgKo9Bf"
      }
    },
    {
      "cell_type": "code",
      "source": [
        "import numpy as np\n",
        "import sympy as sp"
      ],
      "metadata": {
        "id": "iJ6nN2u86m96"
      },
      "execution_count": 149,
      "outputs": []
    },
    {
      "cell_type": "code",
      "source": [
        "m = 2*np.random.random((2, 2)) - 1"
      ],
      "metadata": {
        "id": "yYLiLYdJ6pTi"
      },
      "execution_count": 152,
      "outputs": []
    },
    {
      "cell_type": "code",
      "source": [
        "sp.Matrix(m)"
      ],
      "metadata": {
        "colab": {
          "base_uri": "https://localhost:8080/",
          "height": 58
        },
        "id": "TUQd7N_f6x9c",
        "outputId": "ac73b9ed-ac85-4934-93c9-342ec4805f37"
      },
      "execution_count": 153,
      "outputs": [
        {
          "output_type": "execute_result",
          "data": {
            "text/plain": [
              "Matrix([\n",
              "[ 0.689635275897323,  0.336265430727984],\n",
              "[-0.157021199624723, -0.527084420261718]])"
            ],
            "text/latex": "$\\displaystyle \\left[\\begin{matrix}0.689635275897323 & 0.336265430727984\\\\-0.157021199624723 & -0.527084420261718\\end{matrix}\\right]$"
          },
          "metadata": {},
          "execution_count": 153
        }
      ]
    },
    {
      "cell_type": "code",
      "source": [
        "class layer_nn():\n",
        "  def __init__(self, func_act, nn_present, nn_before):\n",
        "    self.theta = 2*np.random.random((nn_present, nn_before)) - 1\n",
        "    self.b = 2*np.random.random((nn_present, 1))-1\n",
        "    self.func_acti = func_act\n",
        "\n",
        "  def output(self, A, Z):\n",
        "    self.A = A\n",
        "    self.Z = Z\n",
        "\n",
        "\n",
        "def activation_function(name, x):\n",
        "  if (name==\"sigmoid\"):\n",
        "    f = lambda x: 1/(1+np.exp(-x))\n",
        "    return f(x)\n",
        "  \n",
        "  elif (name==\"tanh\"):\n",
        "    f =  lambda x: np.tanh(x)\n",
        "    return f(x)\n",
        "  else :\n",
        "    return \"Error\"\n"
      ],
      "metadata": {
        "id": "KFd5WyKz6ayE"
      },
      "execution_count": 329,
      "outputs": []
    },
    {
      "cell_type": "code",
      "source": [
        "x = np.linspace(-10, 10, 100)\n",
        "plt.plot(x, activation_function(\"sigmoid\", x))"
      ],
      "metadata": {
        "colab": {
          "base_uri": "https://localhost:8080/",
          "height": 282
        },
        "id": "vL33IT5U9Xn8",
        "outputId": "a565cb76-0b42-4f36-a2be-f41c1ed08960"
      },
      "execution_count": 330,
      "outputs": [
        {
          "output_type": "execute_result",
          "data": {
            "text/plain": [
              "[<matplotlib.lines.Line2D at 0x7f5a1a2711d0>]"
            ]
          },
          "metadata": {},
          "execution_count": 330
        },
        {
          "output_type": "display_data",
          "data": {
            "text/plain": [
              "<Figure size 432x288 with 1 Axes>"
            ],
            "image/png": "[encoded data removed]"
          },
          "metadata": {
            "needs_background": "light"
          }
        }
      ]
    },
    {
      "cell_type": "code",
      "source": [
        "nx = 12288\n",
        "Topology = [nx,3, 4, 7, 1 ]"
      ],
      "metadata": {
        "id": "k58a0ir596AH"
      },
      "execution_count": 331,
      "outputs": []
    },
    {
      "cell_type": "code",
      "source": [
        "l1 = layer_nn(\"sigmoid\",3, nx)"
      ],
      "metadata": {
        "id": "W678uce87jGy"
      },
      "execution_count": 332,
      "outputs": []
    },
    {
      "cell_type": "code",
      "source": [
        "l2 = layer_nn(\"sigmoid\", 4, 3)"
      ],
      "metadata": {
        "id": "IGAXH5wF7laj"
      },
      "execution_count": 333,
      "outputs": []
    },
    {
      "cell_type": "code",
      "source": [
        "l3 = layer_nn(\"sigmoid\", 7, 4)"
      ],
      "metadata": {
        "id": "Y2hOVKxw7plg"
      },
      "execution_count": 334,
      "outputs": []
    },
    {
      "cell_type": "code",
      "source": [
        "l4 = layer_nn(\"sigmoid\",1, 7)"
      ],
      "metadata": {
        "id": "RxkF1EyH-VuG"
      },
      "execution_count": 335,
      "outputs": []
    },
    {
      "cell_type": "code",
      "source": [
        "# Incializacion de la arquitectura de la red \n",
        "red_nn = [l1, l2, l3, l4]"
      ],
      "metadata": {
        "id": "F7fVzNf4-gTO"
      },
      "execution_count": 336,
      "outputs": []
    },
    {
      "cell_type": "code",
      "source": [
        "# Valores iniciales \n",
        "A0 = xtrain_.T"
      ],
      "metadata": {
        "id": "PAanbTzg_2TG"
      },
      "execution_count": 337,
      "outputs": []
    },
    {
      "cell_type": "code",
      "source": [
        "#np.shape(l1.theta)"
      ],
      "metadata": {
        "id": "U0DIH9H6AKkG"
      },
      "execution_count": 338,
      "outputs": []
    },
    {
      "cell_type": "code",
      "source": [
        "np.shape(l1.theta@A0)"
      ],
      "metadata": {
        "colab": {
          "base_uri": "https://localhost:8080/"
        },
        "id": "ssKqromEAfCk",
        "outputId": "adf4ccb9-ce27-4c82-ca19-e14f4b810512"
      },
      "execution_count": 339,
      "outputs": [
        {
          "output_type": "execute_result",
          "data": {
            "text/plain": [
              "(3, 209)"
            ]
          },
          "metadata": {},
          "execution_count": 339
        }
      ]
    },
    {
      "cell_type": "code",
      "source": [
        "np.shape(l1.theta@A0 )"
      ],
      "metadata": {
        "colab": {
          "base_uri": "https://localhost:8080/"
        },
        "id": "pg-VDTe__klE",
        "outputId": "c8eb73ce-98af-4ba9-9a52-7e0b71babdd0"
      },
      "execution_count": 340,
      "outputs": [
        {
          "output_type": "execute_result",
          "data": {
            "text/plain": [
              "(3, 209)"
            ]
          },
          "metadata": {},
          "execution_count": 340
        }
      ]
    },
    {
      "cell_type": "code",
      "source": [
        "np.shape(l1.b.repeat(209, axis = 1))"
      ],
      "metadata": {
        "colab": {
          "base_uri": "https://localhost:8080/"
        },
        "id": "GCaeG0wC_knr",
        "outputId": "72ea57b4-9b23-408e-ddbc-3c754a64bce0"
      },
      "execution_count": 343,
      "outputs": [
        {
          "output_type": "execute_result",
          "data": {
            "text/plain": [
              "(3, 209)"
            ]
          },
          "metadata": {},
          "execution_count": 343
        }
      ]
    },
    {
      "cell_type": "markdown",
      "source": [
        "# layer 1"
      ],
      "metadata": {
        "id": "ydhpVpFnE1I0"
      }
    },
    {
      "cell_type": "code",
      "source": [
        "Z1 = l1.theta@A0 + l1.b\n",
        "A1 = activation_function(l1.func_acti, Z1)"
      ],
      "metadata": {
        "id": "Fvh20i1dDwn2"
      },
      "execution_count": 353,
      "outputs": []
    },
    {
      "cell_type": "markdown",
      "source": [
        "# layer 2"
      ],
      "metadata": {
        "id": "2jjGDJ5JE568"
      }
    },
    {
      "cell_type": "code",
      "source": [
        "Z2 = l2.theta@A1 + l2.b\n",
        "A2 = activation_function(l2.func_acti, Z2)"
      ],
      "metadata": {
        "id": "wIQtEODDBkTw"
      },
      "execution_count": 350,
      "outputs": []
    },
    {
      "cell_type": "markdown",
      "source": [
        "# layer 3"
      ],
      "metadata": {
        "id": "0T_yO0qlFVIn"
      }
    },
    {
      "cell_type": "code",
      "source": [
        "Z3 = l3.theta@A2 + l3.b\n",
        "A3 = activation_function(l3.func_acti, Z3)"
      ],
      "metadata": {
        "id": "hcE62wo3FUiZ"
      },
      "execution_count": 354,
      "outputs": []
    },
    {
      "cell_type": "markdown",
      "source": [
        "# layer 4"
      ],
      "metadata": {
        "id": "6bLfbrc9Feyy"
      }
    },
    {
      "cell_type": "code",
      "source": [
        "Z4 = l4.theta@A3 + l4.b\n",
        "A4 = activation_function(l4.func_acti, Z4)"
      ],
      "metadata": {
        "id": "VhPbXT8r_kqL"
      },
      "execution_count": 355,
      "outputs": []
    },
    {
      "cell_type": "code",
      "source": [
        "np.shape(A4)"
      ],
      "metadata": {
        "colab": {
          "base_uri": "https://localhost:8080/"
        },
        "id": "MxchM7p4_kts",
        "outputId": "ec6c0866-8f6b-4091-a3b8-c705aed87167"
      },
      "execution_count": 357,
      "outputs": [
        {
          "output_type": "execute_result",
          "data": {
            "text/plain": [
              "(1, 209)"
            ]
          },
          "metadata": {},
          "execution_count": 357
        }
      ]
    },
    {
      "cell_type": "code",
      "source": [
        "A4[0]"
      ],
      "metadata": {
        "colab": {
          "base_uri": "https://localhost:8080/"
        },
        "id": "49U6vNza-siK",
        "outputId": "a3206805-3873-4e5c-86ce-de8928388407"
      },
      "execution_count": 359,
      "outputs": [
        {
          "output_type": "execute_result",
          "data": {
            "text/plain": [
              "array([0.70819859, 0.7013293 , 0.70093777, 0.70592825, 0.70909283,\n",
              "       0.70598628, 0.70095029, 0.70594478, 0.70074758, 0.70440925,\n",
              "       0.70093777, 0.70099486, 0.7043786 , 0.70489675, 0.70221049,\n",
              "       0.70093233, 0.70232833, 0.69913023, 0.70135374, 0.70488731,\n",
              "       0.70465225, 0.70251842, 0.70093984, 0.69951307, 0.70093778,\n",
              "       0.70104703, 0.70093764, 0.70599602, 0.70520334, 0.70489155,\n",
              "       0.70371334, 0.70489646, 0.69912988, 0.70095008, 0.70411113,\n",
              "       0.70782814, 0.70378146, 0.7048407 , 0.70825094, 0.69935381,\n",
              "       0.7045415 , 0.70610413, 0.69921983, 0.70094292, 0.69923774,\n",
              "       0.69920735, 0.7060087 , 0.70420659, 0.70599738, 0.71049867,\n",
              "       0.70093239, 0.70297026, 0.70181234, 0.7045131 , 0.70371439,\n",
              "       0.69912987, 0.7048503 , 0.70660519, 0.7048135 , 0.70473289,\n",
              "       0.7058673 , 0.70093779, 0.7036218 , 0.70093781, 0.704914  ,\n",
              "       0.70337545, 0.70487895, 0.70093722, 0.7103204 , 0.70049764,\n",
              "       0.70445642, 0.70530239, 0.69918747, 0.69922591, 0.71038239,\n",
              "       0.70137708, 0.70262183, 0.70301317, 0.70309332, 0.70557513,\n",
              "       0.70089787, 0.70423997, 0.706003  , 0.69912988, 0.70312203,\n",
              "       0.70594779, 0.70149341, 0.70172509, 0.70408116, 0.70362547,\n",
              "       0.7034159 , 0.70489764, 0.70372283, 0.70093912, 0.70020016,\n",
              "       0.70489831, 0.7014282 , 0.70484728, 0.700959  , 0.70371594,\n",
              "       0.69913353, 0.7009397 , 0.70423599, 0.70308783, 0.70488543,\n",
              "       0.70492529, 0.70489768, 0.70347112, 0.70063316, 0.7009387 ,\n",
              "       0.70489768, 0.70095513, 0.70422471, 0.70593451, 0.69913081,\n",
              "       0.7009378 , 0.70518505, 0.70579643, 0.71048429, 0.70489764,\n",
              "       0.70093774, 0.70482651, 0.70489768, 0.70309037, 0.70313619,\n",
              "       0.71037729, 0.7047884 , 0.70311583, 0.70094347, 0.70093961,\n",
              "       0.70094362, 0.70489409, 0.71046985, 0.70600386, 0.70093784,\n",
              "       0.69912992, 0.70260755, 0.70072002, 0.69913057, 0.71049766,\n",
              "       0.70806528, 0.70083872, 0.70487076, 0.70536961, 0.70489768,\n",
              "       0.70093797, 0.69917613, 0.69957135, 0.70564451, 0.70083189,\n",
              "       0.69921607, 0.70600493, 0.7048577 , 0.70371429, 0.70596058,\n",
              "       0.70362846, 0.70600494, 0.69933768, 0.70468825, 0.69942749,\n",
              "       0.69913081, 0.7009378 , 0.70105636, 0.70599964, 0.70256814,\n",
              "       0.70093512, 0.70309158, 0.70099464, 0.70484586, 0.69913585,\n",
              "       0.69913112, 0.70441947, 0.70093798, 0.69913004, 0.70598897,\n",
              "       0.71021099, 0.70704423, 0.70093781, 0.70489768, 0.70091395,\n",
              "       0.70361499, 0.703851  , 0.7009378 , 0.70593962, 0.70135598,\n",
              "       0.69957997, 0.69919127, 0.70306506, 0.7000346 , 0.6993809 ,\n",
              "       0.70093858, 0.69950448, 0.69913009, 0.70476017, 0.70534697,\n",
              "       0.70955027, 0.69984675, 0.69912987, 0.70489794, 0.70366396,\n",
              "       0.7059799 , 0.69912999, 0.70600475, 0.70211854, 0.70295251,\n",
              "       0.70506171, 0.70483266, 0.69913007, 0.70134121])"
            ]
          },
          "metadata": {},
          "execution_count": 359
        }
      ]
    }
  ]
}
