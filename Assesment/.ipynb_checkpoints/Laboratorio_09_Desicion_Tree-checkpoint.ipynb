{
 "cells": [
  {
   "cell_type": "markdown",
   "metadata": {
    "id": "rpr_GPJPOho3"
   },
   "source": [
    "#Algoritmo CART (classification and regresion tree)\n",
    "\n",
    "Se busca entrenar un modelo para categorizar la información encontrando la frontera de desición, permite tener una mejor interpretabilidad que las redes neuronales dado que se puede tener una represetancion grafica del proceso de desiscion secuencial.\n",
    "\n",
    "- ref https://www.youtube.com/watch?v=kqaLlte6P6o&ab_channel=CodificandoBits\n",
    "- Hand on Machine leargning \n",
    "\n",
    "\n"
   ]
  },
  {
   "cell_type": "markdown",
   "metadata": {
    "id": "OpsCZfODVSxG"
   },
   "source": [
    "Dado un conjunto de caracteristicas se establece una condición que realiza \n",
    "una particion binaria de los datos a clasificar repitiendo hasta encontrar \n",
    "particiones lo más homogenea posible.\n",
    "\n",
    "\n"
   ]
  },
  {
   "cell_type": "code",
   "execution_count": null,
   "metadata": {
    "colab": {
     "base_uri": "https://localhost:8080/",
     "height": 301
    },
    "id": "-tVi-cPoUcZT",
    "outputId": "0e0a081e-4f0c-4a33-906c-dfe9412500be"
   },
   "outputs": [
    {
     "data": {
      "text/plain": [
       "Text(0, 0.5, '$X_2$')"
      ]
     },
     "execution_count": 21,
     "metadata": {},
     "output_type": "execute_result"
    },
    {
     "data": {
      "image/png": "[encoded data removed]",
      "text/plain": [
       "<Figure size 432x288 with 1 Axes>"
      ]
     },
     "metadata": {
      "needs_background": "light"
     },
     "output_type": "display_data"
    }
   ],
   "source": [
    "X0, y0 = make_classification(n_samples=20,\n",
    "    n_features=2, n_redundant=0, n_informative=1, random_state=1, \n",
    "    n_clusters_per_class=1)\n",
    "\n",
    "x=np.arange(-2, 3,1)\n",
    "x_,y_ = np.meshgrid(x,x)\n",
    "\n",
    "fig, ax = plt.subplots()\n",
    "ax.plot(X0[:,0][y0==0],X0[:,1][y0==0],\"ro\", alpha=0.5)\n",
    "ax.plot(X0[:,0][y0==1],X0[:,1][y0==1],\"bo\", alpha=0.5)\n",
    "#ax.plot(x_,y_,\"k.\")\n",
    "\n",
    "ax.axvline(x = 1, color = 'm', label=\"x1<=1\")\n",
    "ax.axhline(y = 0.2, color = 'y', label=\"x2<0.2\")\n",
    "ax.axvline(x = 0.0, color = 'k', label=\"x2<0.2\")\n",
    "#plt.legend(loc=3)\n",
    "plt.xlabel(\"$X_1$\")\n",
    "plt.ylabel(\"$X_2$\")"
   ]
  },
  {
   "cell_type": "markdown",
   "metadata": {
    "id": "3X4T0i5RbJj1"
   },
   "source": [
    "\n",
    "- Gini index\n",
    "\n",
    "\n",
    "$G = 1 - (PC_1)^2 - (PC_2)^2$\n",
    "\n",
    "$PC_1$: Probablidad categoria 1 \n",
    "\n",
    "$PC_2$: Probablidad categoria 2 \n",
    "\n",
    "Si :\n",
    "\n",
    "- $G=0$ nodos puros, datos que pertenecen a una sola categoría\n",
    "\n",
    "- Gini > 0 son nodos con impurezas, con mas de una categoría\n",
    "\n",
    "\n",
    "La partición purpura  y amarilla del gráfico anterior representan nodos puros.\n",
    "\n",
    "Mientras que la linea negra define:\n",
    "\n",
    "- 7 puntos son de color azul.\n",
    "\n",
    "- 6 puntos de color rojo.\n",
    "\n",
    "$G = 1 - (7/13)^{2} - (6/13)^{2}$\n",
    "\n",
    "mientrás que la ponderacion viene dada por:\n",
    "\n",
    "$m = (7/20+7/20)=7/10$\n",
    "\n",
    "\n",
    "\n",
    "No:\n",
    "\n",
    "$G=1-(3/7)^{2}-(4/7)^{2}$\n",
    "m = (3/20+4/20)\n",
    "\n",
    "\n",
    "La funcion de coste, asocida al nodo padre:\n",
    "\n",
    "$J(k, t_k) = \\frac{m_{left}}{m} G_{left} + \\frac{m_{right}}{m} G_{right} $\n",
    "\n",
    "\n",
    "\n",
    "# Algoritmo\n",
    "1. Calcular todos los posibles condiciones. \n",
    "2. Calcular los indices de Gini.\n",
    "3. Encontrar la funcion de coste \n",
    "4. Escoger la menor funcion de coste \n",
    "5. Repetir.\n"
   ]
  },
  {
   "cell_type": "markdown",
   "metadata": {
    "id": "MuTaITJmSgpP"
   },
   "source": [
    "# Laboratorio\n",
    "\n",
    "1. Importar iris dataset \n",
    "2. Generar una intuición respecto a iris dataset. Ver laboratorio anterior.\n",
    "3. Dividir el *dataset* empleanto el metodo train_test_split de sklearn\n",
    "4. Dentro de sklearn, aplicar el algoritmo DecisionTreeClassifier.\n",
    "5. Para el clasificador analice el gráfico de desición:\n",
    "\n",
    "```\n",
    "\n",
    "https://scikit-learn.org/stable/modules/generated/sklearn.tree.export_graphviz.html\n",
    "\n",
    "  fig, axes = plt.subplots(nrows = 1,ncols = 1,figsize = (4,4), dpi=300)\n",
    "  graph=tree.plot_tree(clf,class_names = iris.target_names,\\\n",
    "                feature_names = iris.feature_names,\\\n",
    "                impurity=False, filled=True,rounded=True )\n",
    "\n",
    "```\n",
    "\n",
    "6. Características importantes.\n",
    "\n",
    "```\n",
    "clf.feature_importances_\n",
    "caract = iris.data.shape[1]\n",
    "plt.barh(range(caract), clf.feature_importances_)\n",
    "plt.yticks(np.arange(caract),iris.feature_names)\n",
    "plt.xlabel('Importancia de las características')\n",
    "plt.ylabel('Características')\n",
    "plt.show()\n",
    "```\n",
    "\n",
    "7. Fronteras de desición.\n",
    "\n",
    "\n",
    "\n",
    "```\n",
    "# https://scikit-learn.org/stable/modules/generated/sklearn.model_selection.train_test_split.html\n",
    "# Parameters\n",
    "n_classes = 3\n",
    "plot_colors = \"bry\"\n",
    "plot_step = 0.02\n",
    "\n",
    "# Load data\n",
    "iris = load_iris()\n",
    "\n",
    "for pairidx, pair in enumerate([[0, 1], [0, 2], [0, 3],\n",
    "                                [1, 2], [1, 3], [2, 3]]):\n",
    "    # We only take the two corresponding features\n",
    "    X = iris.data[:, pair]\n",
    "    y = iris.target\n",
    "\n",
    "    # Shuffle\n",
    "    idx = np.arange(X.shape[0])\n",
    "    np.random.seed(13)\n",
    "    np.random.shuffle(idx)\n",
    "    X = X[idx]\n",
    "    y = y[idx]\n",
    "\n",
    "    # Standardize\n",
    "    mean = X.mean(axis=0)\n",
    "    std = X.std(axis=0)\n",
    "    X = (X - mean) / std\n",
    "\n",
    "    # Train\n",
    "    clf = DecisionTreeClassifier().fit(X, y)\n",
    "\n",
    "    # Plot the decision boundary\n",
    "    plt.subplot(2, 3, pairidx + 1)\n",
    "  \n",
    "    x_min, x_max = X[:, 0].min() - 1, X[:, 0].max() + 1\n",
    "    y_min, y_max = X[:, 1].min() - 1, X[:, 1].max() + 1\n",
    "    xx, yy = np.meshgrid(np.arange(x_min, x_max, plot_step),\n",
    "                         np.arange(y_min, y_max, plot_step))\n",
    "\n",
    "    Z = clf.predict(np.c_[xx.ravel(), yy.ravel()])\n",
    "    Z = Z.reshape(xx.shape)\n",
    "    cs = plt.contourf(xx, yy, Z, cmap=plt.cm.Paired)\n",
    "\n",
    "    plt.xlabel(iris.feature_names[pair[0]])\n",
    "    plt.ylabel(iris.feature_names[pair[1]])\n",
    "    plt.axis(\"tight\")\n",
    "\n",
    "    # Plot the training points\n",
    "    for i, color in zip(range(n_classes), plot_colors):\n",
    "        idx = np.where(y == i)\n",
    "        plt.scatter(X[idx, 0], X[idx, 1], c=color, label=iris.target_names[i],\n",
    "                    cmap=plt.cm.Paired)\n",
    "\n",
    "    plt.axis(\"tight\")\n",
    "\n",
    "plt.suptitle(\"Decision surface of a decision tree using paired features\")\n",
    "plt.legend()\n",
    "plt.show()\n",
    "```\n"
   ]
  },
  {
   "cell_type": "code",
   "execution_count": 16,
   "metadata": {
    "id": "WbCnt08USfuB"
   },
   "outputs": [],
   "source": [
    "from sklearn.datasets import make_classification\n",
    "import numpy as np\n",
    "import matplotlib.pylab as plt\n",
    "from sklearn.datasets import load_iris\n",
    "from sklearn.tree import DecisionTreeClassifier\n",
    "from sklearn.datasets import load_iris, load_breast_cancer\n",
    "from sklearn.model_selection import train_test_split\n",
    "import graphviz\n",
    "#from sklearn.tree import export_graphviz\n",
    "import matplotlib.pyplot as plt\n",
    "import numpy as np\n",
    "from sklearn import tree\n"
   ]
  },
  {
   "cell_type": "code",
   "execution_count": null,
   "metadata": {
    "id": "IfHScgv5V2DA"
   },
   "outputs": [],
   "source": []
  }
 ],
 "metadata": {
  "colab": {
   "collapsed_sections": [],
   "name": "Laboratorio_09_Desicion_Tree.ipynb",
   "provenance": []
  },
  "kernelspec": {
   "display_name": "Python 3 (ipykernel)",
   "language": "python",
   "name": "python3"
  },
  "language_info": {
   "codemirror_mode": {
    "name": "ipython",
    "version": 3
   },
   "file_extension": ".py",
   "mimetype": "text/x-python",
   "name": "python",
   "nbconvert_exporter": "python",
   "pygments_lexer": "ipython3",
   "version": "3.7.3"
  }
 },
 "nbformat": 4,
 "nbformat_minor": 1
}
