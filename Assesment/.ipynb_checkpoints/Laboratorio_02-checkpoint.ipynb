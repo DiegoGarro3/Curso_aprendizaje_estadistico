{
 "cells": [
  {
   "cell_type": "markdown",
   "metadata": {
    "id": "BuGPbfFoAeSY"
   },
   "source": [
    "# Laboratorio 02: \n",
    "\n",
    "### Intuición estadística modelos de *machine learning*\n",
    "\n",
    "1. Generar dos distribuciones de probabilidad centradas en 5.0,  7.5 con desviación estandar de 2.5 y 1.5 respectivamente. Realizar un gráfico de ambas distribuciones de probabilidad. \n",
    "\n",
    "  a). Emplear el objeto [stats.norm](https://docs.scipy.org/doc/scipy/reference/generated/scipy.stats.norm.html) y el metodo *Probability density function* (pdf)\n",
    "\n",
    "  b) Realizar un gráfico de ambas distribuciones\n",
    "\n",
    "2.  ¿Qué frontera analítica puede separar los datos?. Determine una expresión analítica en este caso. \n",
    "\n",
    "\n",
    "### Modelo de *machine learning*\n",
    "\n",
    "3. Empleando el metodo *Random variates*(rvs), genere 100 muestas aleatorias para cada distribución, estos seran los datos de entrenamiento\n",
    "\n",
    "4. Realice un gráfico en el que pueda superponer ambas distribuciones, estas 200 muestas serán las caracteristicas (*features*) de nuestro data frame, para cada característica tendremos una etiqueta(*labels*) correspondiente a  0 ó 1. \n",
    "\n",
    "\n",
    "\n",
    "5. Con los datos anteriores construya un DataFrame con los *features* y *labels* de la siguiente forma:\n",
    "\n",
    "\n",
    " |Y(*labels*)         | X_1(*feature*)       |\n",
    " |----------|----------|\n",
    " |$Y^{1}$ | $X_1^{1}$|\n",
    " |$Y^{2}$ | $X_1^{2}$|\n",
    " |.         | .        |\n",
    " |.         | .        |\n",
    " |.         | .        |\n",
    " |$Y^{m}$ | $X_1^{m}$  |\n",
    "\n",
    "- Se sugiere emplear las claves Y, X para los labels y features respectivamente.\n",
    "- $Y^{1},Y^{2}... Y^{m} $ son los  label de entrenamiento.\n",
    "- $X_1^{1},X_1^{2}... X_1^{m} $ es el conjunto de datos de entrenamiento asociado a la característica 1 en el entrenamiento m. \n",
    "- Este dataframe será el dataset de entrenamiento, para los datos de test construiremos 50 variables aleatorias. \n",
    "\n",
    "\n",
    "\n",
    "6. Construye un segundo data frame con 50 datos de test, asociados a las   muestras de  las dos distribuciones, estos serán los datos de test empleados para validar los algoritmos de clasificación df_test con claves  Y, X_1.\n",
    "\n",
    "### Modelo de machining learning \n",
    "7. Por ahora, emplearemos  clasificadores bajo un modelo de caja negra. La forma para implementar el modelo es la siguiente:\n",
    "  - Definir el modelo y realizar el fit:\n",
    "  ```\n",
    "    clf = LinearRegression()\n",
    "    clf.fit(X_train, Y_train)\n",
    "  ```\n",
    "  - Determinar el score de los datos de entrenamiento \n",
    " \n",
    "  ```\n",
    "  score = clf.score(X_train, Y_train)\n",
    "  ```\n",
    "  - Determinar el score para los datos de test, ¿que puede concluir mirando los scores?\n",
    "\n",
    "  Nota: \n",
    "  Emplear los siguientes clasificadores de machine learning y determinar los score para cada modelo. \n",
    "  \n",
    "  ```\n",
    "    - DecisionTreeClassifier(max_depth=3),\n",
    "    - SVC(kernel=\"linear\", C=0.025)\n",
    "  ```\n",
    "\n",
    "8. Existen librerias que pueden optmizar los hyperparametros de cualquier modelo:   [GridSearchCV](https://scikit-learn.org/stable/modules/generated/sklearn.model_selection.GridSearchCV.html) prueba a implementar las siguientes lineas de código con el siguiente modelo:\n",
    "\n",
    "```\n",
    "from sklearn.model_selection import GridSearchCV\n",
    "\n",
    "  param_grid = { \n",
    "    'n_estimators': [200, 500],\n",
    "    'max_features': ['auto', 'sqrt', 'log2'],\n",
    "    'max_depth' : [4,5,6,7,8],\n",
    "    'criterion' :['gini', 'entropy']\n",
    "}\n",
    "\n",
    "  CV_rfc = GridSearchCV(estimator=rfc, param_grid=param_grid, cv= 5)\n",
    "  CV_rfc.fit(x_train, y_train)\n",
    "```\n",
    "\n",
    "9. En los algoritmos de *machining learning* es de suma importancia conocer las curvas de aprendizaje para decidir si el algoritmo funciona de manera optima, emplea las siguiente lineas de código para mostrar las curvas de aprendizaje de la regresion lineal. \n",
    "\n",
    "```\n",
    "title = \"Learning Curves (RandomForestRegressor)\"\n",
    "plot_learning_curve(\n",
    "    regr, title, Xtr_, ytr_,  ylim=(0.8, 1.01),  n_jobs=4\n",
    ")\n",
    "```\n",
    "\n",
    "\n",
    "10. Pruea a construir curvas de aprendizaje para los siguientes valores en las distribuciones(emplea una regresion lineal):\n",
    "  - Datos de entrenamiento 30. media1=7.5, media2=10, desv1=1, desv1=1\n",
    "  - Datos de entrenamiento 100. media1=7.5, media2=10, desv1=1, desv1=1\n",
    "  - Datos de entrenamiento 200. media1=7.5, media2=7.0, desv1 = 2, desv1 = 2  \n",
    "  - Datos de entrenamiento 200. media1=7.5, media2=7.0, desv1 = 0.5, desv1 = 0.5  \n",
    "  -¿Qué puede concluir? de cada prueba.\n",
    "\n",
    "\n",
    "Nota: Busca siempre la manera de construir tus codigos de forma estructurada  de tal forma que puedar variar parametros con facilidad.\n",
    "\n",
    "\n"
   ]
  },
  {
   "cell_type": "code",
   "execution_count": 108,
   "metadata": {
    "executionInfo": {
     "elapsed": 2,
     "status": "ok",
     "timestamp": 1655224270063,
     "user": {
      "displayName": "HERNAN DAVID SALINAS JIMENEZ",
      "userId": "00408651407692255291"
     },
     "user_tz": 300
    },
    "id": "llRyfgPzAi08"
   },
   "outputs": [],
   "source": [
    "import sklearn \n",
    "from sklearn.linear_model import LinearRegression\n",
    "from sklearn.tree import DecisionTreeClassifier\n",
    "from sklearn.svm import SVC\n",
    "from sklearn.model_selection import GridSearchCV\n",
    "from sklearn.ensemble import RandomForestClassifier\n",
    "from sklearn.model_selection import learning_curve\n",
    "import numpy as np\n",
    "import pandas as pd\n",
    "import matplotlib.pylab as plt\n",
    "import seaborn as sns\n",
    "from scipy import stats\n",
    "from scipy import optimize\n",
    "from scipy.stats import norm\n"
   ]
  },
  {
   "cell_type": "code",
   "execution_count": 31,
   "metadata": {
    "executionInfo": {
     "elapsed": 239,
     "status": "ok",
     "timestamp": 1655224333666,
     "user": {
      "displayName": "HERNAN DAVID SALINAS JIMENEZ",
      "userId": "00408651407692255291"
     },
     "user_tz": 300
    },
    "id": "3vZ_1jc-DC-t"
   },
   "outputs": [],
   "source": [
    "# 1. Construir dos distribuciones \n",
    "x = np.linspace(-5, 15,1000)\n",
    "mean1 = 5\n",
    "mean2=10\n",
    "desv1 = 2.5\n",
    "desv2=1.5\n",
    "f1 = stats.norm(loc = mean1, scale = desv1)\n",
    "f2=stats.norm(loc=mean2, scale=desv2)\n"
   ]
  },
  {
   "cell_type": "code",
   "execution_count": 32,
   "metadata": {
    "colab": {
     "base_uri": "https://localhost:8080/",
     "height": 286
    },
    "executionInfo": {
     "elapsed": 371,
     "status": "ok",
     "timestamp": 1655224335058,
     "user": {
      "displayName": "HERNAN DAVID SALINAS JIMENEZ",
      "userId": "00408651407692255291"
     },
     "user_tz": 300
    },
    "id": "19MODM8EDq7H",
    "outputId": "7ada3115-f03f-4aa2-ba97-7bb038e48e86"
   },
   "outputs": [
    {
     "data": {
      "text/plain": [
       "[<matplotlib.lines.Line2D at 0x7f4e9ae6c580>]"
      ]
     },
     "execution_count": 32,
     "metadata": {},
     "output_type": "execute_result"
    },
    {
     "data": {
      "image/png": "[encoded data removed]",
      "text/plain": [
       "<Figure size 432x288 with 1 Axes>"
      ]
     },
     "metadata": {
      "needs_background": "light"
     },
     "output_type": "display_data"
    }
   ],
   "source": [
    "plt.plot(x,f1.pdf(x))\n",
    "plt.plot(x,f2.pdf(x))\n"
   ]
  },
  {
   "cell_type": "code",
   "execution_count": 49,
   "metadata": {
    "id": "yj9mDtafDtsM"
   },
   "outputs": [
    {
     "data": {
      "image/png": "[encoded data removed]",
      "text/plain": [
       "<Figure size 432x288 with 1 Axes>"
      ]
     },
     "metadata": {
      "needs_background": "light"
     },
     "output_type": "display_data"
    }
   ],
   "source": [
    "m=100\n",
    "n=25\n",
    "random_1 = f1.rvs(m)\n",
    "random_2 = f2.rvs(m)\n",
    "test_1=f1.rvs(n)\n",
    "test_2=f2.rvs(n)\n",
    "\n",
    "plt.figure()\n",
    "plt.hist(random_1, density=True)\n",
    "plt.plot(x, f1.pdf(x))\n",
    "plt.hist(random_2, density=True)\n",
    "plt.plot(x, f2.pdf(x))\n",
    "plt.show()"
   ]
  },
  {
   "cell_type": "code",
   "execution_count": 50,
   "metadata": {},
   "outputs": [],
   "source": [
    "X=np.zeros(2*m)\n",
    "Y=np.zeros(2*m)\n",
    "\n",
    "X_test=np.zeros(2*n)\n",
    "Y_test=np.zeros(2*n)\n",
    "\n",
    "X[0:m]=random_1\n",
    "X[m:2*m]=random_2\n",
    "X_test[0:n]=test_1\n",
    "X_test[n:2*n]=test_2\n",
    "\n",
    "Y[0:m]=np.zeros(m)\n",
    "Y[m:2*m]=np.ones(m)\n",
    "Y_test[0:n]=np.zeros(n)\n",
    "Y_test[n:2*n]=np.ones(n)\n"
   ]
  },
  {
   "cell_type": "code",
   "execution_count": 51,
   "metadata": {},
   "outputs": [],
   "source": [
    "data_muestra=np.array([X,Y]).T\n",
    "data_test=np.array([X_test,Y_test]).T\n",
    "columns_muestra=['X', 'Y']\n",
    "columns_test=['X_test', 'Y_test']\n",
    "\n",
    "df_muestra=pd.DataFrame(data=data_muestra, columns=columns_muestra)\n",
    "df_test=pd.DataFrame(data=data_test, columns=columns_test)"
   ]
  },
  {
   "cell_type": "code",
   "execution_count": 81,
   "metadata": {},
   "outputs": [
    {
     "name": "stdout",
     "output_type": "stream",
     "text": [
      "0.6106563848065042\n"
     ]
    }
   ],
   "source": [
    "clf=LinearRegression()\n",
    "clf.fit(X.reshape(2*m,1), Y.reshape(2*m,1))\n",
    "score = clf.score(X.reshape(2*m,1), Y.reshape(2*m,1))\n",
    "print(score)"
   ]
  },
  {
   "cell_type": "code",
   "execution_count": 82,
   "metadata": {},
   "outputs": [
    {
     "name": "stdout",
     "output_type": "stream",
     "text": [
      "0.7301976188114541\n"
     ]
    }
   ],
   "source": [
    "clf_test=LinearRegression()\n",
    "clf_test.fit(X_test.reshape(2*n,1), Y_test.reshape(2*n,1))\n",
    "score_test = clf_test.score(X_test.reshape(2*n,1), Y_test.reshape(2*n,1))\n",
    "print(score_test)"
   ]
  },
  {
   "cell_type": "code",
   "execution_count": 87,
   "metadata": {},
   "outputs": [
    {
     "name": "stdout",
     "output_type": "stream",
     "text": [
      "0.9\n"
     ]
    }
   ],
   "source": [
    "Treeclf=DecisionTreeClassifier(max_depth=3)\n",
    "Treeclf.fit(X.reshape(2*m,1), Y.reshape(2*m,1))\n",
    "scoreTree= Treeclf.score(X.reshape(2*m,1), Y.reshape(2*m,1))\n",
    "print(scoreTree)"
   ]
  },
  {
   "cell_type": "code",
   "execution_count": 89,
   "metadata": {},
   "outputs": [
    {
     "name": "stdout",
     "output_type": "stream",
     "text": [
      "0.98\n"
     ]
    }
   ],
   "source": [
    "Treeclf_test=DecisionTreeClassifier(max_depth=3)\n",
    "Treeclf_test.fit(X_test.reshape(2*n,1), Y_test.reshape(2*n,1))\n",
    "scoreTree_test= Treeclf_test.score(X_test.reshape(2*n,1), Y_test.reshape(2*n,1))\n",
    "print(scoreTree_test)"
   ]
  },
  {
   "cell_type": "code",
   "execution_count": 97,
   "metadata": {},
   "outputs": [
    {
     "name": "stdout",
     "output_type": "stream",
     "text": [
      "0.89\n"
     ]
    },
    {
     "name": "stderr",
     "output_type": "stream",
     "text": [
      "/home/samuel/.local/lib/python3.8/site-packages/sklearn/utils/validation.py:63: DataConversionWarning: A column-vector y was passed when a 1d array was expected. Please change the shape of y to (n_samples, ), for example using ravel().\n",
      "  return f(*args, **kwargs)\n"
     ]
    }
   ],
   "source": [
    "svcclf=SVC(kernel=\"linear\", C=0.025)\n",
    "svcclf.fit(X.reshape(2*m,1), Y.reshape(2*m,1))\n",
    "scoresvc= svcclf.score(X.reshape(2*m,1), Y.reshape(2*m,1))\n",
    "print(scoresvc)"
   ]
  },
  {
   "cell_type": "code",
   "execution_count": 98,
   "metadata": {},
   "outputs": [
    {
     "name": "stdout",
     "output_type": "stream",
     "text": [
      "0.92\n"
     ]
    },
    {
     "name": "stderr",
     "output_type": "stream",
     "text": [
      "/home/samuel/.local/lib/python3.8/site-packages/sklearn/utils/validation.py:63: DataConversionWarning: A column-vector y was passed when a 1d array was expected. Please change the shape of y to (n_samples, ), for example using ravel().\n",
      "  return f(*args, **kwargs)\n"
     ]
    }
   ],
   "source": [
    "svcclf_test=SVC(kernel=\"linear\", C=0.025)\n",
    "svcclf_test.fit(X_test.reshape(2*n,1), Y_test.reshape(2*n,1))\n",
    "scoresvc_test= svcclf_test.score(X_test.reshape(2*n,1), Y_test.reshape(2*n,1))\n",
    "print(scoresvc_test)"
   ]
  },
  {
   "cell_type": "code",
   "execution_count": 106,
   "metadata": {},
   "outputs": [
    {
     "data": {
      "text/plain": [
       "GridSearchCV(cv=5, estimator=RandomForestClassifier(),\n",
       "             param_grid={'criterion': ['gini', 'entropy'],\n",
       "                         'max_depth': [4, 5, 6, 7, 8],\n",
       "                         'max_features': ['auto', 'sqrt', 'log2'],\n",
       "                         'n_estimators': [200, 500]})"
      ]
     },
     "execution_count": 106,
     "metadata": {},
     "output_type": "execute_result"
    }
   ],
   "source": [
    "param_grid = { \n",
    "'n_estimators': [200, 500],\n",
    "'max_features': ['auto', 'sqrt', 'log2'],\n",
    "'max_depth' : [4,5,6,7,8],\n",
    "'criterion' :['gini', 'entropy']\n",
    "}\n",
    "\n",
    "CV_rfc = GridSearchCV(estimator=RandomForestClassifier(), param_grid=param_grid, cv= 5)\n",
    "CV_rfc.fit(X.reshape(2*m,1),Y.reshape(2*m,))"
   ]
  },
  {
   "cell_type": "code",
   "execution_count": 109,
   "metadata": {},
   "outputs": [
    {
     "ename": "NameError",
     "evalue": "name 'plot_learning_curve' is not defined",
     "output_type": "error",
     "traceback": [
      "\u001b[0;31m---------------------------------------------------------------------------\u001b[0m",
      "\u001b[0;31mNameError\u001b[0m                                 Traceback (most recent call last)",
      "\u001b[0;32m<ipython-input-109-7ee5ea1bfc43>\u001b[0m in \u001b[0;36m<module>\u001b[0;34m\u001b[0m\n\u001b[1;32m      1\u001b[0m \u001b[0mtitle\u001b[0m \u001b[0;34m=\u001b[0m \u001b[0;34m\"Learning Curves (RandomForestRegressor)\"\u001b[0m\u001b[0;34m\u001b[0m\u001b[0;34m\u001b[0m\u001b[0m\n\u001b[0;32m----> 2\u001b[0;31m \u001b[0mplot_learning_curve\u001b[0m\u001b[0;34m(\u001b[0m\u001b[0mregr\u001b[0m\u001b[0;34m,\u001b[0m \u001b[0mtitle\u001b[0m\u001b[0;34m,\u001b[0m \u001b[0mXtr_\u001b[0m\u001b[0;34m,\u001b[0m \u001b[0mytr_\u001b[0m\u001b[0;34m,\u001b[0m  \u001b[0mylim\u001b[0m\u001b[0;34m=\u001b[0m\u001b[0;34m(\u001b[0m\u001b[0;36m0.8\u001b[0m\u001b[0;34m,\u001b[0m \u001b[0;36m1.01\u001b[0m\u001b[0;34m)\u001b[0m\u001b[0;34m,\u001b[0m  \u001b[0mn_jobs\u001b[0m\u001b[0;34m=\u001b[0m\u001b[0;36m4\u001b[0m\u001b[0;34m)\u001b[0m\u001b[0;34m\u001b[0m\u001b[0;34m\u001b[0m\u001b[0m\n\u001b[0m",
      "\u001b[0;31mNameError\u001b[0m: name 'plot_learning_curve' is not defined"
     ]
    }
   ],
   "source": [
    "title = \"Learning Curves (RandomForestRegressor)\"\n",
    "plot_learning_curve(regr, title, Xtr_, ytr_,  ylim=(0.8, 1.01),  n_jobs=4)"
   ]
  },
  {
   "cell_type": "code",
   "execution_count": null,
   "metadata": {},
   "outputs": [],
   "source": []
  }
 ],
 "metadata": {
  "colab": {
   "authorship_tag": "ABX9TyNY75uiUnf/nvqzLm9dYRE4",
   "name": "Laboratorio_02.ipynb",
   "provenance": []
  },
  "kernelspec": {
   "display_name": "Python 3",
   "language": "python",
   "name": "python3"
  },
  "language_info": {
   "codemirror_mode": {
    "name": "ipython",
    "version": 3
   },
   "file_extension": ".py",
   "mimetype": "text/x-python",
   "name": "python",
   "nbconvert_exporter": "python",
   "pygments_lexer": "ipython3",
   "version": "3.8.10"
  }
 },
 "nbformat": 4,
 "nbformat_minor": 1
}
