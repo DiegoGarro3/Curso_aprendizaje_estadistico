{
  "nbformat": 4,
  "nbformat_minor": 0,
  "metadata": {
    "colab": {
      "name": "Laboratorio_12_RandomForest.ipynb",
      "provenance": [],
      "collapsed_sections": []
    },
    "kernelspec": {
      "name": "python3",
      "display_name": "Python 3"
    },
    "language_info": {
      "name": "python"
    }
  },
  "cells": [
    {
      "cell_type": "markdown",
      "source": [
        "# Random Forest\n",
        "\n",
        "\n",
        "\n",
        "Los arboles de desicion se ajustan muy bien a los datos de entrenamiento, sin embargo no permiten generalización. El overfiting es la caracteristica mas importante. Para dar solucion, se propone el algoritmo de random foreset basado en dos caracteristicas:\n",
        "\n",
        "# 1. Se enetrenan varios árboles con diferentes subconjuntos del dataset original. Para ello se emplea bootstraping dentro de los datos del dataset inicial.\n",
        "\n",
        "\n",
        "Dado un dataset con las siguientes caracteristicas:\n",
        "\n",
        "\n",
        "|index|$y^{}$          |X1  |X2 |X3 |X4 |\n",
        "|-|----------|-----|-----|-----|-----|\n",
        "|1| |$y^{(1)}$ |$X_1^{1}$|$X_2^{1}$|$X_3^{1}$|$X_4^{1}$|\n",
        "|2||$y^{(2)}$ |$X_1^{2}$|$X_2^{2}$|$X_3^{2}$|$X_4^{2}$|\n",
        "|3||$y^{(3)}$ |$X_1^{3}$|$X_2^{3}$|$X_3^{3}$|$X_4^{3}$|\n",
        "|4||$y^{(4)}$ |$X_1^{4}$|$X_2^{4}$|$X_3^{4}$|$X_4^{4}$|\n",
        "\n",
        "\n",
        "Podemos definir como un hyperparametro el número de arboles, y también los datos que ingresan a cada árbol, para ello emplearemos la tecnica de [bootstraping](https://en.wikipedia.org/wiki/Bootstrapping_(statistics).\n",
        "\n",
        "\n",
        "El botstrapping es una técnica de muestreo con reposición que se realiza para cada árbol, asi si se tienen 10 árboles, el muestre con reposicion  para los indices puede ser como sigue:\n",
        "```\n",
        "\n",
        "In: np.random.randint(0, 4, (10,4))\n",
        "\n",
        "  \n",
        "Out: array([[1, 0, 3, 3],\n",
        "       [2, 1, 2, 0],\n",
        "       [2, 3, 3, 3],\n",
        "       [0, 2, 2, 3],\n",
        "       [2, 0, 3, 3],\n",
        "       [1, 1, 2, 0],\n",
        "       [2, 2, 1, 2],\n",
        "       [3, 0, 1, 0],\n",
        "       [3, 1, 0, 2],\n",
        "       [2, 0, 2, 0]])\n",
        "\n",
        "```\n",
        "\n",
        "Lo anterior quiere decir que el conjunto de datos del árbol 1, puede ser entrenado con las  X1, X2, X3, X4 con los datos de entrenamiento 2, 1, 2, 0\n",
        "\n",
        "\n",
        "Cada fila del anterior array es usado como input para entrenar cada arbol, notese que los valores se puden repetir para entrenar el árbol i-esimo. \n",
        "\n",
        "\n",
        "- Para cada nodo de todos los arboles se selecciona un número aleatorio de características, hasta cosntruir el árbol completo. \n",
        "\n",
        "\n",
        "Al final se tendran un conjunto de arboles de desición sobre los cuales se aplicará agregación, es decir, cuando se pasa un nuevo dato de entrenamiento los arboles realizan la clasificación y se toma el valor elegido por la mayoria de los arboles\n",
        "\n",
        "\n",
        "\n",
        "bagging = Agregation + bootstraping\n",
        "\n",
        "\n",
        "Random forest permite seleccionar las caracteristicas más importantes\n",
        "\n",
        "\n",
        "La estategia para optimizar los bosques pueden ser elegidos como sigue:\n",
        "\n",
        "Fijar el numero de caracteristicas y el criterio de parada.\n",
        "\n",
        "1. Determinar el error como función del número de árboles.\n",
        "\n",
        "2. Definido el número de árboles y calculamos el error como función del numero de caracteristicas.\n",
        "\n",
        "3. Con el numero de arboles fijo y el numero de caracteristicas, se optmiza el criterio de parada, (numero minimo de datos de una hoja)\n",
        "\n",
        "\n",
        "\n",
        "\n",
        "REF: https://www.youtube.com/watch?v=3pa0vtW64Ic&ab_channel=CodificandoBits\n",
        "https://en.wikipedia.org/wiki/Bootstrap_aggregating\n",
        "\n",
        "ref: http://www.cs.cmu.edu/~qyj/papersA08/11-rfbook.pdf\n",
        "\n",
        "ref : https://github.com/ageron/handson-ml2/blob/master/07_ensemble_learning_and_random_forests.ipynb\n"
      ],
      "metadata": {
        "id": "TxlxnKraVjvs"
      }
    },
    {
      "cell_type": "code",
      "source": [
        "#https://github.com/ageron/handson-ml2/blob/master/07_ensemble_learning_and_random_forests.ipynb"
      ],
      "metadata": {
        "id": "TulFKeFCasTw"
      },
      "execution_count": null,
      "outputs": []
    },
    {
      "cell_type": "code",
      "source": [
        "from sklearn.ensemble import RandomForestClassifier\n",
        "from sklearn.datasets import make_classification\n",
        "X, y = make_classification(n_samples=1000, n_features=4,\n",
        "                           n_informative=2, n_redundant=0,\n",
        "                           random_state=0, shuffle=False)\n",
        "\n",
        "clf = RandomForestClassifier(max_depth=2, random_state=0)\n",
        "clf.fit(X, y)\n",
        "\n",
        "print(clf.predict([[0, 0, 0, 0]]))"
      ],
      "metadata": {
        "colab": {
          "base_uri": "https://localhost:8080/"
        },
        "id": "UubhLIEPK2Ai",
        "outputId": "c3d21490-bb0f-4508-ccc7-f6faeaee43f9"
      },
      "execution_count": 1,
      "outputs": [
        {
          "output_type": "stream",
          "name": "stdout",
          "text": [
            "[1]\n"
          ]
        }
      ]
    },
    {
      "cell_type": "markdown",
      "source": [
        "Laboratorio: \n",
        "\n",
        "1. Cargar load digitis\n",
        "```\n",
        "from sklearn.datasets import load_digits\n",
        "digits = load_digits()\n",
        "print(digits.data.shape)\n",
        "\n",
        "import matplotlib.pyplot as plt\n",
        "plt.gray()\n",
        "plt.matshow(digits.images[95])\n",
        "plt.show()\n",
        "```\n",
        "\n",
        "2, Aplicar random foreset usando sklearn"
      ],
      "metadata": {
        "id": "0Zsn07tdLAAP"
      }
    },
    {
      "cell_type": "code",
      "source": [
        "from sklearn.datasets import load_digits\n",
        "digits = load_digits()\n",
        "print(digits.data.shape)\n",
        "\n",
        "import matplotlib.pyplot as plt\n",
        "plt.gray()\n",
        "plt.matshow(digits.images[95])\n",
        "plt.show()"
      ],
      "metadata": {
        "colab": {
          "base_uri": "https://localhost:8080/",
          "height": 310
        },
        "id": "LYyKiC_QGHry",
        "outputId": "33a237d4-85ac-4a92-bce3-eaa8e6c35765"
      },
      "execution_count": null,
      "outputs": [
        {
          "output_type": "stream",
          "name": "stdout",
          "text": [
            "(1797, 64)\n"
          ]
        },
        {
          "output_type": "display_data",
          "data": {
            "text/plain": [
              "<Figure size 432x288 with 0 Axes>"
            ]
          },
          "metadata": {}
        },
        {
          "output_type": "display_data",
          "data": {
            "text/plain": [
              "<Figure size 288x288 with 1 Axes>"
            ],
            "image/png": "[encoded data removed]"
          },
          "metadata": {
            "needs_background": "light"
          }
        }
      ]
    },
    {
      "cell_type": "code",
      "source": [
        "# #write code in python  for mnist dataset  using random forset\n",
        "# # GPT 3 Code\n",
        "# #Solution 2 \n",
        "# import numpy as np \n",
        "# from sklearn.datasets import fetch_openml \n",
        "# mnist = fetch_openml('mnist_784') \n",
        "# x, y = mnist[\"data\"], mnist[\"target\"]\n",
        "# import numpy as np \n",
        "# from sklearn.datasets import fetch_openml \n",
        "# mnist = fetch_openml('mnist_784') \n",
        "# x, y = mnist[\"data\"], mnist[\"target\"]\n",
        "\n",
        "\n",
        "# def train_test_split(x, y, test_ratio): \n",
        "#     shuffled_indices = np.random.permutation(len(x)) \n",
        "#     test_set_size = int(len(x) * test_ratio) \n",
        "#     test_indices = shuffled_indices[:test_set_size] \n",
        "#     train_indices = shuffled_indices[test_set_size:] \n",
        "#     return x[train_indices], y[train_indices], x[test_indices], y[test_indices]\n",
        "\n",
        "# train_set, train_labels, test_set, test_labels = train_test_split(x, y, test_ratio=0.2, random_state=42)\n",
        "\n",
        "\n",
        "\n",
        "# from sklearn.ensemble import RandomForestClassifier \n",
        "# forest_clf = RandomForestClassifier(random_state=42) \n",
        "# forest_clf.fit(train_set, train_labels) \n",
        "# forest_clf.predict([some_digit]) \n",
        "# forest_clf.predict_proba([some_digit])\n",
        "\n",
        "# from sklearn.model_selection import cross_val_score \n",
        "# cross_val_score(forest_clf, train_set, train_labels, cv=3, scoring=\"accuracy\")\n",
        "\n",
        "\n",
        "# from sklearn.neighbors import KNeighborsClassifier \n",
        "# knn_clf = KNeighborsClassifier() \n",
        "# knn_clf.fit(train_set, train_labels) \n",
        "# knn_clf.predict([some_digit]) \n",
        "# knn_clf.score(test_set, test_labels)\n",
        "\n",
        "# cross_val_score(knn_clf, train_set, train_labels, cv=3, scoring=\"accuracy\")\n",
        "\n",
        "\n",
        "# from sklearn.model_selection import GridSearchCV \n",
        "\n",
        "# param_grid = [ \n",
        "#     {'n_estimators': [3, 10, 30], 'max_features': [2, 4, 6, 8]}, \n",
        "#     {'bootstrap': [False], 'n_estimators': [3, 10], 'max_features': [2, 3, 4]}, \n",
        "#  ]\n",
        "# forest_clf = RandomForestClassifier() \n",
        "# grid_search = GridSearchCV(forest_clf, param_grid, cv=5, \n",
        "#                            scoring='neg_mean_squared_error', return_train_score=True) \n",
        "# grid_search.fit(train_set, train_labels)\n",
        "\n",
        "\n",
        "# np.sqrt(-grid_search.best_score_)\n",
        "\n",
        "\n",
        "# grid_search.best_params_\n",
        "\n",
        "# feature_importances = grid_search.best_estimator_.feature_importances_ \n",
        "# feature_importances\n",
        "# extra_attribs = [\"rooms_per_hold\", \"pop_per_hhold\", \"bedrooms_per_room\"] \n",
        "# cat_encoder = full_pipeline.named_transformers_[\"cat\"] \n",
        "# cat_one_hot_attribs = list(cat_encoder.categories[0]) \n",
        "# attributes = num_attribs + extra_attribs + cat_one_hot_attribs \n",
        "# np.argsort(feature)\n",
        "# sorted(zip(feature_importances, attributes), reverse=True)"
      ],
      "metadata": {
        "id": "1igQ2x4VoGNI",
        "colab": {
          "base_uri": "https://localhost:8080/",
          "height": 235
        },
        "outputId": "68d3aca4-fd73-4ad7-e8ac-fea011a3812b"
      },
      "execution_count": null,
      "outputs": [
        {
          "output_type": "error",
          "ename": "TypeError",
          "evalue": "ignored",
          "traceback": [
            "\u001b[0;31m---------------------------------------------------------------------------\u001b[0m",
            "\u001b[0;31mTypeError\u001b[0m                                 Traceback (most recent call last)",
            "\u001b[0;32m<ipython-input-4-f946886f4ed2>\u001b[0m in \u001b[0;36m<module>\u001b[0;34m\u001b[0m\n\u001b[1;32m     15\u001b[0m \u001b[0;34m\u001b[0m\u001b[0m\n\u001b[1;32m     16\u001b[0m train_set, train_labels, test_set, test_labels = train_test_split( \n\u001b[0;32m---> 17\u001b[0;31m                  x, y, test_ratio=0.2, random_state=42)\n\u001b[0m\u001b[1;32m     18\u001b[0m \u001b[0;34m\u001b[0m\u001b[0m\n\u001b[1;32m     19\u001b[0m \u001b[0;34m\u001b[0m\u001b[0m\n",
            "\u001b[0;31mTypeError\u001b[0m: train_test_split() got an unexpected keyword argument 'random_state'"
          ]
        }
      ]
    }
  ]
}