{
 "cells": [
  {
   "cell_type": "code",
   "execution_count": 14,
   "metadata": {
    "id": "4BQdV20liqNG"
   },
   "outputs": [],
   "source": [
    "import sklearn\n",
    "import numpy as np\n",
    "import pandas as pd\n",
    "import matplotlib.pylab as plt\n",
    "import seaborn as sns\n",
    "from scipy import stats\n",
    "from scipy import optimize\n",
    "from scipy.stats import norm"
   ]
  },
  {
   "cell_type": "code",
   "execution_count": 15,
   "metadata": {
    "id": "x7m9zOK1iyUj"
   },
   "outputs": [],
   "source": [
    "def pdf(x, **kywars):\n",
    "  \"\"\"\n",
    "  Generar N distribuciones y su grafica \n",
    "  segubn el diccionario con valores asociados a su media \n",
    "  y desviacion estandar.\n",
    "  \"\"\"\n",
    "  color = [\"g\",\"b\",\"m\",\"r\",\"y\"]\n",
    "  f = {}\n",
    "  # Generacion de N distribuciones estadisticas\n",
    "  for key in kywars:\n",
    "    fi = stats.norm(loc = kywars[key][0], scale = kywars[key][1])\n",
    "    f[key] = fi\n",
    "\n",
    "  # Grafica de las distribuciones estadisticas\n",
    "  fig, ax = plt.subplots(1, 1)  \n",
    "  for i, key in enumerate(f):\n",
    "    ax.plot(x, f[key].pdf(x),f'{color[i]}-', lw = 3, alpha = 0.6, label=f'pdf {i}')    \n",
    "  ax.set_xlabel(\"x\")\n",
    "  ax.set_ylabel(\"PDF(X)\")\n",
    "  return \"Done\", f"
   ]
  },
  {
   "cell_type": "code",
   "execution_count": 16,
   "metadata": {
    "colab": {
     "base_uri": "https://localhost:8080/",
     "height": 297
    },
    "id": "AfX3P1SHizfq",
    "outputId": "552ce120-f6aa-4ce2-f059-02a5a0ec0779"
   },
   "outputs": [
    {
     "data": {
      "text/plain": [
       "<matplotlib.legend.Legend at 0x7fa3e647ff60>"
      ]
     },
     "execution_count": 16,
     "metadata": {},
     "output_type": "execute_result"
    },
    {
     "data": {
      "image/png": "[encoded data removed]",
      "text/plain": [
       "<Figure size 432x288 with 1 Axes>"
      ]
     },
     "metadata": {
      "needs_background": "light"
     },
     "output_type": "display_data"
    }
   ],
   "source": [
    "params = {\"ms1\":[12,2], \"ms2\":[16,3], \"ms3\":[18,1]}\n",
    "x=np.linspace(0, 30,100)\n",
    "_, f = pdf(x,**params)\n",
    "plt.legend()"
   ]
  },
  {
   "cell_type": "markdown",
   "metadata": {
    "id": "t2QW2P5gjFCs"
   },
   "source": [
    "Supongamos tres distribuciones estadisticas asociadas a tres diferentes tipos de datos. Supongamos que las tres muestras estan asociadas a longitudes de las aletas de tres diferentes tipos de peces marinos.\n",
    "\n",
    "- La verde son animales tipo 1.\n",
    "\n",
    "- La azul son animales tipo 2.\n",
    "\n",
    "- La purpura son animales tipo 3.\n",
    "\n",
    "\n",
    "\n",
    "\n",
    "\n",
    "\n",
    "\n"
   ]
  },
  {
   "cell_type": "code",
   "execution_count": 17,
   "metadata": {
    "id": "_s7yBFm-Mz1F"
   },
   "outputs": [],
   "source": [
    "d1=f[\"ms1\"].rvs(20)\n",
    "d2=f[\"ms2\"].rvs(20)\n",
    "d3=f[\"ms3\"].rvs(20)\n"
   ]
  },
  {
   "cell_type": "code",
   "execution_count": 18,
   "metadata": {
    "colab": {
     "base_uri": "https://localhost:8080/",
     "height": 269
    },
    "id": "RkCJSSoxMz33",
    "outputId": "bfe84de7-17c2-4fb4-9a11-34cd83717638"
   },
   "outputs": [
    {
     "data": {
      "image/png": "[encoded data removed]",
      "text/plain": [
       "<Figure size 432x288 with 1 Axes>"
      ]
     },
     "metadata": {
      "needs_background": "light"
     },
     "output_type": "display_data"
    }
   ],
   "source": [
    "boundary = 12\n",
    "plt.figure()\n",
    "plt.hist(d1, density=True, label=\"pdf1\")\n",
    "plt.hist(d2, density=True, label=\"pdf2\")\n",
    "plt.hist(d3, density=True, label=\"pdf3\")\n",
    "plt.ylim(0,0.45)\n",
    "plt.legend()\n",
    "plt.show()"
   ]
  },
  {
   "cell_type": "markdown",
   "metadata": {
    "id": "SKfnxHKUNvuU"
   },
   "source": [
    "Poblacion: Coleccion de objetos o individuos\n",
    "Muestra: Grupo optenido aleatoriamente\n",
    "\n",
    "- Muestreo con reemplazo. \n",
    "- Muestreo sin remplazo \n",
    "- Muestreo aleatorio\n",
    "- Muestreo estratificado:\n",
    "- Muestreo sesgado: No representa la poblacion\n",
    "\n",
    "\n",
    "0. Muestas representativa de las poblaciones \n",
    "1. Se puede tener, muestas sesgadas y no representativas de la población.\n",
    "\n",
    "\n",
    "¿Como infererir las medias de las muestra con los datos que se estan obsevando?\n",
    "\n",
    "  - Intervalor de confianzas\n",
    "  - Pruebas de hipotesis\n",
    "\n",
    "\n"
   ]
  },
  {
   "cell_type": "markdown",
   "metadata": {
    "id": "kf1kBPybO7Zn"
   },
   "source": [
    "Bootstrapping: \n",
    "\n",
    "Remuestreo de los datos para obtener una muestra del estadistico que se calcula\n",
    "(media)\n",
    "\n",
    "\n",
    "- Dada una muestra $x=x_1,x_2,x_3, x_4, x_5$, se seleccionan N muuestas aleatorias con reposicion\n",
    "\n",
    "  - $x'_1=x_1,x_1,x_2, x_1, x_5$\n",
    "  - $x'_2=x_2,x_6,x_2, x_1, x_5$\n",
    "  - $x'_3=x_5,x_1,x_5, x_1, x_5$\n",
    "  - $x'_4=x_2,x_3,x_1, x_1, x_5$\n",
    "  - .\n",
    "  - .\n",
    "  - .\n",
    "- Para cada bootstrap se calcula el estadistico de interes(la media, mediana ...)\n",
    "  - $\\theta_1$, $\\theta_2$, $\\theta_3$... $\\theta_n$\n",
    "\n",
    "- $\\langle \\theta\\rangle$ es la mejor aproximacion a la media de la poblacion con su desviacion estandar asociada.\n"
   ]
  },
  {
   "cell_type": "code",
   "execution_count": 19,
   "metadata": {
    "id": "AOE-_azxMz6o"
   },
   "outputs": [],
   "source": [
    "# ! write a bootstraping python code for the next array [1,5,10,5,7,5,1,7,6] \n",
    "# GPT 3 code,  \n",
    "# https://beta.openai.com/playground/p/default-friend-chat?model=text-davinci-001\n",
    "\n",
    "import numpy as np \n",
    "def bootstrap(data, n): \n",
    "  bootstrap_sample = np.random.choice(data, size=n) \n",
    "  return bootstrap_sample"
   ]
  },
  {
   "cell_type": "code",
   "execution_count": 20,
   "metadata": {
    "id": "CE7IGyuQQQrB"
   },
   "outputs": [],
   "source": [
    "def mean_stimador(d):\n",
    "  m=[]\n",
    "  s=[]\n",
    "  for i in range(0,100):\n",
    "    data = bootstrap(d, len(d))\n",
    "    m.append(np.mean(data))\n",
    "    s.append(np.std(data))  \n",
    "  return m, s"
   ]
  },
  {
   "cell_type": "code",
   "execution_count": 21,
   "metadata": {
    "colab": {
     "base_uri": "https://localhost:8080/",
     "height": 354
    },
    "id": "BrJaCZ4Kgnsn",
    "outputId": "8353b785-8a90-4206-cc40-b11c4cc706eb"
   },
   "outputs": [
    {
     "data": {
      "text/plain": [
       "(array([1., 0., 1., 1., 2., 3., 1., 3., 5., 3.]),\n",
       " array([15.0860109 , 15.50393367, 15.92185644, 16.33977921, 16.75770198,\n",
       "        17.17562475, 17.59354752, 18.01147029, 18.42939307, 18.84731584,\n",
       "        19.26523861]),\n",
       " <BarContainer object of 10 artists>)"
      ]
     },
     "execution_count": 21,
     "metadata": {},
     "output_type": "execute_result"
    },
    {
     "data": {
      "image/png": "[encoded data removed]",
      "text/plain": [
       "<Figure size 432x288 with 1 Axes>"
      ]
     },
     "metadata": {
      "needs_background": "light"
     },
     "output_type": "display_data"
    }
   ],
   "source": [
    "plt.hist(d1)\n",
    "plt.hist(d2)\n",
    "plt.hist(d3)\n"
   ]
  },
  {
   "cell_type": "code",
   "execution_count": 22,
   "metadata": {
    "colab": {
     "base_uri": "https://localhost:8080/"
    },
    "id": "ZAD_bYg_QOSe",
    "outputId": "3928241e-2123-4da0-d7ca-16d948451c69"
   },
   "outputs": [
    {
     "name": "stdout",
     "output_type": "stream",
     "text": [
      "11.902064041903461\n",
      "1.954442669700996\n"
     ]
    }
   ],
   "source": [
    "m_d1, s_d1 = mean_stimador(d1)\n",
    "print(np.mean(m_d1))\n",
    "print(np.mean(s_d1))"
   ]
  },
  {
   "cell_type": "code",
   "execution_count": 23,
   "metadata": {
    "colab": {
     "base_uri": "https://localhost:8080/"
    },
    "id": "kU0TRhLVSGbs",
    "outputId": "2a9d761c-9e5f-48ee-ef3c-9c7698b06878"
   },
   "outputs": [
    {
     "name": "stdout",
     "output_type": "stream",
     "text": [
      "16.762301617322787\n",
      "2.883039527327603\n"
     ]
    }
   ],
   "source": [
    "m_d2, s_d2 = mean_stimador(d2)\n",
    "print(np.mean(m_d2))\n",
    "print(np.mean(s_d2))"
   ]
  },
  {
   "cell_type": "code",
   "execution_count": 24,
   "metadata": {
    "colab": {
     "base_uri": "https://localhost:8080/"
    },
    "id": "N1JX7am4SHeV",
    "outputId": "eca9bb90-e2ab-4a87-c54d-af7f10ed6f22"
   },
   "outputs": [
    {
     "name": "stdout",
     "output_type": "stream",
     "text": [
      "17.80780136924521\n",
      "1.046584319694557\n"
     ]
    }
   ],
   "source": [
    "m_d3, s_d3 = mean_stimador(d3)\n",
    "print(np.mean(m_d3))\n",
    "print(np.mean(s_d3))"
   ]
  },
  {
   "cell_type": "markdown",
   "metadata": {
    "id": "C4OwekJIc3Uf"
   },
   "source": [
    "[Teorema del limite central](https://es.wikipedia.org/wiki/Teorema_del_l%C3%ADmite_central)"
   ]
  },
  {
   "cell_type": "code",
   "execution_count": 25,
   "metadata": {
    "id": "aG-1YPpFcHXj"
   },
   "outputs": [],
   "source": [
    "mlc = []\n",
    "for i in range(0,1000):\n",
    "  mlc.append(np.mean(f[\"ms1\"].rvs(100)))  "
   ]
  },
  {
   "cell_type": "code",
   "execution_count": 26,
   "metadata": {
    "colab": {
     "base_uri": "https://localhost:8080/",
     "height": 369
    },
    "id": "-HShMFzEcx1m",
    "outputId": "f9d0f461-1226-4508-f7ea-0fe98eb1d5c1"
   },
   "outputs": [
    {
     "ename": "NameError",
     "evalue": "name 'm' is not defined",
     "output_type": "error",
     "traceback": [
      "\u001b[0;31m---------------------------------------------------------------------------\u001b[0m",
      "\u001b[0;31mNameError\u001b[0m                                 Traceback (most recent call last)",
      "\u001b[0;32m/tmp/ipykernel_8010/1224220094.py\u001b[0m in \u001b[0;36m<module>\u001b[0;34m\u001b[0m\n\u001b[1;32m      1\u001b[0m \u001b[0mplt\u001b[0m\u001b[0;34m.\u001b[0m\u001b[0mhist\u001b[0m\u001b[0;34m(\u001b[0m\u001b[0mmlc\u001b[0m\u001b[0;34m,\u001b[0m \u001b[0mdensity\u001b[0m\u001b[0;34m=\u001b[0m\u001b[0;32mTrue\u001b[0m\u001b[0;34m)\u001b[0m \u001b[0;31m# Media de diferentes distribuciones de los datos originales\u001b[0m\u001b[0;34m\u001b[0m\u001b[0;34m\u001b[0m\u001b[0m\n\u001b[0;32m----> 2\u001b[0;31m \u001b[0mplt\u001b[0m\u001b[0;34m.\u001b[0m\u001b[0mhist\u001b[0m\u001b[0;34m(\u001b[0m\u001b[0mm\u001b[0m\u001b[0;34m,\u001b[0m\u001b[0mdensity\u001b[0m\u001b[0;34m=\u001b[0m\u001b[0;32mTrue\u001b[0m\u001b[0;34m,\u001b[0m \u001b[0malpha\u001b[0m\u001b[0;34m=\u001b[0m\u001b[0;36m0.2\u001b[0m\u001b[0;34m)\u001b[0m   \u001b[0;31m# Media de la distribuciones empleando bottstraping\u001b[0m\u001b[0;34m\u001b[0m\u001b[0;34m\u001b[0m\u001b[0m\n\u001b[0m",
      "\u001b[0;31mNameError\u001b[0m: name 'm' is not defined"
     ]
    },
    {
     "data": {
      "image/png": "[encoded data removed]",
      "text/plain": [
       "<Figure size 432x288 with 1 Axes>"
      ]
     },
     "metadata": {
      "needs_background": "light"
     },
     "output_type": "display_data"
    }
   ],
   "source": [
    "plt.hist(mlc, density=True) # Media de diferentes distribuciones de los datos originales\n",
    "plt.hist(m,density=True, alpha=0.2)   # Media de la distribuciones empleando bottstraping\n"
   ]
  },
  {
   "cell_type": "code",
   "execution_count": null,
   "metadata": {
    "id": "uQbWdFkXcy5U"
   },
   "outputs": [],
   "source": [
    "plt.hist?"
   ]
  },
  {
   "cell_type": "code",
   "execution_count": null,
   "metadata": {
    "id": "JX9_tNYDeU7E"
   },
   "outputs": [],
   "source": []
  }
 ],
 "metadata": {
  "colab": {
   "name": "Bootstraping.ipynb",
   "provenance": []
  },
  "kernelspec": {
   "display_name": "Python 3 (ipykernel)",
   "language": "python",
   "name": "python3"
  },
  "language_info": {
   "codemirror_mode": {
    "name": "ipython",
    "version": 3
   },
   "file_extension": ".py",
   "mimetype": "text/x-python",
   "name": "python",
   "nbconvert_exporter": "python",
   "pygments_lexer": "ipython3",
   "version": "3.7.3"
  }
 },
 "nbformat": 4,
 "nbformat_minor": 1
}
