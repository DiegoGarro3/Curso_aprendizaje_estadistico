{
  "nbformat": 4,
  "nbformat_minor": 0,
  "metadata": {
    "colab": {
      "name": "Bootstraping.ipynb",
      "provenance": []
    },
    "kernelspec": {
      "name": "python3",
      "display_name": "Python 3"
    },
    "language_info": {
      "name": "python"
    }
  },
  "cells": [
    {
      "cell_type": "code",
      "execution_count": 3,
      "metadata": {
        "id": "4BQdV20liqNG"
      },
      "outputs": [],
      "source": [
        "import sklearn\n",
        "import numpy as np\n",
        "import pandas as pd\n",
        "import matplotlib.pylab as plt\n",
        "import seaborn as sns\n",
        "from scipy import stats\n",
        "from scipy import optimize\n",
        "from scipy.stats import norm"
      ]
    },
    {
      "cell_type": "code",
      "source": [
        "def pdf(x, **kywars):\n",
        "  \"\"\"\n",
        "  Generar N distribuciones y su grafica \n",
        "  segubn el diccionario con valores asociados a su media \n",
        "  y desviacion estandar.\n",
        "  \"\"\"\n",
        "  color = [\"g\",\"b\",\"m\",\"r\",\"y\"]\n",
        "  f = {}\n",
        "  # Generacion de N distribuciones estadisticas\n",
        "  for key in kywars:\n",
        "    fi = stats.norm(loc = kywars[key][0], scale = kywars[key][1])\n",
        "    f[key] = fi\n",
        "\n",
        "  # Grafica de las distribuciones estadisticas\n",
        "  fig, ax = plt.subplots(1, 1)  \n",
        "  for i, key in enumerate(f):\n",
        "    ax.plot(x, f[key].pdf(x),f'{color[i]}-', lw = 3, alpha = 0.6, label=f'pdf {i}')    \n",
        "  ax.set_xlabel(\"x\")\n",
        "  ax.set_ylabel(\"PDF(X)\")\n",
        "  return \"Done\", f"
      ],
      "metadata": {
        "id": "x7m9zOK1iyUj"
      },
      "execution_count": 4,
      "outputs": []
    },
    {
      "cell_type": "code",
      "source": [
        "params = {\"ms1\":[12,2], \"ms2\":[16,3], \"ms3\":[18,1]}\n",
        "x=np.linspace(0, 30,100)\n",
        "_, f = pdf(x,**params)\n",
        "plt.legend()"
      ],
      "metadata": {
        "colab": {
          "base_uri": "https://localhost:8080/",
          "height": 297
        },
        "id": "AfX3P1SHizfq",
        "outputId": "552ce120-f6aa-4ce2-f059-02a5a0ec0779"
      },
      "execution_count": 5,
      "outputs": [
        {
          "output_type": "execute_result",
          "data": {
            "text/plain": [
              "<matplotlib.legend.Legend at 0x7f43b002b890>"
            ]
          },
          "metadata": {},
          "execution_count": 5
        },
        {
          "output_type": "display_data",
          "data": {
            "text/plain": [
              "<Figure size 432x288 with 1 Axes>"
            ],
            "image/png": "[encoded data removed]"
          },
          "metadata": {
            "needs_background": "light"
          }
        }
      ]
    },
    {
      "cell_type": "markdown",
      "source": [
        "Supongamos tres distribuciones estadisticas asociadas a tres diferentes tipos de datos. Supongamos que las tres muestras estan asociadas a longitudes de las aletas de tres diferentes tipos de peces marinos.\n",
        "\n",
        "- La verde son animales tipo 1.\n",
        "\n",
        "- La azul son animales tipo 2.\n",
        "\n",
        "- La purpura son animales tipo 3.\n",
        "\n",
        "\n",
        "\n",
        "\n",
        "\n",
        "\n",
        "\n"
      ],
      "metadata": {
        "id": "t2QW2P5gjFCs"
      }
    },
    {
      "cell_type": "code",
      "source": [
        "d1=f[\"ms1\"].rvs(20)\n",
        "d2=f[\"ms2\"].rvs(20)\n",
        "d3=f[\"ms3\"].rvs(20)\n"
      ],
      "metadata": {
        "id": "_s7yBFm-Mz1F"
      },
      "execution_count": 7,
      "outputs": []
    },
    {
      "cell_type": "code",
      "source": [
        "boundary = 12\n",
        "plt.figure()\n",
        "plt.hist(d1, density=True, label=\"pdf1\")\n",
        "plt.hist(d2, density=True, label=\"pdf2\")\n",
        "plt.hist(d3, density=True, label=\"pdf3\")\n",
        "plt.ylim(0,0.45)\n",
        "plt.legend()\n",
        "plt.show()"
      ],
      "metadata": {
        "colab": {
          "base_uri": "https://localhost:8080/",
          "height": 269
        },
        "id": "RkCJSSoxMz33",
        "outputId": "bfe84de7-17c2-4fb4-9a11-34cd83717638"
      },
      "execution_count": 8,
      "outputs": [
        {
          "output_type": "display_data",
          "data": {
            "text/plain": [
              "<Figure size 432x288 with 1 Axes>"
            ],
            "image/png": "[encoded data removed]"
          },
          "metadata": {
            "needs_background": "light"
          }
        }
      ]
    },
    {
      "cell_type": "markdown",
      "source": [
        "Poblacion: Coleccion de objetos o individuos\n",
        "Muestra: Grupo optenido aleatoriamente\n",
        "\n",
        "- Muestreo con reemplazo. \n",
        "- Muestreo sin remplazo \n",
        "- Muestreo aleatorio\n",
        "- Muestreo estratificado:\n",
        "- Muestreo sesgado: No representa la poblacion\n",
        "\n",
        "\n",
        "0. Muestas representativa de las poblaciones \n",
        "1. Se puede tener, muestas sesgadas y no representativas de la población.\n",
        "\n",
        "\n",
        "¿Como infererir las medias de las muestra con los datos que se estan obsevando?\n",
        "\n",
        "  - Intervalor de confianzas\n",
        "  - Pruebas de hipotesis\n",
        "\n",
        "\n"
      ],
      "metadata": {
        "id": "SKfnxHKUNvuU"
      }
    },
    {
      "cell_type": "markdown",
      "source": [
        "Bootstrapping: \n",
        "\n",
        "Remuestreo de los datos para obtener una muestra del estadistico que se calcula\n",
        "(media)\n",
        "\n",
        "\n",
        "- Dada una muestra $x=x_1,x_2,x_3, x_4, x_5$, se seleccionan N muuestas aleatorias con reposicion\n",
        "\n",
        "  - $x'_1=x_1,x_1,x_2, x_1, x_5$\n",
        "  - $x'_2=x_2,x_6,x_2, x_1, x_5$\n",
        "  - $x'_3=x_5,x_1,x_5, x_1, x_5$\n",
        "  - $x'_4=x_2,x_3,x_1, x_1, x_5$\n",
        "  - .\n",
        "  - .\n",
        "  - .\n",
        "- Para cada bootstrap se calcula el estadistico de interes(la media, mediana ...)\n",
        "  - $\\theta_1$, $\\theta_2$, $\\theta_3$... $\\theta_n$\n",
        "\n",
        "- $\\langle \\theta\\rangle$ es la mejor aproximacion a la media de la poblacion con su desviacion estandar asociada.\n"
      ],
      "metadata": {
        "id": "kf1kBPybO7Zn"
      }
    },
    {
      "cell_type": "code",
      "source": [
        "# ! write a bootstraping python code for the next array [1,5,10,5,7,5,1,7,6] \n",
        "# GPT 3 code,  \n",
        "# https://beta.openai.com/playground/p/default-friend-chat?model=text-davinci-001\n",
        "\n",
        "import numpy as np \n",
        "def bootstrap(data, n): \n",
        "  bootstrap_sample = np.random.choice(data, size=n) \n",
        "  return bootstrap_sample"
      ],
      "metadata": {
        "id": "AOE-_azxMz6o"
      },
      "execution_count": 11,
      "outputs": []
    },
    {
      "cell_type": "code",
      "source": [
        "def mean_stimador(d):\n",
        "  m=[]\n",
        "  s=[]\n",
        "  for i in range(0,100):\n",
        "    data = bootstrap(d, len(d))\n",
        "    m.append(np.mean(data))\n",
        "    s.append(np.std(data))  \n",
        "  return m, s"
      ],
      "metadata": {
        "id": "CE7IGyuQQQrB"
      },
      "execution_count": 13,
      "outputs": []
    },
    {
      "cell_type": "code",
      "source": [
        "plt.hist(d1)\n",
        "plt.hist(d2)\n",
        "plt.hist(d3)\n"
      ],
      "metadata": {
        "colab": {
          "base_uri": "https://localhost:8080/",
          "height": 354
        },
        "id": "BrJaCZ4Kgnsn",
        "outputId": "8353b785-8a90-4206-cc40-b11c4cc706eb"
      },
      "execution_count": 16,
      "outputs": [
        {
          "output_type": "execute_result",
          "data": {
            "text/plain": [
              "(array([1., 1., 1., 2., 1., 5., 3., 2., 2., 2.]),\n",
              " array([16.40873814, 16.68253145, 16.95632477, 17.23011808, 17.5039114 ,\n",
              "        17.77770471, 18.05149803, 18.32529134, 18.59908466, 18.87287797,\n",
              "        19.14667129]),\n",
              " <a list of 10 Patch objects>)"
            ]
          },
          "metadata": {},
          "execution_count": 16
        },
        {
          "output_type": "display_data",
          "data": {
            "text/plain": [
              "<Figure size 432x288 with 1 Axes>"
            ],
            "image/png": "[encoded data removed]"
          },
          "metadata": {
            "needs_background": "light"
          }
        }
      ]
    },
    {
      "cell_type": "code",
      "source": [
        "m_d1, s_d1 = mean_stimador(d1)\n",
        "print(np.mean(m_d1))\n",
        "print(np.mean(s_d1))"
      ],
      "metadata": {
        "colab": {
          "base_uri": "https://localhost:8080/"
        },
        "id": "ZAD_bYg_QOSe",
        "outputId": "3928241e-2123-4da0-d7ca-16d948451c69"
      },
      "execution_count": 18,
      "outputs": [
        {
          "output_type": "stream",
          "name": "stdout",
          "text": [
            "12.436704779516544\n",
            "2.0997557250067427\n"
          ]
        }
      ]
    },
    {
      "cell_type": "code",
      "source": [
        "m_d2, s_d2 = mean_stimador(d2)\n",
        "print(np.mean(m_d2))\n",
        "print(np.mean(s_d2))"
      ],
      "metadata": {
        "colab": {
          "base_uri": "https://localhost:8080/"
        },
        "id": "kU0TRhLVSGbs",
        "outputId": "2a9d761c-9e5f-48ee-ef3c-9c7698b06878"
      },
      "execution_count": null,
      "outputs": [
        {
          "output_type": "stream",
          "name": "stdout",
          "text": [
            "16.744237340899154\n",
            "2.4212919266630824\n"
          ]
        }
      ]
    },
    {
      "cell_type": "code",
      "source": [
        "m_d3, s_d3 = mean_stimador(d3)\n",
        "print(np.mean(m_d3))\n",
        "print(np.mean(s_d3))"
      ],
      "metadata": {
        "colab": {
          "base_uri": "https://localhost:8080/"
        },
        "id": "N1JX7am4SHeV",
        "outputId": "eca9bb90-e2ab-4a87-c54d-af7f10ed6f22"
      },
      "execution_count": null,
      "outputs": [
        {
          "output_type": "stream",
          "name": "stdout",
          "text": [
            "17.824145178647782\n",
            "0.9580359918996293\n"
          ]
        }
      ]
    },
    {
      "cell_type": "markdown",
      "source": [
        "[Teorema del limite central](https://es.wikipedia.org/wiki/Teorema_del_l%C3%ADmite_central)"
      ],
      "metadata": {
        "id": "C4OwekJIc3Uf"
      }
    },
    {
      "cell_type": "code",
      "source": [
        "mlc = []\n",
        "for i in range(0,1000):\n",
        "  mlc.append(np.mean(f[\"ms1\"].rvs(100)))  "
      ],
      "metadata": {
        "id": "aG-1YPpFcHXj"
      },
      "execution_count": null,
      "outputs": []
    },
    {
      "cell_type": "code",
      "source": [
        "plt.hist(mlc, density=True) # Media de diferentes distribuciones de los datos originales\n",
        "plt.hist(m,density=True, alpha=0.2)   # Media de la distribuciones empleando bottstraping\n"
      ],
      "metadata": {
        "colab": {
          "base_uri": "https://localhost:8080/",
          "height": 369
        },
        "id": "-HShMFzEcx1m",
        "outputId": "f9d0f461-1226-4508-f7ea-0fe98eb1d5c1"
      },
      "execution_count": null,
      "outputs": [
        {
          "output_type": "execute_result",
          "data": {
            "text/plain": [
              "(array([0.19001599, 0.09500799, 0.33252798, 0.80756794, 0.95007993,\n",
              "        1.09259192, 0.80756794, 0.33252798, 0.09500799, 0.047504  ]),\n",
              " array([10.64312356, 10.85363217, 11.06414077, 11.27464938, 11.48515798,\n",
              "        11.69566659, 11.90617519, 12.11668379, 12.3271924 , 12.537701  ,\n",
              "        12.74820961]),\n",
              " <a list of 10 Patch objects>)"
            ]
          },
          "metadata": {},
          "execution_count": 144
        },
        {
          "output_type": "display_data",
          "data": {
            "text/plain": [
              "<Figure size 432x288 with 1 Axes>"
            ],
            "image/png": "[encoded data removed]"
          },
          "metadata": {
            "needs_background": "light"
          }
        }
      ]
    },
    {
      "cell_type": "code",
      "source": [
        "plt.hist?"
      ],
      "metadata": {
        "id": "uQbWdFkXcy5U"
      },
      "execution_count": null,
      "outputs": []
    },
    {
      "cell_type": "code",
      "source": [],
      "metadata": {
        "id": "JX9_tNYDeU7E"
      },
      "execution_count": null,
      "outputs": []
    }
  ]
}