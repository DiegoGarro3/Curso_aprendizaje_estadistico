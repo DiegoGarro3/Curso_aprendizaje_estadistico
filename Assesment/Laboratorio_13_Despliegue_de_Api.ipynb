{
  "nbformat": 4,
  "nbformat_minor": 0,
  "metadata": {
    "colab": {
      "provenance": [],
      "collapsed_sections": []
    },
    "kernelspec": {
      "name": "python3",
      "display_name": "Python 3"
    },
    "language_info": {
      "name": "python"
    }
  },
  "cells": [
    {
      "cell_type": "code",
      "execution_count": null,
      "metadata": {
        "id": "jSBwG-afEUKg"
      },
      "outputs": [],
      "source": [
        "from sklearn.ensemble import RandomForestClassifier\n",
        "from sklearn.datasets import make_classification\n",
        "import matplotlib.pylab as plt\n",
        "from sklearn.datasets import make_blobs\n",
        "from sklearn.datasets import make_moons\n",
        "from sklearn.model_selection import train_test_split\n",
        "from sklearn.model_selection import GridSearchCV\n",
        "import pickle\n",
        "import joblib\n",
        "#Save model pickle\n",
        "#https://es.acervolima.com/guardar-un-modelo-de-aprendizaje-automatico/"
      ]
    },
    {
      "cell_type": "code",
      "source": [
        "X0, y0 = make_moons(n_samples=800, noise=0.15, shuffle=True,  random_state=1)\n",
        "X_train, X_test, y_train, y_test = train_test_split(X0, y0, test_size=0.33, random_state=42)\n",
        "\n",
        "plt.figure()\n",
        "plt.plot(X_train[:,0][y_train==0],X_train[:,1][y_train==0],\"ro\", alpha=0.5)\n",
        "plt.plot(X_train[:,0][y_train==1],X_train[:,1][y_train==1],\"bo\", alpha=0.5)\n",
        "plt.xlabel(\"$X_1$\")\n",
        "plt.ylabel(\"$X_2$\")\n",
        "plt.show()"
      ],
      "metadata": {
        "colab": {
          "base_uri": "https://localhost:8080/",
          "height": 283
        },
        "id": "m6AP-PhfE5OY",
        "outputId": "3d40b215-72a2-48d8-e64d-ee177961042e"
      },
      "execution_count": null,
      "outputs": [
        {
          "output_type": "display_data",
          "data": {
            "text/plain": [
              "<Figure size 432x288 with 1 Axes>"
            ],
            "image/png": "[encoded data removed]"
          },
          "metadata": {
            "needs_background": "light"
          }
        }
      ]
    },
    {
      "cell_type": "code",
      "source": [
        "# params={\"max_depth\":[2,4,6,8],\"n_estimators\":[50,100,200]}\n",
        "# clf = GridSearchCV(estimator=RandomForestClassifier(),param_grid=params)\n",
        "# clf.fit(X_train,y_train)\n",
        "# clf.best_estimator_\n",
        "clf = RandomForestClassifier(max_depth=8, n_estimators=200, min_samples_leaf=4)\n",
        "model_rf = clf.fit(X_train,y_train)\n"
      ],
      "metadata": {
        "id": "AwaalY6qPKJb"
      },
      "execution_count": null,
      "outputs": []
    },
    {
      "cell_type": "code",
      "source": [
        "model_rf.score(X_train,y_train)\n",
        "model_rf.score(X_test,y_test)"
      ],
      "metadata": {
        "colab": {
          "base_uri": "https://localhost:8080/"
        },
        "id": "gYzMuJKBPbf7",
        "outputId": "47f27ce4-656e-4832-82de-ca23ad552456"
      },
      "execution_count": null,
      "outputs": [
        {
          "output_type": "execute_result",
          "data": {
            "text/plain": [
              "0.9810606060606061"
            ]
          },
          "metadata": {},
          "execution_count": 171
        }
      ]
    },
    {
      "cell_type": "code",
      "source": [
        "#save the model\n",
        "joblib.dump(model_rf,\"model_rf.pkl\")"
      ],
      "metadata": {
        "colab": {
          "base_uri": "https://localhost:8080/"
        },
        "id": "BU4xZ1ovb03S",
        "outputId": "1f108d69-4b29-4e3a-9ec7-93bda0b706c1"
      },
      "execution_count": null,
      "outputs": [
        {
          "output_type": "execute_result",
          "data": {
            "text/plain": [
              "['model_rf.pkl']"
            ]
          },
          "metadata": {},
          "execution_count": 170
        }
      ]
    },
    {
      "cell_type": "code",
      "source": [
        "#load the model\n",
        "model_rf_joblib = joblib.load('model_rf.pkl') "
      ],
      "metadata": {
        "id": "zJ2Kq05wb8OE"
      },
      "execution_count": null,
      "outputs": []
    },
    {
      "cell_type": "code",
      "source": [
        "#prediction\n",
        "model_rf_joblib.predict(X_test)"
      ],
      "metadata": {
        "colab": {
          "base_uri": "https://localhost:8080/"
        },
        "id": "_P_OdM0RUMAg",
        "outputId": "8264ee96-5789-4ec5-8db2-d88d30c2aefd"
      },
      "execution_count": null,
      "outputs": [
        {
          "output_type": "execute_result",
          "data": {
            "text/plain": [
              "array([0, 1, 1, 0, 0, 1, 1, 0, 1, 0, 0, 1, 0, 0, 0, 1, 0, 0, 1, 1, 0, 1,\n",
              "       0, 0, 1, 0, 0, 0, 0, 0, 0, 0, 0, 0, 1, 0, 1, 1, 1, 0, 1, 1, 1, 0,\n",
              "       1, 1, 1, 1, 0, 1, 1, 0, 1, 0, 0, 1, 0, 0, 0, 0, 0, 1, 1, 0, 1, 0,\n",
              "       1, 0, 0, 1, 1, 1, 1, 1, 0, 1, 1, 1, 0, 1, 0, 0, 0, 0, 1, 0, 0, 1,\n",
              "       0, 0, 1, 0, 0, 0, 1, 1, 0, 1, 0, 1, 0, 1, 0, 0, 1, 1, 0, 1, 0, 0,\n",
              "       1, 0, 0, 0, 1, 0, 0, 1, 1, 0, 0, 0, 1, 0, 1, 0, 0, 0, 1, 0, 1, 0,\n",
              "       0, 1, 1, 0, 1, 1, 1, 0, 0, 1, 0, 0, 1, 0, 1, 1, 1, 0, 0, 0, 0, 1,\n",
              "       0, 0, 0, 0, 1, 1, 1, 0, 0, 0, 1, 0, 1, 1, 0, 0, 1, 0, 1, 1, 0, 0,\n",
              "       0, 0, 1, 0, 1, 0, 0, 0, 1, 1, 0, 0, 1, 0, 0, 1, 0, 0, 0, 1, 0, 1,\n",
              "       1, 0, 1, 1, 1, 0, 1, 1, 0, 1, 1, 1, 0, 1, 0, 0, 1, 1, 0, 1, 1, 0,\n",
              "       0, 0, 0, 0, 0, 1, 1, 0, 1, 1, 0, 1, 1, 1, 0, 1, 0, 1, 0, 1, 1, 0,\n",
              "       1, 1, 1, 1, 0, 1, 0, 0, 1, 1, 1, 0, 0, 0, 1, 1, 1, 0, 1, 0, 0, 0])"
            ]
          },
          "metadata": {},
          "execution_count": 179
        }
      ]
    },
    {
      "cell_type": "markdown",
      "source": [
        "# Laboratorio API\n",
        "\n",
        "- Construir una api en  la que pasados las caracteristicas(por ejemplo desde Postman) realice la predicción \n",
        "- Construir un api en el que pasados las caracteristicsa como un archivo  archivo json(desde postman) la api realice una predicción.\n",
        "\n",
        "\n",
        "Para ello construya los siguientes endpoints:\n",
        "\n",
        "\n",
        "\n",
        "1. Construir una api en flask que cumpla la siguiente arquitectura \n",
        "\n",
        "```\n",
        "|---->Modelo\n",
        "      -web_app.py\n",
        "\n",
        "      |---->templates\n",
        "                -index.html  #Directorio con los archivos html\n",
        "      |---->DataModel\n",
        "                -model_rf.pkl  #Directorio con los datos almacenados del modelo\n",
        "      |---->Routes\n",
        "                -routes.py #Directorio con la libreria que tiene las rutas \n",
        "      |---->Librerias\n",
        "                -lib.py #Directorio con las librerias en python\n",
        "                -main_lib.py #Directorio que permite ejecutar las librerias lib, no es necesarios cuando se ejecute dentro de la api, se puede hacer una llamado directo a las librerias lib.py\n",
        "      \n",
        "\n",
        "\n",
        "```\n",
        "\n",
        "\n",
        "\n",
        "\n",
        "El archivo Routes/routes.py deberá tener los siguientes endpoints:\n",
        "\n",
        "\n",
        "1. Endpoint \"/\", debera contener el titulo del modelo, para ello deberá direccionar a un archivo con extension html que muestre el titulo del modelo.\n",
        "\n",
        "  ```\n",
        "  @app.route(\"/\")\n",
        "  def index():\n",
        "      return render_template(\"index.html\")\n",
        "\n",
        "  ```\n",
        "\n",
        "2. Endpoint \"/health\", deberá tener un metodo GET y POST, servirá para probar el estado de la API\n",
        "\n",
        "  ```\n",
        "  @app.route('/health', methods=['GET'])\n",
        "  def health():\n",
        "      \"\"\"\n",
        "      This view is aimed to verify the healthyness of the API\n",
        "      :return:\n",
        "      \"\"\"\n",
        "      return Response('{\"status\":\"OK\"}', status=200)\n",
        "  ```\n",
        "\n",
        "3. Endpoint \"/PrediccionParams\", deberá tener un metodo GET y un metodo POST, con las predicciones del modelo. Para ello debera lear el archivo .pkl desde el directorio DataModel y tomar las caracteristicas desde los parametros, defina como claves de los parametros los nombres \"X1\" y \"X2\".\n",
        "\n",
        "4. Endpoint \"/PrediccionJson\", deberá tener un metodo GET y un metodo POST, con las predicciones del modelo. Para ello debera lear el archivo .pkl desde el directorio DataModel y tomar las caracteristicas del archivo json. Al final se debe mostrar en un archivo html los valores de la predicción.\n",
        "\n",
        "\n",
        "\n",
        "Ayuda:\n",
        "\n",
        "[Como pasar archivos json  y parametros](https://flask.palletsprojects.com/en/2.2.x/patterns/fileuploads/).\n",
        "\n",
        "Se puede definir un endpoint llamada read_json y desde alli se sugiere definir una rutina auxiliar (read_params_and_file_json) que recibe los parametros que vienen desde postman u otra aplicación. \n",
        "\n",
        "```\n",
        "from flask import Response,request\n",
        "```\n",
        "\n",
        "\n",
        "```\n",
        "@app.route('/read_json', methods=['GET', 'POST'])\n",
        "def read_json():\n",
        "   \n",
        "    read_params_and_file_json(request.files, **request.args)   \n",
        "    return Response('{\"status\":\"OK\"}', status=200)\n",
        "```\n",
        "\n",
        "\n",
        "```\n",
        "def read_params_and_file_json(*args, **kwargs):\n",
        "\n",
        "    a = kwargs[\"variable_entero\"]\n",
        "    b = kwargs[\"variable_string\"]\n",
        "    print(a,b)\n",
        "    \n",
        "    file_json = args[0]\n",
        "    b = json.load(file_json[\"ArchivoJson\"])\n",
        "    print(b)\n",
        "    return \"done\"\n",
        "```\n",
        "\n",
        "\n",
        "En postman, se deberán pasar los párametros como se muestra en la imagen:\n",
        "\n",
        "![parametros](https://github.com/hernansalinas/Curso_aprendizaje_estadistico/blob/main/Assesment/imagenes_api/params.png?raw=true)\n",
        "\n",
        "\n",
        "y el archivo json a través del body como se muestra en la imagen:\n",
        "\n",
        "\n",
        "![arhivo](https://github.com/hernansalinas/Curso_aprendizaje_estadistico/blob/main/Assesment/imagenes_api/sendfiles.png?raw=true)\n",
        "\n",
        "\n",
        "construya el archivo json con el nombre hello.json con alguna información de prueba:\n",
        "\n",
        "```\n",
        "{\n",
        "  \"key1\": \"LLave tipo string\",\n",
        "  \"key2\": 2,  \n",
        "  \"Nombres\": [\"Pedro\", \"Juan\", \"Jasinto\", \"Jose\"],\n",
        "  \"NotasCursos\": {\"Estadistica\": 1, \"Mecanica Cuantica\": 2, \"Atomica\": \"N/A\"}\n",
        "}\n",
        "\n",
        "```\n"
      ],
      "metadata": {
        "id": "myAF7N3g136W"
      }
    },
    {
      "cell_type": "code",
      "source": [],
      "metadata": {
        "id": "03uJcAvrL5Hd"
      },
      "execution_count": null,
      "outputs": []
    }
  ]
}
