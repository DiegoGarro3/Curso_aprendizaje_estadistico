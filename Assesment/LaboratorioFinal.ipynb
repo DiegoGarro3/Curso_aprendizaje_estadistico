{
  "nbformat": 4,
  "nbformat_minor": 0,
  "metadata": {
    "colab": {
      "provenance": []
    },
    "kernelspec": {
      "name": "python3",
      "display_name": "Python 3"
    },
    "language_info": {
      "name": "python"
    }
  },
  "cells": [
    {
      "cell_type": "markdown",
      "source": [
        "# Laboratorio final.\n",
        "## Aprendizaje estadístico."
      ],
      "metadata": {
        "id": "UpxYqVFJ0OlI"
      }
    },
    {
      "cell_type": "markdown",
      "source": [
        "Los siguientes dataset (DataTrain,DataTest)contiene información para entrenar un modelo y realizar la predecicción de la diferencia  del  consumo de combustible en barcos, su tarea será encontrar el mejor modelo que permita determinar la diferencia del contador de flujo de combustible, empleando los datos suministrados en el dataset de nombre DataTest.\n",
        "\n",
        "\n",
        "La descripcion de los dataset son dadas a continuación:\n",
        "\n",
        "- El  dataset DataTrain contiene datos para las  variables : Date\tLatitude_degree\tLongitude_degree\tBeaufort\tSpeed(Ground)\tM/E REVOLUTION\tM/E F O FLOW COUNTER,  \n",
        "\n",
        "- El dataset Data_trainVyg, contiene datos de Date(UTC)\tDRAFT.\n",
        "\n",
        "- El dataset DataTest, es el dataset con el que probarás tu modelo después de ser entrenado.\n",
        "\n",
        "La descripción de las variables son las siguientes:\n",
        "\n",
        "\n",
        "- Date: Es la fecha en que se registraron los datos\n",
        "\n",
        "- Latitude_degree: Es la coordenada que indica la posición norte o sur de un punto en la superficie de la Tierra o de otro cuerpo celeste. Se mide en grados, minutos y segundos o en grados decimales, desde el ecuador (0°) hasta los polos (90° o -90°). Por ejemplo, la latitud de Medellín es 6.244° N¹.\n",
        "\n",
        "- Longitude_degree: Es la coordenada que indica la posición este o oeste de un punto en la superficie de la Tierra o de otro cuerpo celeste. Se mide en grados, minutos y segundos o en grados decimales, desde el meridiano de Greenwich (0°) hasta los antimeridianos (180° o -180°). Por ejemplo, la longitud de Medellín es 75.574° W¹.\n",
        "\n",
        "\n",
        "- Beaufort: Es una escala que mide la intensidad del viento basándose en el estado del mar o en los efectos del viento sobre la superficie terrestre. Tiene 13 niveles, desde 0 (calma) hasta 12 (huracán). Por ejemplo, un viento de fuerza 5 en la escala de Beaufort tiene una velocidad de 29 a 38 km/h y produce olas moderadas.\n",
        "\n",
        "\n",
        "- Speed(Ground): Es la velocidad a la que se desplaza un objeto sobre la superficie terrestre, normalmente en kilómetros por hora (km/h) o en nudos (kt). Por ejemplo, la velocidad de un avión comercial puede ser de unos 900 km/h o 486 kt.\n",
        "\n",
        "\n",
        "- M/E REVOLUTION : Es la velocidad angular o número de revoluciones por minuto (rpm) de un motor eléctrico o de una máquina. Por ejemplo, un motor eléctrico puede tener una velocidad de 1800 rpm.\n",
        "\n",
        "\n",
        "- DRAFT: Es la profundidad vertical de un barco o de otro objeto flotante desde la línea de flotación hasta el fondo de la quilla. Se mide normalmente en metros (m) o en pies (ft). Por ejemplo, el calado de un portaaviones puede ser de unos 12 m o 39 ft.\n",
        "\n",
        "\n",
        "- M/E F O FLOW COUNTER: Es el contador que mide el flujo de combustible (fuel oil) que entra o sale de un motor eléctrico o de una máquina. Por ejemplo, un contador puede registrar que un motor consume 10 litros de combustible por hora.\n",
        "\n"
      ],
      "metadata": {
        "id": "hwuDP9mnu51V"
      }
    },
    {
      "cell_type": "code",
      "source": [],
      "metadata": {
        "id": "wCggmsZcwM4s"
      },
      "execution_count": null,
      "outputs": []
    }
  ]
}