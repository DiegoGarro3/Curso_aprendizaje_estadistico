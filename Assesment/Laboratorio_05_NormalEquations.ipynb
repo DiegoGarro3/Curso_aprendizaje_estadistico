{
  "nbformat": 4,
  "nbformat_minor": 0,
  "metadata": {
    "colab": {
      "provenance": []
    },
    "kernelspec": {
      "name": "python3",
      "display_name": "Python 3"
    },
    "language_info": {
      "name": "python"
    }
  },
  "cells": [
    {
      "cell_type": "markdown",
      "source": [
        "# Normal equation\n",
        "Se puede encontrar una solucion exacta para theta sin necesidad de emplear el gradiente descente de la sesiones pasadas, para ellos se puede encontrar el valor minimo de theta y a partir de alli determinar el valor de theta que minimiza J.\n",
        "\n",
        "Los pasos para esta minimizacion se dejan como tarea, y pueden ser calculados según lo siguiente:\n",
        "\n",
        "Si J es la funcion de coste dada por:\n",
        "\n",
        "\\begin{equation}\n",
        "J(\\theta_1,\\theta_2,\\theta_3, ...,\\theta_n )=\\frac{1}{2m} \\sum_{i = 1}^m (\\Theta^{T} X - \\hat{y}^{(i)})^2\n",
        "\\end{equation}\n",
        "\n",
        "\n",
        "Demostrar que:\n",
        "\n",
        "- $J(\\theta_1,\\theta_2,\\theta_3, ...,\\theta_n ) = \\frac{1}{2m} (\\Theta ^ T X - y^T) (\\Theta ^ T X - y^T)^T$\n",
        "\n",
        "- $J= (\\Theta ^T X) (\\Theta ^T X)^T - 2(\\Theta ^T X)Y  + Y^TY $\n",
        "\n",
        "\n",
        "- $ \\nabla _{\\theta} J = \\frac{1}{m} (2 X(X^T \\Theta) -2XY)$\n",
        "\n",
        "\n",
        "Para encontrar el valor minimo de \\theta,  $\\nabla _{\\theta} J = 0$,\n",
        "\n",
        "- $\\Theta = (X^T X)^{-1} X^T y$\n",
        "\n",
        "\n",
        "\n",
        "En este caso,tenemos que:\n",
        "\n",
        "sea $X \\in R^{n\\times m}$ ,  $X^T \\in R^{m\\times n}$\n",
        "\n",
        "sea $Y \\in R^{m \\times 1}$,  $Y^T \\in R^{1 \\times m}$\n",
        "\n",
        "sea $\\Theta \\in R^{n \\times 1}$, $\\Theta^T \\in R^{1 \\times n}$\n",
        "\n",
        "\n",
        "\n",
        "\n",
        "Para la demostracion anterior emplee las siguientes propiedades:\n",
        "\n",
        "- $z^T z= \\sum_i z_i^2$\n",
        "- $a^T b = b^Ta$\n",
        "- $\\nabla _x b^T x = b$\n",
        "- $\\nabla _x  x^T A x = 2Ax$\n",
        "\n",
        "donde a, b, x son matrices, $\\nabla_x$ es la derivada respecto al vector x, y A es una matriz simétrica\n",
        "\n",
        "\n"
      ],
      "metadata": {
        "id": "LNutRFwDsT-B"
      }
    },
    {
      "cell_type": "markdown",
      "source": [
        "1. Para los datos del laboratorio anterior aplicar la ecuacion normal.\n",
        "2. Tomar el dataset de las casas de Boston y construir un modelo de regresión mutivariada.\n",
        "\n",
        "```\n",
        "# Tomar los datos de las casas de boston y hacer una regresion lineal tomando\n",
        "# el average number of rooms per dwelling.\n",
        "data_url = \"http://lib.stat.cmu.edu/datasets/boston\"\n",
        "raw_df = pd.read_csv(data_url, sep=\"\\s+\", skiprows=22, header=None)\n",
        "data = np.hstack([raw_df.values[::2, :], raw_df.values[1::2, :2]])\n",
        "target = raw_df.values[1::2, 2]\n",
        "\n",
        "df = pd.DataFrame({\"mean_\":target, \"rm\":data[:,5]})\n",
        "\n",
        "```"
      ],
      "metadata": {
        "id": "ZZyetWq9sWxq"
      }
    },
    {
      "cell_type": "markdown",
      "source": [
        "# Intepretación Probabilistica.\n",
        "\n",
        "Supongamos que tenemos una caracteristica $x_i$ con m valores de entrenamiento, si asumimos que cada valor $y_i$ presenta una dispersión gaussiana $\\epsilon_i$, cada $y_i$ podrá tener el siguiente valor:\n",
        "\n",
        "$y^{i} = \\Theta^T X^{(i)} + \\epsilon_i$\n",
        "\n",
        "Asumiendo ademas que el ruido gaussiando es aleatorio y esta distribuido de forma identica, con media cero y varianza $\\sigma$, tenemos que la probabilidad de que la cantidad y tenga  dispersion $\\epsilon_i$ es:\n",
        "\\begin{equation}\n",
        "p(\\epsilon^{(i)})=\\frac{1}{\\sqrt{2\\pi\\sigma}} e^{-\\frac{ \\left( \\epsilon^{(i)}\\right)^2 }{2\\sigma ^2}}\n",
        "\\end{equation}\n",
        "\n",
        "Escribiendo, lo anterior en terminos de la probabilidad de obtener un valor de $y^{i}$ dado un $x^{i}$ parametrizado por $\\theta$ obtenemos que:\n",
        "\n",
        "\n",
        "\\begin{equation}\n",
        "p_i(y^{i}|x^{i};\\theta)=\\frac{1}{\\sqrt{2\\pi\\sigma}} e^{-\\frac{ \\left( y_i - \\Theta^T X^{(i)} \\right)^2 }{2\\sigma ^2}}\n",
        "\\end{equation}\n",
        "\n",
        "\n",
        "\n",
        "Si ausmimos independencia estadística de cada $\\epsilon^{(i)}$, la probabilidad $L(\\theta)$ asociada a toda la distribución de puntos viene dada por:\n",
        "\n",
        "\\begin{equation}\n",
        "\\cal{L}(\\theta) = p(\\vec{y}|X;\\theta)=\\prod_{i=1}^{n} p_i(y^{i}|x^{i};\\theta)\n",
        "\\end{equation}\n",
        "\n",
        "\n",
        "\n",
        "\\begin{equation}\n",
        "\\cal{L}(\\theta) =\\prod_{i=1}^{n} \\frac{1}{\\sqrt{2\\pi\\sigma}} e^{-\\frac{ \\left( y_i - \\Theta^T X^{(i)} \\right)^2 }{2\\sigma ^2}}\n",
        "\\end{equation}\n",
        "\n",
        "para tener la mejor estimación posible de los valores que se deben elegir de  $\\theta$, se escogeran los parámetros que generan la mayor probabilidad de ocurrencia según las observaciones, es decir, aquellos valores para el cual $L(\\theta)$ es máximo, si aplicamos el logaritmo natural antes de máximar tenemos que:\n",
        "\n",
        "\\begin{equation}\n",
        "\\ln \\cal{L}(\\theta) = \\cal{l}(\\theta) = \\ln \\left[\\prod_{i=1}^{n} \\frac{1}{\\sqrt{2\\pi\\sigma}} e^{-\\frac{ \\left( y_i - \\Theta^T X^{(i)} \\right)^2 }{2\\sigma ^2}} \\right]\n",
        "\\end{equation}\n",
        "\n",
        "\n",
        "Después de un par de pasos se puede encontrar que:\n",
        "\n",
        "\\begin{equation}\n",
        "\\cal{l}(\\theta) = n\\ln \\frac{1}{\\sqrt{2\\pi\\sigma}} - \\frac{1}{2\\sigma^2} \\sum_{i=1}^{n} (y^{i}-\\Theta^T X^{i})^2\n",
        "\\end{equation},\n",
        "\n",
        "maximar $\\cal{l(\\theta)}$ equivale a encontrar donde  $\\nabla_{\\theta} \\cal{l(\\theta)} = 0$. Lo anterior muestra por que la elección de minimos cuadrados puede ser una buena eleccción para el analisis de los datos."
      ],
      "metadata": {
        "id": "jtlcDPkgsw0t"
      }
    }
  ]
}